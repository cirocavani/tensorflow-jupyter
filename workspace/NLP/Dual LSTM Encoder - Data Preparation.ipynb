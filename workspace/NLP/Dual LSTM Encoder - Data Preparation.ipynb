{
 "cells": [
  {
   "cell_type": "markdown",
   "metadata": {},
   "source": [
    "**Dual LSTM Encoder for Dialog Response Generation**\n",
    "\n",
    "http://www.wildml.com/2016/07/deep-learning-for-chatbots-2-retrieval-based-model-tensorflow/\n",
    "\n",
    "https://github.com/dennybritz/chatbot-retrieval\n",
    "\n",
    "https://github.com/rkadlec/ubuntu-ranking-dataset-creator\n",
    "\n",
    "https://arxiv.org/abs/1506.08909"
   ]
  },
  {
   "cell_type": "code",
   "execution_count": 1,
   "metadata": {},
   "outputs": [
    {
     "data": {
      "text/plain": [
       "'1.2.0'"
      ]
     },
     "execution_count": 1,
     "metadata": {},
     "output_type": "execute_result"
    }
   ],
   "source": [
    "import tensorflow as tf\n",
    "tf.VERSION"
   ]
  },
  {
   "cell_type": "markdown",
   "metadata": {},
   "source": [
    "### 1. Download Dataset"
   ]
  },
  {
   "cell_type": "code",
   "execution_count": 2,
   "metadata": {
    "collapsed": true
   },
   "outputs": [],
   "source": [
    "# https://stackoverflow.com/a/39225039\n",
    "import requests\n",
    "\n",
    "def download_file_from_google_drive(share_id, filename):\n",
    "    GOOGLE_DRIVE_URL = \"https://drive.google.com/uc?export=download\"\n",
    "\n",
    "    session = requests.Session()\n",
    "\n",
    "    response = session.get(GOOGLE_DRIVE_URL, params={'id': share_id}, stream=True)\n",
    "    \n",
    "    token = None\n",
    "    for key, value in response.cookies.items():\n",
    "        if key.startswith('download_warning'):\n",
    "            token = value\n",
    "            break\n",
    "\n",
    "    if not token:\n",
    "        raise Exception('Token not found')\n",
    "        \n",
    "    params = {'id': share_id, 'confirm': token}\n",
    "    response = session.get(GOOGLE_DRIVE_URL, params=params, stream=True)\n",
    "\n",
    "    with open(filename, 'wb') as f:\n",
    "        for chunk in response.iter_content(32768):\n",
    "            if chunk: # filter out keep-alive new chunks\n",
    "                f.write(chunk)"
   ]
  },
  {
   "cell_type": "code",
   "execution_count": 3,
   "metadata": {},
   "outputs": [
    {
     "name": "stdout",
     "output_type": "stream",
     "text": [
      "Downloading udc.tar.gz...\n",
      "Done!\n",
      "Extracting ./data/train.csv\n",
      "Extracting ./data/valid.csv\n",
      "Extracting ./data/test.csv\n"
     ]
    },
    {
     "data": {
      "text/plain": [
       "['udc.tar.gz', 'train.csv', 'valid.csv', 'test.csv']"
      ]
     },
     "execution_count": 3,
     "metadata": {},
     "output_type": "execute_result"
    }
   ],
   "source": [
    "import os\n",
    "import tarfile\n",
    "import shutil\n",
    "\n",
    "HOME_DIR = 'ubuntu'\n",
    "DATA_DIR = os.path.join(HOME_DIR, 'data')\n",
    "DATASET_FILENAME = 'udc.tar.gz'\n",
    "DATASET_PACKAGE = os.path.join(DATA_DIR, DATASET_FILENAME)\n",
    "SHARE_ID = '0B_bZck-ksdkpVEtVc1R6Y01HMWM'\n",
    "\n",
    "TRAIN_CSV = os.path.join(DATA_DIR, 'train.csv')\n",
    "VALID_CSV = os.path.join(DATA_DIR, 'valid.csv')\n",
    "TEST_CSV = os.path.join(DATA_DIR, 'test.csv')\n",
    "\n",
    "if not os.path.isdir(DATA_DIR):\n",
    "    os.makedirs(DATA_DIR)\n",
    "\n",
    "train_missing = not os.path.isfile(TRAIN_CSV)\n",
    "valid_missing = not os.path.isfile(VALID_CSV)\n",
    "test_missing = not os.path.isfile(TEST_CSV)\n",
    "\n",
    "missing = train_missing or valid_missing or test_missing\n",
    "\n",
    "if missing and not os.path.isfile(DATASET_PACKAGE):\n",
    "    print('Downloading {}...'.format(DATASET_FILENAME))\n",
    "    download_file_from_google_drive(SHARE_ID, DATASET_PACKAGE)\n",
    "    print('Done!')\n",
    "\n",
    "def extract(tar, filename, dst_path):\n",
    "    print('Extracting', filename)\n",
    "    dst_file = os.path.join(dst_path, os.path.basename(filename))\n",
    "    with open(dst_file, 'wb') as fout:\n",
    "        fin = tar.extractfile(filename)\n",
    "        shutil.copyfileobj(fin, fout)\n",
    "\n",
    "if missing:\n",
    "    with tarfile.open(DATASET_PACKAGE, mode='r:gz') as t:\n",
    "        if train_missing:\n",
    "            extract(t, './data/train.csv', DATA_DIR)\n",
    "        if valid_missing:\n",
    "            extract(t, './data/valid.csv', DATA_DIR)\n",
    "        if test_missing:\n",
    "            extract(t, './data/test.csv', DATA_DIR)\n",
    "\n",
    "os.listdir(DATA_DIR)"
   ]
  },
  {
   "cell_type": "code",
   "execution_count": 4,
   "metadata": {},
   "outputs": [
    {
     "name": "stdout",
     "output_type": "stream",
     "text": [
      "Train samples...\n",
      "\n",
      "Context,Utterance,Label\n",
      "\n",
      "\"i think we could import the old comment via rsync , but from there we need to go via email . i think it be easier than cach the status on each bug and than import bite here and there __eou__ __eot__ it would be veri easi to keep a hash db of message-id __eou__ sound good __eou__ __eot__ ok __eou__ perhap we can ship an ad-hoc apt_preferec __eou__ __eot__ version ? __eou__ __eot__ thank __eou__ __eot__ not yet __eou__ it be cover by your insur ? __eou__ __eot__ yes __eou__ but it 's realli not the right time : / __eou__ with a chang hous upcom in 3 week __eou__ __eot__ you will be move into your hous soon ? __eou__ post a messag recent which explain what to do if the autoconfigur doe not do what you expect __eou__ __eot__ how urgent be # 896 ? __eou__ __eot__ not particular urgent , but a polici violat __eou__ __eot__ i agre that we should kill the -novtswitch __eou__ __eot__ ok __eou__ __eot__ would you consid a packag split a featur ? __eou__ __eot__ context ? __eou__ __eot__ split xfonts* out of xfree86* . one upload for the rest of the life and that 's it __eou__ __eot__ split the sourc packag you mean ? __eou__ __eot__ yes . same binari packag . __eou__ __eot__ i would prefer to avoid it at this stage . this be someth that have go into xsf svn , i assum ? __eou__ __eot__\",basic each xfree86 upload will not forc user to upgrad 100mb of font for noth __eou__ no someth i do in my spare time . __eou__,1\n",
      "\n",
      "\"i 'm not suggest all - onli the one you modifi . __eou__ __eot__ ok , it sound like you re agre with me , then __eou__ though rather than `` the one we modifi '' , my idea be `` the one we need to merg '' __eou__ __eot__\",sorri __eou__ i think it be ubuntu relat . __eou__,0\n",
      "\n",
      "...\n",
      "\n",
      "Validation samples...\n",
      "\n",
      "Context,Ground Truth Utterance,Distractor_0,Distractor_1,Distractor_2,Distractor_3,Distractor_4,Distractor_5,Distractor_6,Distractor_7,Distractor_8\n",
      "\n",
      "ani idea on how lts will be releas ? __eou__ __eot__ alreadi be __eou__ __eot__,we be talk 12.04 not 10.04 __eou__,you rememb my flash issu from yesterday or the day befor ? __eou__,\"oh , no idea other be probabl ok __eou__ update-manag or even apt __eou__ it will be sort to the right packag by a bug triager , dont worri about it to much __eou__ sinc uniti be a compiz plugin i would say everyon who use uniti doe : ) __eou__ as i say abov , uniti be a compiz plugin ... so it would be heavili notic if compiz wouldnt work __eou__\",\"no , greenit be say his download speed be slow , when connect to a machin on his same lan . i 'm unsur whi you think set it up to go to the internet would be a ) easier , and b ) make it ani faster __eou__ well that be probabl the issu then . he need to be at 1280x1024 instead of 1024x768 __eou__\",\"lsb_releas -sc __eou__ well ... regardless . i believ the solut be go to be to live boot to cd , chroot into the machin and set a password . __eou__ boot to live cd . open a termin and type sudo -s. mount /dev/sdxi /mnt where x be the disk and y be the partit . typic /dev/sda1 . then chroot /mnt . to creat a user : useradd -g admin mynewusernam use an actual user name . __eou__ if we be do more than this we would want to mount more thing ... but for this we shouldnt need to __eou__ then , becaus i like thing clean , umount /dev/sda1 ( or whatev your partit be ) and reboot to the hd . __eou__ you would have to type exit befor the umount ... sorri ... to leav the chroot jail __eou__ at login , press the littl icon thingi in the corner and choos uniti . __eou__\",you can buy _anything_ in china __eou__,no __eou__,sudo restart lightdm __eou__,you be still ask for the uniti logout menu right ? __eou__,\"so i be work as a linux admin intern , and my boss tell me to use `` sudo su - '' __eou__ all rhel or cento box ; be there a reason for that ? __eou__ be it a tradit thing ? do sudo -i not exist at some point __eou__\"\n",
      "\n",
      "how much hdd use ubuntu default instal ? __eou__ __eot__ https : //help.ubuntu.com/community/installation/systemrequir __eou__ it wont requir 15gb to be honest ... __eou__ __eot__,that whi i ask how much be default instal ? : ) __eou__,all of this possibl in older version of ubuntu __eou__ *was possibl __eou__,: be that a question ? __eou__,yes __eou__,\"thank __eou__ i would imagin so , the site bonni link earlier explicit state turn hamachi off __eou__\",yes i ve investig that alreadi . it seem you ca n't treat both super key differ . __eou__,not realli . i use urxvt myself . __eou__,\"thank a lot , realli ! __eou__\",\"as someon els suggest , close update-manag , and open from termin update-manag -d but ... it might be wise to wait for a point releas . 1204 be al veri differ than 1004 . you might grab a dvd and load it in vm and see if you be comfort with the chang . __eou__\",you re welcom .. sinc 12.04 throw dnsmasq into the mix by default ( see http : //www.stgraber.org/2012/02/24/dns-in-ubuntu-12-04/ ) complex rise a bite .. mayb that page have some info on squid __eou__\n",
      "\n",
      "...\n",
      "\n",
      "Test samples...\n",
      "\n",
      "Context,Ground Truth Utterance,Distractor_0,Distractor_1,Distractor_2,Distractor_3,Distractor_4,Distractor_5,Distractor_6,Distractor_7,Distractor_8\n",
      "\n",
      "\"anyon know whi my stock oneir export env var usernam ' ? i mean what be that use for ? i know of $ user but not $ usernam . my precis instal doe n't export usernam __eou__ __eot__ look like it use to be export by lightdm , but the line have the comment `` // fixm : be this requir ? '' so i guess it be n't surpris it be go __eou__ __eot__ thank ! how the heck do you figur that out ? __eou__ __eot__ https : //bugs.launchpad.net/lightdm/+bug/864109/comments/3 __eou__ __eot__\",nice thank ! __eou__,\"wrong channel for it , but check efnet.org , unoffici page . __eou__\",\"everi time the kernel chang , you will lose video __eou__ yep __eou__\",ok __eou__,! nomodeset > acer __eou__ i 'm assum it be a driver issu . __eou__ ! pm > acer __eou__ i do n't pm . ; ) __eou__ oop sorri for the cap __eou__,\"http : //www.ubuntu.com/project/about-ubuntu/deriv ( some call them deriv , other call them flavor , same differ ) __eou__\",thx __eou__ unfortun the program be n't instal from the repositori __eou__,how can i check ? by do a recoveri for test ? __eou__,my humbl apolog __eou__,# ubuntu-offtop __eou__\n",
      "\n",
      "\"i set up my hd such that i have to type a passphras to access it at boot . how can i remov that passwrd , and just boot up normal . i do this at instal , it work fine , just tire of have reboot where i need to be at termin to type passwd in . help ? __eou__ __eot__ backup your data , and re-instal without encrypt `` might '' be the easiest method __eou__ __eot__\",\"so you dont know , ok , anyon els ? __eou__ you be like , yah my mous doesnt work , reinstal your os lolol what a joke __eou__\",\"nmap be nice , but it be n't what i be look for . i final find it again : mtr ( my tracerout ) be what i be look for . i ll be keep nmap handi though . __eou__\",ok __eou__,\"cdrom work fine on window . __eou__ i dont think it have anyth to do with the bure process , cds work fine on my desktop and my other ubuntu lap __eou__\",\"ah yes , i have read return as rerun __eou__\",hm ? __eou__,\"not the case , lts be everi other .04 releas . the .04 be n't alway more stabl __eou__ i would reinstal with precis __eou__ you can restor user data and such from backup __eou__\",pretti much __eou__,i use the one i download from amd __eou__,\"ffmpeg be part of the packag , quixotedon , at least i 'm quit sure it still be __eou__ if not just instal ffmpeg __eou__\"\n",
      "\n"
     ]
    }
   ],
   "source": [
    "def show(file, lines=3):\n",
    "    with open(file, 'r') as f:\n",
    "        for _ in range(lines):\n",
    "            print(next(f).strip())\n",
    "            print()\n",
    "\n",
    "print('Train samples...\\n')\n",
    "show(TRAIN_CSV)\n",
    "print('...\\n')\n",
    "print('Validation samples...\\n')\n",
    "show(VALID_CSV)\n",
    "print('...\\n')\n",
    "print('Test samples...\\n')\n",
    "show(TEST_CSV)"
   ]
  },
  {
   "cell_type": "markdown",
   "metadata": {},
   "source": [
    "### 2. Create Vocabulary"
   ]
  },
  {
   "cell_type": "code",
   "execution_count": 5,
   "metadata": {},
   "outputs": [
    {
     "name": "stdout",
     "output_type": "stream",
     "text": [
      "Help on class VocabularyProcessor in module tensorflow.contrib.learn.python.learn.preprocessing.text:\n",
      "\n",
      "class VocabularyProcessor(builtins.object)\n",
      " |  Maps documents to sequences of word ids.\n",
      " |  \n",
      " |  Methods defined here:\n",
      " |  \n",
      " |  __init__(self, max_document_length, min_frequency=0, vocabulary=None, tokenizer_fn=None)\n",
      " |      Initializes a VocabularyProcessor instance.\n",
      " |      \n",
      " |      Args:\n",
      " |        max_document_length: Maximum length of documents.\n",
      " |          if documents are longer, they will be trimmed, if shorter - padded.\n",
      " |        min_frequency: Minimum frequency of words in the vocabulary.\n",
      " |        vocabulary: CategoricalVocabulary object.\n",
      " |      \n",
      " |      Attributes:\n",
      " |        vocabulary_: CategoricalVocabulary object.\n",
      " |  \n",
      " |  fit(self, raw_documents, unused_y=None)\n",
      " |      Learn a vocabulary dictionary of all tokens in the raw documents.\n",
      " |      \n",
      " |      Args:\n",
      " |        raw_documents: An iterable which yield either str or unicode.\n",
      " |        unused_y: to match fit format signature of estimators.\n",
      " |      \n",
      " |      Returns:\n",
      " |        self\n",
      " |  \n",
      " |  fit_transform(self, raw_documents, unused_y=None)\n",
      " |      Learn the vocabulary dictionary and return indexies of words.\n",
      " |      \n",
      " |      Args:\n",
      " |        raw_documents: An iterable which yield either str or unicode.\n",
      " |        unused_y: to match fit_transform signature of estimators.\n",
      " |      \n",
      " |      Returns:\n",
      " |        x: iterable, [n_samples, max_document_length]. Word-id matrix.\n",
      " |  \n",
      " |  reverse(self, documents)\n",
      " |      Reverses output of vocabulary mapping to words.\n",
      " |      \n",
      " |      Args:\n",
      " |        documents: iterable, list of class ids.\n",
      " |      \n",
      " |      Yields:\n",
      " |        Iterator over mapped in words documents.\n",
      " |  \n",
      " |  save(self, filename)\n",
      " |      Saves vocabulary processor into given file.\n",
      " |      \n",
      " |      Args:\n",
      " |        filename: Path to output file.\n",
      " |  \n",
      " |  transform(self, raw_documents)\n",
      " |      Transform documents to word-id matrix.\n",
      " |      \n",
      " |      Convert words to ids with vocabulary fitted with fit or the one\n",
      " |      provided in the constructor.\n",
      " |      \n",
      " |      Args:\n",
      " |        raw_documents: An iterable which yield either str or unicode.\n",
      " |      \n",
      " |      Yields:\n",
      " |        x: iterable, [n_samples, max_document_length]. Word-id matrix.\n",
      " |  \n",
      " |  ----------------------------------------------------------------------\n",
      " |  Class methods defined here:\n",
      " |  \n",
      " |  restore(filename) from builtins.type\n",
      " |      Restores vocabulary processor from given file.\n",
      " |      \n",
      " |      Args:\n",
      " |        filename: Path to file to load from.\n",
      " |      \n",
      " |      Returns:\n",
      " |        VocabularyProcessor object.\n",
      " |  \n",
      " |  ----------------------------------------------------------------------\n",
      " |  Data descriptors defined here:\n",
      " |  \n",
      " |  __dict__\n",
      " |      dictionary for instance variables (if defined)\n",
      " |  \n",
      " |  __weakref__\n",
      " |      list of weak references to the object (if defined)\n",
      "\n"
     ]
    }
   ],
   "source": [
    "help(tf.contrib.learn.preprocessing.VocabularyProcessor)"
   ]
  },
  {
   "cell_type": "markdown",
   "metadata": {},
   "source": [
    "**Exploration**\n",
    "\n",
    "Parameters:\n",
    "\n",
    "* `max_document_length`\n",
    "* `min_frequency`"
   ]
  },
  {
   "cell_type": "code",
   "execution_count": 6,
   "metadata": {
    "collapsed": true
   },
   "outputs": [],
   "source": [
    "%matplotlib inline\n",
    "\n",
    "import pandas as pd\n",
    "import matplotlib.pyplot as plt\n",
    "\n",
    "plt.rc('figure', figsize=(16.0, 8.0))"
   ]
  },
  {
   "cell_type": "code",
   "execution_count": 7,
   "metadata": {},
   "outputs": [
    {
     "name": "stdout",
     "output_type": "stream",
     "text": [
      "CPU times: user 6.06 s, sys: 206 ms, total: 6.26 s\n",
      "Wall time: 6.28 s\n"
     ]
    }
   ],
   "source": [
    "%%time\n",
    "train_df = pd.read_csv(TRAIN_CSV)\n",
    "train_df.Label = train_df.Label.astype('category')"
   ]
  },
  {
   "cell_type": "code",
   "execution_count": 8,
   "metadata": {},
   "outputs": [
    {
     "name": "stdout",
     "output_type": "stream",
     "text": [
      "count    1000000.000000\n",
      "mean          86.339190\n",
      "std           74.929711\n",
      "min            5.000000\n",
      "25%           37.000000\n",
      "50%           63.000000\n",
      "75%          108.000000\n",
      "max         1879.000000\n",
      "Name: Context, dtype: float64\n",
      "CPU times: user 15 s, sys: 1.33 s, total: 16.3 s\n",
      "Wall time: 16.6 s\n"
     ]
    }
   ],
   "source": [
    "%%time\n",
    "train_context_len = train_df.Context.str.split().str.len()\n",
    "context_stats = train_context_len.describe()\n",
    "print(context_stats)"
   ]
  },
  {
   "cell_type": "code",
   "execution_count": 9,
   "metadata": {},
   "outputs": [
    {
     "name": "stdout",
     "output_type": "stream",
     "text": [
      "220\n"
     ]
    }
   ],
   "source": [
    "import math\n",
    "\n",
    "Q1 = context_stats['25%']\n",
    "Q3 = context_stats['75%']\n",
    "\n",
    "max_len = math.ceil((Q3 + 1.5 * (Q3 - Q1)) / 10) * 10\n",
    "\n",
    "print(max_len)"
   ]
  },
  {
   "cell_type": "code",
   "execution_count": 10,
   "metadata": {},
   "outputs": [
    {
     "data": {
      "text/plain": [
       "<matplotlib.text.Text at 0x7f8004037b70>"
      ]
     },
     "execution_count": 10,
     "metadata": {},
     "output_type": "execute_result"
    },
    {
     "data": {
      "image/png": "[encoded data removed]",
      "text/plain": [
       "<matplotlib.figure.Figure at 0x7f81239c4be0>"
      ]
     },
     "metadata": {},
     "output_type": "display_data"
    }
   ],
   "source": [
    "train_context_len.hist(bins=100)\n",
    "plt.axvline(max_len, color='r')\n",
    "plt.title('Training Context Length Statistics')"
   ]
  },
  {
   "cell_type": "code",
   "execution_count": 11,
   "metadata": {},
   "outputs": [
    {
     "name": "stdout",
     "output_type": "stream",
     "text": [
      "count    1000000.000000\n",
      "mean          17.246391\n",
      "std           16.422901\n",
      "min            1.000000\n",
      "25%            7.000000\n",
      "50%           13.000000\n",
      "75%           22.000000\n",
      "max          653.000000\n",
      "Name: Utterance, dtype: float64\n",
      "CPU times: user 4.12 s, sys: 281 ms, total: 4.4 s\n",
      "Wall time: 4.38 s\n"
     ]
    }
   ],
   "source": [
    "%%time\n",
    "train_utterance_len = train_df.Utterance.str.split().str.len()\n",
    "print(train_utterance_len.describe())"
   ]
  },
  {
   "cell_type": "code",
   "execution_count": 12,
   "metadata": {},
   "outputs": [
    {
     "data": {
      "text/plain": [
       "<matplotlib.text.Text at 0x7f8003efdf60>"
      ]
     },
     "execution_count": 12,
     "metadata": {},
     "output_type": "execute_result"
    },
    {
     "data": {
      "image/png": "[encoded data removed]",
      "text/plain": [
       "<matplotlib.figure.Figure at 0x7f80cc97beb8>"
      ]
     },
     "metadata": {},
     "output_type": "display_data"
    }
   ],
   "source": [
    "train_utterance_len.hist(bins=100)\n",
    "plt.axvline(max_len, color='r')\n",
    "plt.title('Training Utterance Length Statistics')"
   ]
  },
  {
   "cell_type": "code",
   "execution_count": 13,
   "metadata": {
    "collapsed": true
   },
   "outputs": [],
   "source": [
    "del train_context_len\n",
    "del train_utterance_len"
   ]
  },
  {
   "cell_type": "code",
   "execution_count": 14,
   "metadata": {},
   "outputs": [
    {
     "name": "stdout",
     "output_type": "stream",
     "text": [
      "744894\n",
      "\n",
      "7,588,913\t__eou__\n",
      "3,954,151\t__eot__\n",
      "3,295,688\ti\n",
      "2,751,981\tthe\n",
      "2,708,162\t,\n",
      "2,578,439\tbe\n",
      "2,372,587\t?\n",
      "2,317,280\tto\n",
      "2,177,149\tit\n",
      "1,812,457\t.\n",
      "CPU times: user 2min 6s, sys: 0 ns, total: 2min 6s\n",
      "Wall time: 2min 6s\n"
     ]
    }
   ],
   "source": [
    "%%time\n",
    "\n",
    "import collections\n",
    "\n",
    "token_freq = collections.Counter()\n",
    "for _, (c, u, _) in train_df.iterrows():\n",
    "    context_tokens = c.split()\n",
    "    utterance_tokens = u.split()\n",
    "    token_freq.update(context_tokens)\n",
    "    token_freq.update(utterance_tokens)\n",
    "\n",
    "print(len(token_freq))\n",
    "print()\n",
    "for token, freq in token_freq.most_common(10):\n",
    "    print('{:,d}\\t{}'.format(freq, token))"
   ]
  },
  {
   "cell_type": "code",
   "execution_count": 15,
   "metadata": {},
   "outputs": [
    {
     "data": {
      "text/plain": [
       "107978"
      ]
     },
     "execution_count": 15,
     "metadata": {},
     "output_type": "execute_result"
    }
   ],
   "source": [
    "token_5 = list((token, freq) for token, freq in token_freq.items() if freq >= 5)\n",
    "len(token_5)"
   ]
  },
  {
   "cell_type": "code",
   "execution_count": 16,
   "metadata": {},
   "outputs": [
    {
     "name": "stdout",
     "output_type": "stream",
     "text": [
      "count    1.079780e+05\n",
      "mean     9.504408e+02\n",
      "std      3.711082e+04\n",
      "min      5.000000e+00\n",
      "25%      6.000000e+00\n",
      "50%      1.100000e+01\n",
      "75%      2.800000e+01\n",
      "max      7.588913e+06\n",
      "dtype: float64\n"
     ]
    }
   ],
   "source": [
    "token_5_df = pd.Series(data=list(freq for _, freq in token_5))\n",
    "token_5_stats = token_5_df.describe()\n",
    "print(token_5_stats)"
   ]
  },
  {
   "cell_type": "code",
   "execution_count": 17,
   "metadata": {},
   "outputs": [
    {
     "data": {
      "text/plain": [
       "61.0"
      ]
     },
     "execution_count": 17,
     "metadata": {},
     "output_type": "execute_result"
    }
   ],
   "source": [
    "Q1 = token_5_stats['25%']\n",
    "Q3 = token_5_stats['75%']\n",
    "\n",
    "high_freq = Q3 + 1.5 * (Q3 - Q1)\n",
    "\n",
    "high_freq"
   ]
  },
  {
   "cell_type": "code",
   "execution_count": 18,
   "metadata": {},
   "outputs": [
    {
     "data": {
      "text/plain": [
       "<matplotlib.text.Text at 0x7f810e2a76a0>"
      ]
     },
     "execution_count": 18,
     "metadata": {},
     "output_type": "execute_result"
    },
    {
     "data": {
      "image/png": "[encoded data removed]",
      "text/plain": [
       "<matplotlib.figure.Figure at 0x7f810e99f8d0>"
      ]
     },
     "metadata": {},
     "output_type": "display_data"
    }
   ],
   "source": [
    "token_5_df[token_5_df <= high_freq].hist(bins=50)\n",
    "plt.title('Training Tokens Statistics')"
   ]
  },
  {
   "cell_type": "code",
   "execution_count": 19,
   "metadata": {
    "collapsed": true
   },
   "outputs": [],
   "source": [
    "del train_df\n",
    "del token_freq"
   ]
  },
  {
   "cell_type": "markdown",
   "metadata": {},
   "source": [
    "**Vocabulary**"
   ]
  },
  {
   "cell_type": "code",
   "execution_count": 20,
   "metadata": {},
   "outputs": [
    {
     "name": "stdout",
     "output_type": "stream",
     "text": [
      "[ 1 ] Context\n",
      "\n",
      "i think we could import the old comment via rsync , but from there we need to go via email . i think it be easier than cach the status on each bug and than import bite here and there __eou__ __eot__ it would be veri easi to keep a hash db of message-id __eou__ sound good __eou__ __eot__ ok __eou__ perhap we can ship an ad-hoc apt_preferec __eou__ __eot__ version ? __eou__ __eot__ thank __eou__ __eot__ not yet __eou__ it be cover by your insur ? __eou__ __eot__ yes __eou__ but it 's realli not the right time : / __eou__ with a chang hous upcom in 3 week __eou__ __eot__ you will be move into your hous soon ? __eou__ post a messag recent which explain what to do if the autoconfigur doe not do what you expect __eou__ __eot__ how urgent be # 896 ? __eou__ __eot__ not particular urgent , but a polici violat __eou__ __eot__ i agre that we should kill the -novtswitch __eou__ __eot__ ok __eou__ __eot__ would you consid a packag split a featur ? __eou__ __eot__ context ? __eou__ __eot__ split xfonts* out of xfree86* . one upload for the rest of the life and that 's it __eou__ __eot__ split the sourc packag you mean ? __eou__ __eot__ yes . same binari packag . __eou__ __eot__ i would prefer to avoid it at this stage . this be someth that have go into xsf svn , i assum ? __eou__ __eot__ \n",
      "\n",
      "[ 1 ] Utterance\n",
      "\n",
      "basic each xfree86 upload will not forc user to upgrad 100mb of font for noth __eou__ no someth i do in my spare time . __eou__ \n",
      "\n",
      "[ 2 ] Context\n",
      "\n",
      "i 'm not suggest all - onli the one you modifi . __eou__ __eot__ ok , it sound like you re agre with me , then __eou__ though rather than `` the one we modifi '' , my idea be `` the one we need to merg '' __eou__ __eot__ \n",
      "\n",
      "[ 2 ] Utterance\n",
      "\n",
      "sorri __eou__ i think it be ubuntu relat . __eou__ \n",
      "\n"
     ]
    }
   ],
   "source": [
    "import csv\n",
    "\n",
    "def csv_iterator(filename, cols=[]):\n",
    "    with open(filename, newline='') as f:\n",
    "        reader = csv.reader(f)\n",
    "        next(reader) # skip header\n",
    "        for row in reader:\n",
    "            if not cols:\n",
    "                yield row\n",
    "            else:\n",
    "                for j in cols:\n",
    "                    yield row[j]\n",
    "\n",
    "def train_iterator():\n",
    "    return csv_iterator(TRAIN_CSV, cols=[0, 1])\n",
    "\n",
    "train_iter = train_iterator()\n",
    "for k in range(1, 3):\n",
    "    print('[', k, '] Context\\n')\n",
    "    print(next(train_iter), '\\n')\n",
    "    print('[', k, '] Utterance\\n')\n",
    "    print(next(train_iter), '\\n')\n",
    "del train_iter"
   ]
  },
  {
   "cell_type": "code",
   "execution_count": 21,
   "metadata": {},
   "outputs": [
    {
     "name": "stdout",
     "output_type": "stream",
     "text": [
      "Vocabulary size: 91,619\n",
      "Document Length: 220\n",
      "CPU times: user 2min 4s, sys: 250 ms, total: 2min 4s\n",
      "Wall time: 2min 4s\n"
     ]
    }
   ],
   "source": [
    "%%time\n",
    "\n",
    "def tokenizer(sentences):\n",
    "    return (sentence.split() for sentence in sentences)\n",
    "\n",
    "vocab = tf.contrib.learn.preprocessing.VocabularyProcessor(\n",
    "    max_document_length=220, min_frequency=5, tokenizer_fn=tokenizer)\n",
    "\n",
    "vocab.fit(train_iterator())\n",
    "\n",
    "print('Vocabulary size: {:,d}'.format(len(vocab.vocabulary_)))\n",
    "print('Document Length: {:,d}'.format(vocab.max_document_length))"
   ]
  },
  {
   "cell_type": "code",
   "execution_count": 22,
   "metadata": {},
   "outputs": [
    {
     "name": "stdout",
     "output_type": "stream",
     "text": [
      "Sentence (tokens=250):\n",
      "\n",
      "i think we could import the old comment via rsync , but from there we need to go via email . i think it be easier than cach the status on each bug and than import bite here and there __eou__ __eot__ it would be veri easi to keep a hash db of message-id __eou__ sound good __eou__ __eot__ ok __eou__ perhap we can ship an ad-hoc apt_preferec __eou__ __eot__ version ? __eou__ __eot__ thank __eou__ __eot__ not yet __eou__ it be cover by your insur ? __eou__ __eot__ yes __eou__ but it 's realli not the right time : / __eou__ with a chang hous upcom in 3 week __eou__ __eot__ you will be move into your hous soon ? __eou__ post a messag recent which explain what to do if the autoconfigur doe not do what you expect __eou__ __eot__ how urgent be # 896 ? __eou__ __eot__ not particular urgent , but a polici violat __eou__ __eot__ i agre that we should kill the -novtswitch __eou__ __eot__ ok __eou__ __eot__ would you consid a packag split a featur ? __eou__ __eot__ context ? __eou__ __eot__ split xfonts* out of xfree86* . one upload for the rest of the life and that 's it __eou__ __eot__ split the sourc packag you mean ? __eou__ __eot__ yes . same binari packag . __eou__ __eot__ i would prefer to avoid it at this stage . this be someth that have go into xsf svn , i assum ? __eou__ __eot__ \n",
      "\n",
      "Vector (length=220):\n",
      "\n",
      "[    3    73   262   108   756     4   301   837   341  1271     5    28\n",
      "    53    40   262    56     8    90   341   920    10     3    73     9\n",
      "     6   660   197  1057     4  1236    20   576   348    13   197   756\n",
      "   259   119    13    40     1     2     9    81     6   218   419     8\n",
      "   290    11  2429  2628    25     0     1   153   134     1     2    93\n",
      "     1   534   262    23  1598    62  4389     0     1     2   144     7\n",
      "     1     2    70     1     2    29   340     1     9     6  1935   118\n",
      "    50 10075     7     1     2    79     1    28     9    33   156    29\n",
      "     4   111   129    17   265     1    32    11   116  2071  7281    18\n",
      "   409   808     1     2    12    67     6   400   158    50  2071   983\n",
      "     7     1   529    11   312   731   106   613    26     8    14    37\n",
      "     4  6645    51    29    14    26    12   819     1     2    38  3721\n",
      "     6   164 65630     7     1     2    29   948  3721     5    28    11\n",
      "  1447  5455     1     2     3  1023    15   262    78   492     4     0\n",
      "     1     2    93     1     2    81    12   880    11    88  1737    11\n",
      "   694     7     1     2  2304     7     1     2  1737 91286    95    25\n",
      "     0    10    66  1294    19     4  1078    25     4  1254    13    15\n",
      "    33     9     1     2  1737     4   237    88    12   112     7     1\n",
      "     2    79    10   142]\n"
     ]
    }
   ],
   "source": [
    "sentence0 = next(train_iterator())\n",
    "vector0 = next(vocab.transform([sentence0]))\n",
    "\n",
    "print('Sentence (tokens={:,d}):\\n'.format(len(sentence0.split())))\n",
    "print(sentence0, '\\n')\n",
    "print('Vector (length={:,d}):\\n'.format(len(vector0)))\n",
    "print(vector0)"
   ]
  },
  {
   "cell_type": "code",
   "execution_count": 23,
   "metadata": {},
   "outputs": [
    {
     "data": {
      "text/plain": [
       "True"
      ]
     },
     "execution_count": 23,
     "metadata": {},
     "output_type": "execute_result"
    }
   ],
   "source": [
    "# pickle will not serialize `tokenizer` function (must be defined before restoring the vocabulary object)\n",
    "VOCABULARY_FILE = os.path.join(DATA_DIR, 'vocabulary.bin')\n",
    "\n",
    "if os.path.isfile(VOCABULARY_FILE):\n",
    "    os.remove(VOCABULARY_FILE)\n",
    "\n",
    "vocab.save(VOCABULARY_FILE)\n",
    "\n",
    "os.path.isfile(VOCABULARY_FILE)"
   ]
  },
  {
   "cell_type": "markdown",
   "metadata": {},
   "source": [
    "## 3. Export data (TFRecord)"
   ]
  },
  {
   "cell_type": "code",
   "execution_count": 24,
   "metadata": {},
   "outputs": [
    {
     "name": "stdout",
     "output_type": "stream",
     "text": [
      "Vocabulary size:\n",
      "\n",
      "91,619\n",
      "\n",
      "Vector length:\n",
      "\n",
      "220\n",
      "\n",
      "Sentence:\n",
      "\n",
      "i think we could import the old comment via rsync , but from there we need to go via email . i think it be easier than cach the status on each bug and than import bite here and there __eou__ __eot__ it would be veri easi to keep a hash db of message-id __eou__ sound good __eou__ __eot__ ok __eou__ perhap we can ship an ad-hoc apt_preferec __eou__ __eot__ version ? __eou__ __eot__ thank __eou__ __eot__ not yet __eou__ it be cover by your insur ? __eou__ __eot__ yes __eou__ but it 's realli not the right time : / __eou__ with a chang hous upcom in 3 week __eou__ __eot__ you will be move into your hous soon ? __eou__ post a messag recent which explain what to do if the autoconfigur doe not do what you expect __eou__ __eot__ how urgent be # 896 ? __eou__ __eot__ not particular urgent , but a polici violat __eou__ __eot__ i agre that we should kill the -novtswitch __eou__ __eot__ ok __eou__ __eot__ would you consid a packag split a featur ? __eou__ __eot__ context ? __eou__ __eot__ split xfonts* out of xfree86* . one upload for the rest of the life and that 's it __eou__ __eot__ split the sourc packag you mean ? __eou__ __eot__ yes . same binari packag . __eou__ __eot__ i would prefer to avoid it at this stage . this be someth that have go into xsf svn , i assum ? __eou__ __eot__ \n",
      "\n",
      "Tokens (length=250):\n",
      "\n",
      "['i', 'think', 'we', 'could', 'import', 'the', 'old', 'comment', 'via', 'rsync', ',', 'but', 'from', 'there', 'we', 'need', 'to', 'go', 'via', 'email', '.', 'i', 'think', 'it', 'be', 'easier', 'than', 'cach', 'the', 'status', 'on', 'each', 'bug', 'and', 'than', 'import', 'bite', 'here', 'and', 'there', '__eou__', '__eot__', 'it', 'would', 'be', 'veri', 'easi', 'to', 'keep', 'a', 'hash', 'db', 'of', 'message-id', '__eou__', 'sound', 'good', '__eou__', '__eot__', 'ok', '__eou__', 'perhap', 'we', 'can', 'ship', 'an', 'ad-hoc', 'apt_preferec', '__eou__', '__eot__', 'version', '?', '__eou__', '__eot__', 'thank', '__eou__', '__eot__', 'not', 'yet', '__eou__', 'it', 'be', 'cover', 'by', 'your', 'insur', '?', '__eou__', '__eot__', 'yes', '__eou__', 'but', 'it', \"'s\", 'realli', 'not', 'the', 'right', 'time', ':', '/', '__eou__', 'with', 'a', 'chang', 'hous', 'upcom', 'in', '3', 'week', '__eou__', '__eot__', 'you', 'will', 'be', 'move', 'into', 'your', 'hous', 'soon', '?', '__eou__', 'post', 'a', 'messag', 'recent', 'which', 'explain', 'what', 'to', 'do', 'if', 'the', 'autoconfigur', 'doe', 'not', 'do', 'what', 'you', 'expect', '__eou__', '__eot__', 'how', 'urgent', 'be', '#', '896', '?', '__eou__', '__eot__', 'not', 'particular', 'urgent', ',', 'but', 'a', 'polici', 'violat', '__eou__', '__eot__', 'i', 'agre', 'that', 'we', 'should', 'kill', 'the', '-novtswitch', '__eou__', '__eot__', 'ok', '__eou__', '__eot__', 'would', 'you', 'consid', 'a', 'packag', 'split', 'a', 'featur', '?', '__eou__', '__eot__', 'context', '?', '__eou__', '__eot__', 'split', 'xfonts*', 'out', 'of', 'xfree86*', '.', 'one', 'upload', 'for', 'the', 'rest', 'of', 'the', 'life', 'and', 'that', \"'s\", 'it', '__eou__', '__eot__', 'split', 'the', 'sourc', 'packag', 'you', 'mean', '?', '__eou__', '__eot__', 'yes', '.', 'same', 'binari', 'packag', '.', '__eou__', '__eot__', 'i', 'would', 'prefer', 'to', 'avoid', 'it', 'at', 'this', 'stage', '.', 'this', 'be', 'someth', 'that', 'have', 'go', 'into', 'xsf', 'svn', ',', 'i', 'assum', '?', '__eou__', '__eot__'] \n",
      "\n",
      "Vector (length=220):\n",
      "\n",
      "[    3    73   262   108   756     4   301   837   341  1271     5    28\n",
      "    53    40   262    56     8    90   341   920    10     3    73     9\n",
      "     6   660   197  1057     4  1236    20   576   348    13   197   756\n",
      "   259   119    13    40     1     2     9    81     6   218   419     8\n",
      "   290    11  2429  2628    25     0     1   153   134     1     2    93\n",
      "     1   534   262    23  1598    62  4389     0     1     2   144     7\n",
      "     1     2    70     1     2    29   340     1     9     6  1935   118\n",
      "    50 10075     7     1     2    79     1    28     9    33   156    29\n",
      "     4   111   129    17   265     1    32    11   116  2071  7281    18\n",
      "   409   808     1     2    12    67     6   400   158    50  2071   983\n",
      "     7     1   529    11   312   731   106   613    26     8    14    37\n",
      "     4  6645    51    29    14    26    12   819     1     2    38  3721\n",
      "     6   164 65630     7     1     2    29   948  3721     5    28    11\n",
      "  1447  5455     1     2     3  1023    15   262    78   492     4     0\n",
      "     1     2    93     1     2    81    12   880    11    88  1737    11\n",
      "   694     7     1     2  2304     7     1     2  1737 91286    95    25\n",
      "     0    10    66  1294    19     4  1078    25     4  1254    13    15\n",
      "    33     9     1     2  1737     4   237    88    12   112     7     1\n",
      "     2    79    10   142]\n"
     ]
    }
   ],
   "source": [
    "class VocabularyAdapter:\n",
    "    \n",
    "    def __init__(self, vocab):\n",
    "        self._vocab = vocab\n",
    "    \n",
    "    @property\n",
    "    def size(self):\n",
    "        return len(self._vocab.vocabulary_)\n",
    "\n",
    "    @property\n",
    "    def vector_length(self):\n",
    "        return self._vocab.max_document_length\n",
    "    \n",
    "    def transform(self, sentence):\n",
    "        return next(self._vocab.transform([sentence]))\n",
    "    \n",
    "    def tokens(self, sentence):\n",
    "        return next(self._vocab._tokenizer([sentence]))\n",
    "    \n",
    "vocab_ = VocabularyAdapter(vocab)\n",
    "\n",
    "tokens0 = vocab_.tokens(sentence0)\n",
    "vector0 = vocab_.transform(sentence0)\n",
    "\n",
    "print('Vocabulary size:\\n\\n{:,d}\\n'.format(vocab_.size))\n",
    "print('Vector length:\\n\\n{:,d}\\n'.format(vocab_.vector_length))\n",
    "print('Sentence:\\n')\n",
    "print(sentence0, '\\n')\n",
    "print('Tokens (length={:,d}):\\n'.format(len(tokens0)))\n",
    "print(tokens0, '\\n')\n",
    "print('Vector (length={:,d}):\\n'.format(len(vector0)))\n",
    "print(vector0)"
   ]
  },
  {
   "cell_type": "code",
   "execution_count": 25,
   "metadata": {
    "scrolled": false
   },
   "outputs": [
    {
     "name": "stdout",
     "output_type": "stream",
     "text": [
      "features {\n",
      "  feature {\n",
      "    key: \"context\"\n",
      "    value {\n",
      "      int64_list {\n",
      "        value: 3\n",
      "        value: 61\n",
      "  ...\n",
      "  feature {\n",
      "    key: \"utterance_len\"\n",
      "    value {\n",
      "      int64_list {\n",
      "        value: 10\n",
      "      }\n",
      "    }\n",
      "  }\n",
      "}\n"
     ]
    }
   ],
   "source": [
    "def create_example(vocab_, context, utterance, label):\n",
    "    context_len = len(vocab_.tokens(context))\n",
    "    if context_len > vocab_.vector_length:\n",
    "        return None\n",
    "    utterance_len = len(vocab_.tokens(utterance))\n",
    "    if utterance_len > vocab_.vector_length:\n",
    "        return None\n",
    "    \n",
    "    context_vector = vocab_.transform(context)\n",
    "    utterance_vector = vocab_.transform(utterance)\n",
    "    \n",
    "    example = tf.train.Example()\n",
    "    \n",
    "    example.features.feature['context'].int64_list.value.extend(context_vector)\n",
    "    example.features.feature['context_len'].int64_list.value.extend([context_len])\n",
    "    example.features.feature['utterance'].int64_list.value.extend(utterance_vector)\n",
    "    example.features.feature['utterance_len'].int64_list.value.extend([utterance_len])\n",
    "    example.features.feature['label'].int64_list.value.extend([label])\n",
    "    \n",
    "    return example\n",
    "\n",
    "with open(TRAIN_CSV, newline='') as f:\n",
    "    reader = csv.reader(f)\n",
    "    next(reader) # skip header\n",
    "    \n",
    "    for c, u, l in reader:\n",
    "        example0 = create_example(vocab_, c, u, int(l))\n",
    "    \n",
    "        if example0 is None:\n",
    "            continue\n",
    "\n",
    "        example0_str = str(example0)\n",
    "        #print(example0_str)\n",
    "        print(example0_str[:107])\n",
    "        print('  ...')\n",
    "        print(example0_str[-106:-1])\n",
    "        \n",
    "        break"
   ]
  },
  {
   "cell_type": "code",
   "execution_count": 26,
   "metadata": {},
   "outputs": [
    {
     "name": "stdout",
     "output_type": "stream",
     "text": [
      "Examples per line (should be 10, 1 correct, 9 incorrects): 10\n",
      "\n",
      "[ Example 0 ]\n",
      "\n",
      "features {\n",
      "  feature {\n",
      "    key: \"context\"\n",
      "    value {\n",
      "      int64_list {\n",
      "        value: 68\n",
      "        value: 1\n",
      "  ...\n",
      "\n",
      "  feature {\n",
      "    key: \"utterance_len\"\n",
      "    value {\n",
      "      int64_list {\n",
      "        value: 7\n",
      "      }\n",
      "    }\n",
      "  }\n",
      "}\n",
      "\n",
      "[ Example 9 ]\n",
      "\n",
      "features {\n",
      "  feature {\n",
      "    key: \"context\"\n",
      "    value {\n",
      "      int64_list {\n",
      "        value: 68\n",
      "        value: 1\n",
      "  ...\n",
      "  feature {\n",
      "    key: \"utterance_len\"\n",
      "    value {\n",
      "      int64_list {\n",
      "        value: 52\n",
      "      }\n",
      "    }\n",
      "  }\n",
      "}\n"
     ]
    }
   ],
   "source": [
    "with open(VALID_CSV, newline='') as f:\n",
    "    reader = csv.reader(f)\n",
    "    next(reader) # skip header\n",
    "    \n",
    "    for c, u, *d in reader:\n",
    "        example = create_example(vocab_, c, u, 1)\n",
    "        \n",
    "        if example is None:\n",
    "            continue\n",
    "            \n",
    "        examples = list()\n",
    "        examples.append(example)\n",
    "    \n",
    "        for distractor in d:\n",
    "            example = create_example(vocab_, c, distractor, 0)\n",
    "            if example is None:\n",
    "                continue\n",
    "            examples.append(example)\n",
    "\n",
    "        print('Examples per line (should be 10, 1 correct, 9 incorrects): {}\\n'.format(len(examples)))\n",
    "\n",
    "        print('[ Example 0 ]\\n')\n",
    "        example0_str = str(examples[0])\n",
    "        #print(example0_str)\n",
    "        print(example0_str[:107])\n",
    "        print('  ...')\n",
    "        print(example0_str[-106:-1])\n",
    "        print()\n",
    "        print('[ Example 9 ]\\n')\n",
    "        example9_str = str(examples[9])\n",
    "        #print(example9_str)\n",
    "        print(example9_str[:107])\n",
    "        print('  ...')\n",
    "        print(example9_str[-106:-1])\n",
    "        \n",
    "        break"
   ]
  },
  {
   "cell_type": "code",
   "execution_count": 27,
   "metadata": {},
   "outputs": [
    {
     "name": "stdout",
     "output_type": "stream",
     "text": [
      "Saving TFRecords at ubuntu/data/train.tfrecords...\n",
      "Total records: 938,593\n",
      "CPU times: user 4min 3s, sys: 1.06 s, total: 4min 4s\n",
      "Wall time: 4min 4s\n",
      "Saving TFRecords at ubuntu/data/valid.tfrecords...\n",
      "Total records: 183,245\n",
      "CPU times: user 45.5 s, sys: 239 ms, total: 45.7 s\n",
      "Wall time: 45.7 s\n",
      "Saving TFRecords at ubuntu/data/test.tfrecords...\n",
      "Total records: 176,256\n",
      "CPU times: user 44.2 s, sys: 150 ms, total: 44.4 s\n",
      "Wall time: 44.6 s\n"
     ]
    }
   ],
   "source": [
    "def train_examples(vocab_, filename):\n",
    "    with open(filename, newline='') as f:\n",
    "        reader = csv.reader(f)\n",
    "        next(reader) # skip header\n",
    "        for c, u, l in reader:\n",
    "            example = create_example(vocab_, c, u, int(l))\n",
    "            if example is None:\n",
    "                continue\n",
    "            yield example\n",
    "\n",
    "def eval_examples(vocab_, filename):\n",
    "    with open(filename, newline='') as f:\n",
    "        reader = csv.reader(f)\n",
    "        next(reader) # skip header\n",
    "        for c, u, *d in reader:\n",
    "            example = create_example(vocab_, c, u, 1)\n",
    "            if example is None:\n",
    "                continue\n",
    "            yield example\n",
    "            for distractor in d:\n",
    "                example = create_example(vocab_, c, distractor, 0)\n",
    "                if example is None:\n",
    "                    continue\n",
    "                yield example\n",
    "\n",
    "def save_tfrecords(input_examples, filename):\n",
    "    print(\"Saving TFRecords at {}...\".format(filename))\n",
    "    n = 0\n",
    "    with tf.python_io.TFRecordWriter(filename) as writer:\n",
    "        for x in input_examples:\n",
    "            writer.write(x.SerializeToString())\n",
    "            n += 1\n",
    "    print('Total records: {:,d}'.format(n))\n",
    "\n",
    "TRAIN_TFR = os.path.join(DATA_DIR, 'train.tfrecords')\n",
    "%time save_tfrecords(train_examples(vocab_, TRAIN_CSV), TRAIN_TFR)\n",
    "\n",
    "VALID_TFR = os.path.join(DATA_DIR, 'valid.tfrecords')\n",
    "%time save_tfrecords(eval_examples(vocab_, VALID_CSV), VALID_TFR)\n",
    "\n",
    "TEST_TFR = os.path.join(DATA_DIR, 'test.tfrecords')\n",
    "%time save_tfrecords(eval_examples(vocab_, TEST_CSV), TEST_TFR)"
   ]
  }
 ],
 "metadata": {
  "kernelspec": {
   "display_name": "Python 3 (tensorflow-cpu)",
   "language": "python",
   "name": "tensorflow-cpu"
  },
  "language_info": {
   "codemirror_mode": {
    "name": "ipython",
    "version": 3
   },
   "file_extension": ".py",
   "mimetype": "text/x-python",
   "name": "python",
   "nbconvert_exporter": "python",
   "pygments_lexer": "ipython3",
   "version": "3.6.1"
  }
 },
 "nbformat": 4,
 "nbformat_minor": 2
}
