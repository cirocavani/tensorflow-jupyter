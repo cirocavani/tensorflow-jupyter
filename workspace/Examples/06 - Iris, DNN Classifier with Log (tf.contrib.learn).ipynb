{
 "cells": [
  {
   "cell_type": "markdown",
   "metadata": {},
   "source": [
    "# Logging and Monitoring Basics with tf.contrib.learn\n",
    "\n",
    "https://www.tensorflow.org/get_started/monitors\n",
    "\n",
    "https://github.com/tensorflow/tensorflow/blob/v1.0.0/tensorflow/examples/tutorials/monitors/iris_monitors.py"
   ]
  },
  {
   "cell_type": "code",
   "execution_count": 1,
   "metadata": {},
   "outputs": [
    {
     "data": {
      "text/plain": [
       "'1.4.0'"
      ]
     },
     "execution_count": 1,
     "metadata": {},
     "output_type": "execute_result"
    }
   ],
   "source": [
    "import tensorflow as tf\n",
    "import numpy as np\n",
    "\n",
    "tf.logging.set_verbosity(tf.logging.INFO)\n",
    "\n",
    "tf.VERSION"
   ]
  },
  {
   "cell_type": "markdown",
   "metadata": {},
   "source": [
    "**Load the Iris CSV data to TensorFlow**"
   ]
  },
  {
   "cell_type": "code",
   "execution_count": 2,
   "metadata": {
    "collapsed": true
   },
   "outputs": [],
   "source": [
    "import os\n",
    "import shutil\n",
    "\n",
    "HOME_DIR = 'iris'\n",
    "DATA_DIR = os.path.join(HOME_DIR, 'data')\n",
    "\n",
    "IRIS_TRAINING = 'iris_training.csv'\n",
    "IRIS_TEST = 'iris_test.csv'\n",
    "\n",
    "TRAINING_FILE = os.path.join(DATA_DIR, IRIS_TRAINING)\n",
    "TEST_FILE = os.path.join(DATA_DIR, IRIS_TEST)\n",
    "\n",
    "from tensorflow.contrib.learn.python.learn.datasets.base import maybe_download\n",
    "maybe_download(IRIS_TRAINING, DATA_DIR, 'http://download.tensorflow.org/data/iris_training.csv')\n",
    "maybe_download(IRIS_TEST, DATA_DIR, 'http://download.tensorflow.org/data/iris_test.csv')\n",
    "\n",
    "MODEL_DIR = os.path.join(HOME_DIR, 'model_log')\n",
    "\n",
    "if os.path.isdir(MODEL_DIR):\n",
    "    shutil.rmtree(MODEL_DIR)"
   ]
  },
  {
   "cell_type": "code",
   "execution_count": 3,
   "metadata": {
    "collapsed": true
   },
   "outputs": [],
   "source": [
    "training_set = tf.contrib.learn.datasets.base.load_csv_with_header(\n",
    "    filename=TRAINING_FILE,\n",
    "    target_dtype=np.int,\n",
    "    features_dtype=np.float32)\n",
    "\n",
    "test_set = tf.contrib.learn.datasets.base.load_csv_with_header(\n",
    "    filename=TEST_FILE,\n",
    "    target_dtype=np.int,\n",
    "    features_dtype=np.float32)"
   ]
  },
  {
   "cell_type": "markdown",
   "metadata": {},
   "source": [
    "**Construct a Deep Neural Network Classifier**"
   ]
  },
  {
   "cell_type": "code",
   "execution_count": 4,
   "metadata": {},
   "outputs": [
    {
     "name": "stdout",
     "output_type": "stream",
     "text": [
      "INFO:tensorflow:Using config: {'_task_type': None, '_task_id': 0, '_cluster_spec': <tensorflow.python.training.server_lib.ClusterSpec object at 0x7fccdbc45860>, '_master': '', '_num_ps_replicas': 0, '_num_worker_replicas': 0, '_environment': 'local', '_is_chief': True, '_evaluation_master': '', '_tf_config': gpu_options {\n",
      "  per_process_gpu_memory_fraction: 1.0\n",
      "}\n",
      ", '_tf_random_seed': None, '_save_summary_steps': 100, '_save_checkpoints_secs': 1, '_log_step_count_steps': 100, '_session_config': None, '_save_checkpoints_steps': None, '_keep_checkpoint_max': 5, '_keep_checkpoint_every_n_hours': 10000, '_model_dir': 'iris/model_log'}\n"
     ]
    }
   ],
   "source": [
    "feature_columns = [tf.contrib.layers.real_valued_column(\"\", dimension=4)]\n",
    "\n",
    "classifier = tf.contrib.learn.DNNClassifier(\n",
    "    feature_columns=feature_columns,\n",
    "    hidden_units=[10, 20, 10],\n",
    "    n_classes=3,\n",
    "    model_dir=MODEL_DIR,\n",
    "    config=tf.contrib.learn.RunConfig(save_checkpoints_secs=1)) #to ensure a sufficient number of checkpoints"
   ]
  },
  {
   "cell_type": "markdown",
   "metadata": {},
   "source": [
    "**Fit the DNNClassifier to the Iris Training Data**"
   ]
  },
  {
   "cell_type": "code",
   "execution_count": 5,
   "metadata": {
    "scrolled": false
   },
   "outputs": [
    {
     "name": "stdout",
     "output_type": "stream",
     "text": [
      "WARNING:tensorflow:From /home/cavani/Workspace/tensorflow-jupyter/software/tensorflow-cpu/lib/python3.6/site-packages/tensorflow/contrib/learn/python/learn/monitors.py:267: BaseMonitor.__init__ (from tensorflow.contrib.learn.python.learn.monitors) is deprecated and will be removed after 2016-12-05.\n",
      "Instructions for updating:\n",
      "Monitors are deprecated. Please use tf.train.SessionRunHook.\n",
      "WARNING:tensorflow:From <ipython-input-5-6d96a6d22572>:32: calling BaseEstimator.fit (from tensorflow.contrib.learn.python.learn.estimators.estimator) with x is deprecated and will be removed after 2016-12-01.\n",
      "Instructions for updating:\n",
      "Estimator is decoupled from Scikit Learn interface by moving into\n",
      "separate class SKCompat. Arguments x, y and batch_size are only\n",
      "available in the SKCompat class, Estimator will only accept input_fn.\n",
      "Example conversion:\n",
      "  est = Estimator(...) -> est = SKCompat(Estimator(...))\n",
      "WARNING:tensorflow:From <ipython-input-5-6d96a6d22572>:32: calling BaseEstimator.fit (from tensorflow.contrib.learn.python.learn.estimators.estimator) with y is deprecated and will be removed after 2016-12-01.\n",
      "Instructions for updating:\n",
      "Estimator is decoupled from Scikit Learn interface by moving into\n",
      "separate class SKCompat. Arguments x, y and batch_size are only\n",
      "available in the SKCompat class, Estimator will only accept input_fn.\n",
      "Example conversion:\n",
      "  est = Estimator(...) -> est = SKCompat(Estimator(...))\n",
      "WARNING:tensorflow:From /home/cavani/Workspace/tensorflow-jupyter/software/tensorflow-cpu/lib/python3.6/site-packages/tensorflow/contrib/learn/python/learn/estimators/dnn.py:192: get_global_step (from tensorflow.contrib.framework.python.ops.variables) is deprecated and will be removed in a future version.\n",
      "Instructions for updating:\n",
      "Please switch to tf.train.get_global_step\n",
      "INFO:tensorflow:Create CheckpointSaverHook.\n",
      "INFO:tensorflow:Saving checkpoints for 1 into iris/model_log/model.ckpt.\n",
      "INFO:tensorflow:loss = 1.03844, step = 1\n",
      "WARNING:tensorflow:From /home/cavani/Workspace/tensorflow-jupyter/software/tensorflow-cpu/lib/python3.6/site-packages/tensorflow/contrib/learn/python/learn/monitors.py:670: calling BaseEstimator.evaluate (from tensorflow.contrib.learn.python.learn.estimators.estimator) with x is deprecated and will be removed after 2016-12-01.\n",
      "Instructions for updating:\n",
      "Estimator is decoupled from Scikit Learn interface by moving into\n",
      "separate class SKCompat. Arguments x, y and batch_size are only\n",
      "available in the SKCompat class, Estimator will only accept input_fn.\n",
      "Example conversion:\n",
      "  est = Estimator(...) -> est = SKCompat(Estimator(...))\n",
      "WARNING:tensorflow:From /home/cavani/Workspace/tensorflow-jupyter/software/tensorflow-cpu/lib/python3.6/site-packages/tensorflow/contrib/learn/python/learn/monitors.py:670: calling BaseEstimator.evaluate (from tensorflow.contrib.learn.python.learn.estimators.estimator) with y is deprecated and will be removed after 2016-12-01.\n",
      "Instructions for updating:\n",
      "Estimator is decoupled from Scikit Learn interface by moving into\n",
      "separate class SKCompat. Arguments x, y and batch_size are only\n",
      "available in the SKCompat class, Estimator will only accept input_fn.\n",
      "Example conversion:\n",
      "  est = Estimator(...) -> est = SKCompat(Estimator(...))\n",
      "INFO:tensorflow:Starting evaluation at 2017-11-03-21:28:49\n",
      "INFO:tensorflow:Restoring parameters from iris/model_log/model.ckpt-1\n",
      "INFO:tensorflow:Finished evaluation at 2017-11-03-21:28:49\n",
      "INFO:tensorflow:Saving dict for global step 1: accuracy = 0.5, global_step = 1, loss = 0.858278, precision = 0.733333, recall = 1.0\n",
      "INFO:tensorflow:Validation (step 50): loss = 0.858278, accuracy = 0.5, precision = 0.733333, recall = 1.0, global_step = 1\n",
      "INFO:tensorflow:global_step/sec: 183.666\n",
      "INFO:tensorflow:loss = 0.132998, step = 101 (0.546 sec)\n",
      "INFO:tensorflow:global_step/sec: 713.386\n",
      "INFO:tensorflow:loss = 0.0697849, step = 201 (0.140 sec)\n",
      "INFO:tensorflow:global_step/sec: 842.761\n",
      "INFO:tensorflow:loss = 0.0610965, step = 301 (0.118 sec)\n",
      "INFO:tensorflow:global_step/sec: 846.792\n",
      "INFO:tensorflow:loss = 0.0566267, step = 401 (0.118 sec)\n",
      "INFO:tensorflow:Saving checkpoints for 427 into iris/model_log/model.ckpt.\n",
      "INFO:tensorflow:Starting evaluation at 2017-11-03-21:28:50\n",
      "INFO:tensorflow:Restoring parameters from iris/model_log/model.ckpt-427\n",
      "INFO:tensorflow:Finished evaluation at 2017-11-03-21:28:50\n",
      "INFO:tensorflow:Saving dict for global step 427: accuracy = 0.966667, global_step = 427, loss = 0.0553144, precision = 1.0, recall = 1.0\n",
      "INFO:tensorflow:Validation (step 450): loss = 0.0553144, accuracy = 0.966667, precision = 1.0, recall = 1.0, global_step = 427\n",
      "INFO:tensorflow:global_step/sec: 211.151\n",
      "INFO:tensorflow:loss = 0.0532063, step = 501 (0.474 sec)\n",
      "INFO:tensorflow:global_step/sec: 810.65\n",
      "INFO:tensorflow:loss = 0.0514226, step = 601 (0.123 sec)\n",
      "INFO:tensorflow:global_step/sec: 803.63\n",
      "INFO:tensorflow:loss = 0.0493426, step = 701 (0.124 sec)\n",
      "INFO:tensorflow:global_step/sec: 835.555\n",
      "INFO:tensorflow:loss = 0.0478455, step = 801 (0.120 sec)\n",
      "INFO:tensorflow:global_step/sec: 785.021\n",
      "INFO:tensorflow:loss = 0.0466833, step = 901 (0.127 sec)\n",
      "INFO:tensorflow:Saving checkpoints for 954 into iris/model_log/model.ckpt.\n",
      "INFO:tensorflow:Starting evaluation at 2017-11-03-21:28:51\n",
      "INFO:tensorflow:Restoring parameters from iris/model_log/model.ckpt-954\n",
      "INFO:tensorflow:Finished evaluation at 2017-11-03-21:28:51\n",
      "INFO:tensorflow:Saving dict for global step 954: accuracy = 0.933333, global_step = 954, loss = 0.0516217, precision = 1.0, recall = 1.0\n",
      "INFO:tensorflow:Validation (step 1000): loss = 0.0516217, accuracy = 0.933333, precision = 1.0, recall = 1.0, global_step = 954\n",
      "INFO:tensorflow:global_step/sec: 178.907\n",
      "INFO:tensorflow:loss = 0.0455656, step = 1001 (0.559 sec)\n",
      "INFO:tensorflow:global_step/sec: 814.166\n",
      "INFO:tensorflow:loss = 0.0446234, step = 1101 (0.123 sec)\n",
      "INFO:tensorflow:global_step/sec: 774.401\n",
      "INFO:tensorflow:loss = 0.0436064, step = 1201 (0.129 sec)\n",
      "INFO:tensorflow:global_step/sec: 829.545\n",
      "INFO:tensorflow:loss = 0.042739, step = 1301 (0.121 sec)\n",
      "INFO:tensorflow:global_step/sec: 815.893\n",
      "INFO:tensorflow:loss = 0.0420888, step = 1401 (0.123 sec)\n",
      "INFO:tensorflow:Saving checkpoints for 1407 into iris/model_log/model.ckpt.\n",
      "INFO:tensorflow:Starting evaluation at 2017-11-03-21:28:52\n",
      "INFO:tensorflow:Restoring parameters from iris/model_log/model.ckpt-1407\n",
      "INFO:tensorflow:Finished evaluation at 2017-11-03-21:28:52\n",
      "INFO:tensorflow:Saving dict for global step 1407: accuracy = 0.966667, global_step = 1407, loss = 0.0665234, precision = 1.0, recall = 1.0\n",
      "INFO:tensorflow:Validation (step 1450): loss = 0.0665234, accuracy = 0.966667, precision = 1.0, recall = 1.0, global_step = 1407\n",
      "INFO:tensorflow:Stopping. Best step: 1000 with loss = 0.05162166804075241.\n",
      "INFO:tensorflow:Saving checkpoints for 1450 into iris/model_log/model.ckpt.\n",
      "INFO:tensorflow:Loss for final step: 0.0416884.\n"
     ]
    },
    {
     "data": {
      "text/plain": [
       "DNNClassifier(params={'head': <tensorflow.contrib.learn.python.learn.estimators.head._MultiClassHead object at 0x7fccdbc45ac8>, 'hidden_units': [10, 20, 10], 'feature_columns': (_RealValuedColumn(column_name='', dimension=4, default_value=None, dtype=tf.float32, normalizer=None),), 'optimizer': None, 'activation_fn': <function relu at 0x7fccea754b70>, 'dropout': None, 'gradient_clip_norm': None, 'embedding_lr_multipliers': None, 'input_layer_min_slice_size': None})"
      ]
     },
     "execution_count": 5,
     "metadata": {},
     "output_type": "execute_result"
    }
   ],
   "source": [
    "#Customizing the Evaluation Metrics\n",
    "from tensorflow.contrib.learn.python.learn.metric_spec import MetricSpec\n",
    "\n",
    "validation_metrics = {\n",
    "    'accuracy':\n",
    "        MetricSpec(\n",
    "            metric_fn=tf.contrib.metrics.streaming_accuracy,\n",
    "            prediction_key='classes'),\n",
    "    'precision':\n",
    "        MetricSpec(\n",
    "            metric_fn=tf.contrib.metrics.streaming_precision,\n",
    "            prediction_key='classes'),\n",
    "    'recall':\n",
    "        MetricSpec(\n",
    "            metric_fn=tf.contrib.metrics.streaming_recall,\n",
    "            prediction_key='classes')\n",
    "}\n",
    "\n",
    "validation_monitor = tf.contrib.learn.monitors.ValidationMonitor(\n",
    "    test_set.data,\n",
    "    test_set.target,\n",
    "    every_n_steps=50,\n",
    "    metrics=validation_metrics,\n",
    "    early_stopping_metric=\"loss\",\n",
    "    early_stopping_metric_minimize=True,\n",
    "    early_stopping_rounds=200)\n",
    "\n",
    "classifier.fit(\n",
    "    x=training_set.data,\n",
    "    y=training_set.target,\n",
    "    steps=2000,\n",
    "    monitors=[validation_monitor])"
   ]
  },
  {
   "cell_type": "markdown",
   "metadata": {},
   "source": [
    "**Evaluate Model Accuracy**"
   ]
  },
  {
   "cell_type": "code",
   "execution_count": 6,
   "metadata": {},
   "outputs": [
    {
     "name": "stdout",
     "output_type": "stream",
     "text": [
      "INFO:tensorflow:Starting evaluation at 2017-11-03-21:28:52\n",
      "INFO:tensorflow:Restoring parameters from iris/model_log/model.ckpt-1450\n",
      "INFO:tensorflow:Finished evaluation at 2017-11-03-21:28:53\n",
      "INFO:tensorflow:Saving dict for global step 1450: accuracy = 0.966667, global_step = 1450, loss = 0.0556338\n",
      "Accuracy: 0.966667\n"
     ]
    }
   ],
   "source": [
    "accuracy_score = classifier.evaluate(x=test_set.data,y=test_set.target)['accuracy']\n",
    "print('Accuracy: {0:f}'.format(accuracy_score))"
   ]
  },
  {
   "cell_type": "code",
   "execution_count": 7,
   "metadata": {},
   "outputs": [
    {
     "name": "stdout",
     "output_type": "stream",
     "text": [
      "WARNING:tensorflow:From /home/cavani/Workspace/tensorflow-jupyter/software/tensorflow-cpu/lib/python3.6/site-packages/tensorflow/python/util/deprecation.py:381: calling DNNClassifier.predict (from tensorflow.contrib.learn.python.learn.estimators.dnn) with outputs=None is deprecated and will be removed after 2017-03-01.\n",
      "Instructions for updating:\n",
      "Please switch to predict_classes, or set `outputs` argument.\n",
      "WARNING:tensorflow:From /home/cavani/Workspace/tensorflow-jupyter/software/tensorflow-cpu/lib/python3.6/site-packages/tensorflow/contrib/learn/python/learn/estimators/dnn.py:454: calling BaseEstimator.predict (from tensorflow.contrib.learn.python.learn.estimators.estimator) with x is deprecated and will be removed after 2016-12-01.\n",
      "Instructions for updating:\n",
      "Estimator is decoupled from Scikit Learn interface by moving into\n",
      "separate class SKCompat. Arguments x, y and batch_size are only\n",
      "available in the SKCompat class, Estimator will only accept input_fn.\n",
      "Example conversion:\n",
      "  est = Estimator(...) -> est = SKCompat(Estimator(...))\n",
      "WARNING:tensorflow:float64 is not supported by many models, consider casting to float32.\n",
      "INFO:tensorflow:Restoring parameters from iris/model_log/model.ckpt-1450\n",
      "Predictions: 1\n",
      "Predictions: 2\n"
     ]
    }
   ],
   "source": [
    "new_samples = np.array([[6.4, 3.2, 4.5, 1.5], [5.8, 3.1, 5.0, 1.7]], dtype=float)\n",
    "resp = classifier.predict(new_samples)\n",
    "for y in resp:\n",
    "    print('Predictions: {}'.format(y))"
   ]
  }
 ],
 "metadata": {
  "kernelspec": {
   "display_name": "Python 3 (tensorflow-cpu)",
   "language": "python",
   "name": "tensorflow-cpu"
  },
  "language_info": {
   "codemirror_mode": {
    "name": "ipython",
    "version": 3
   },
   "file_extension": ".py",
   "mimetype": "text/x-python",
   "name": "python",
   "nbconvert_exporter": "python",
   "pygments_lexer": "ipython3",
   "version": "3.6.3"
  }
 },
 "nbformat": 4,
 "nbformat_minor": 2
}
