{
 "cells": [
  {
   "cell_type": "markdown",
   "metadata": {},
   "source": [
    "# Logging and Monitoring Basics with tf.contrib.learn\n",
    "\n",
    "https://www.tensorflow.org/get_started/monitors\n",
    "\n",
    "https://github.com/tensorflow/tensorflow/blob/v1.0.0/tensorflow/examples/tutorials/monitors/iris_monitors.py"
   ]
  },
  {
   "cell_type": "code",
   "execution_count": 1,
   "metadata": {
    "collapsed": true
   },
   "outputs": [
    {
     "data": {
      "text/plain": [
       "'1.1.0'"
      ]
     },
     "execution_count": 1,
     "metadata": {},
     "output_type": "execute_result"
    }
   ],
   "source": [
    "import tensorflow as tf\n",
    "import numpy as np\n",
    "\n",
    "tf.logging.set_verbosity(tf.logging.INFO)\n",
    "\n",
    "tf.__version__"
   ]
  },
  {
   "cell_type": "markdown",
   "metadata": {},
   "source": [
    "**Load the Iris CSV data to TensorFlow**"
   ]
  },
  {
   "cell_type": "code",
   "execution_count": 2,
   "metadata": {
    "collapsed": true
   },
   "outputs": [],
   "source": [
    "import os\n",
    "import shutil\n",
    "\n",
    "HOME_DIR = 'iris'\n",
    "DATA_DIR = os.path.join(HOME_DIR, 'data')\n",
    "\n",
    "IRIS_TRAINING = \"iris_training.csv\"\n",
    "IRIS_TEST = \"iris_test.csv\"\n",
    "\n",
    "TRAINING_FILE = os.path.join(DATA_DIR, IRIS_TRAINING)\n",
    "TEST_FILE = os.path.join(DATA_DIR, IRIS_TEST)\n",
    "\n",
    "from tensorflow.contrib.learn.python.learn.datasets.base import maybe_download\n",
    "maybe_download(IRIS_TRAINING, DATA_DIR, 'http://download.tensorflow.org/data/iris_training.csv')\n",
    "maybe_download(IRIS_TEST, DATA_DIR, 'http://download.tensorflow.org/data/iris_test.csv')\n",
    "\n",
    "MODEL_DIR = os.path.join(HOME_DIR, 'model_log')\n",
    "\n",
    "if os.path.isdir(MODEL_DIR):\n",
    "    shutil.rmtree(MODEL_DIR)"
   ]
  },
  {
   "cell_type": "code",
   "execution_count": 3,
   "metadata": {
    "collapsed": true
   },
   "outputs": [],
   "source": [
    "training_set = tf.contrib.learn.datasets.base.load_csv_with_header(\n",
    "    filename=TRAINING_FILE,\n",
    "    target_dtype=np.int,\n",
    "    features_dtype=np.float32)\n",
    "\n",
    "test_set = tf.contrib.learn.datasets.base.load_csv_with_header(\n",
    "    filename=TEST_FILE,\n",
    "    target_dtype=np.int,\n",
    "    features_dtype=np.float32)"
   ]
  },
  {
   "cell_type": "markdown",
   "metadata": {},
   "source": [
    "**Construct a Deep Neural Network Classifier**"
   ]
  },
  {
   "cell_type": "code",
   "execution_count": 4,
   "metadata": {},
   "outputs": [
    {
     "name": "stdout",
     "output_type": "stream",
     "text": [
      "INFO:tensorflow:Using config: {'_task_type': None, '_task_id': 0, '_cluster_spec': <tensorflow.python.training.server_lib.ClusterSpec object at 0x7fc4b70085c0>, '_master': '', '_num_ps_replicas': 0, '_num_worker_replicas': 0, '_environment': 'local', '_is_chief': True, '_evaluation_master': '', '_tf_config': gpu_options {\n",
      "  per_process_gpu_memory_fraction: 1.0\n",
      "}\n",
      ", '_tf_random_seed': None, '_save_summary_steps': 100, '_save_checkpoints_secs': 1, '_save_checkpoints_steps': None, '_keep_checkpoint_max': 5, '_keep_checkpoint_every_n_hours': 10000, '_model_dir': None}\n"
     ]
    }
   ],
   "source": [
    "feature_columns = [tf.contrib.layers.real_valued_column(\"\", dimension=4)]\n",
    "\n",
    "classifier = tf.contrib.learn.DNNClassifier(\n",
    "    feature_columns=feature_columns,\n",
    "    hidden_units=[10, 20, 10],\n",
    "    n_classes=3,\n",
    "    model_dir=MODEL_DIR,\n",
    "    config=tf.contrib.learn.RunConfig(save_checkpoints_secs=1)) #to ensure a sufficient number of checkpoints"
   ]
  },
  {
   "cell_type": "markdown",
   "metadata": {},
   "source": [
    "**Fit the DNNClassifier to the Iris Training Data**"
   ]
  },
  {
   "cell_type": "code",
   "execution_count": 5,
   "metadata": {},
   "outputs": [
    {
     "name": "stdout",
     "output_type": "stream",
     "text": [
      "WARNING:tensorflow:From /home/cavani/Workspace/tensorflow-jupyter/software/tensorflow-cpu/lib/python3.6/site-packages/tensorflow/contrib/learn/python/learn/monitors.py:267: BaseMonitor.__init__ (from tensorflow.contrib.learn.python.learn.monitors) is deprecated and will be removed after 2016-12-05.\n",
      "Instructions for updating:\n",
      "Monitors are deprecated. Please use tf.train.SessionRunHook.\n",
      "WARNING:tensorflow:From <ipython-input-5-6d96a6d22572>:32: calling BaseEstimator.fit (from tensorflow.contrib.learn.python.learn.estimators.estimator) with x is deprecated and will be removed after 2016-12-01.\n",
      "Instructions for updating:\n",
      "Estimator is decoupled from Scikit Learn interface by moving into\n",
      "separate class SKCompat. Arguments x, y and batch_size are only\n",
      "available in the SKCompat class, Estimator will only accept input_fn.\n",
      "Example conversion:\n",
      "  est = Estimator(...) -> est = SKCompat(Estimator(...))\n",
      "WARNING:tensorflow:From <ipython-input-5-6d96a6d22572>:32: calling BaseEstimator.fit (from tensorflow.contrib.learn.python.learn.estimators.estimator) with y is deprecated and will be removed after 2016-12-01.\n",
      "Instructions for updating:\n",
      "Estimator is decoupled from Scikit Learn interface by moving into\n",
      "separate class SKCompat. Arguments x, y and batch_size are only\n",
      "available in the SKCompat class, Estimator will only accept input_fn.\n",
      "Example conversion:\n",
      "  est = Estimator(...) -> est = SKCompat(Estimator(...))\n",
      "WARNING:tensorflow:From /home/cavani/Workspace/tensorflow-jupyter/software/tensorflow-cpu/lib/python3.6/site-packages/tensorflow/contrib/learn/python/learn/estimators/head.py:615: scalar_summary (from tensorflow.python.ops.logging_ops) is deprecated and will be removed after 2016-11-30.\n",
      "Instructions for updating:\n",
      "Please switch to tf.summary.scalar. Note that tf.summary.scalar uses the node name instead of the tag. This means that TensorFlow will automatically de-duplicate summary names based on the scope they are created in. Also, passing a tensor or list of tags to a scalar summary op is no longer supported.\n",
      "INFO:tensorflow:Create CheckpointSaverHook.\n",
      "INFO:tensorflow:Saving checkpoints for 1 into iris/model_log/model.ckpt.\n",
      "INFO:tensorflow:loss = 1.35887, step = 1\n",
      "WARNING:tensorflow:From /home/cavani/Workspace/tensorflow-jupyter/software/tensorflow-cpu/lib/python3.6/site-packages/tensorflow/contrib/learn/python/learn/monitors.py:662: calling BaseEstimator.evaluate (from tensorflow.contrib.learn.python.learn.estimators.estimator) with x is deprecated and will be removed after 2016-12-01.\n",
      "Instructions for updating:\n",
      "Estimator is decoupled from Scikit Learn interface by moving into\n",
      "separate class SKCompat. Arguments x, y and batch_size are only\n",
      "available in the SKCompat class, Estimator will only accept input_fn.\n",
      "Example conversion:\n",
      "  est = Estimator(...) -> est = SKCompat(Estimator(...))\n",
      "WARNING:tensorflow:From /home/cavani/Workspace/tensorflow-jupyter/software/tensorflow-cpu/lib/python3.6/site-packages/tensorflow/contrib/learn/python/learn/monitors.py:662: calling BaseEstimator.evaluate (from tensorflow.contrib.learn.python.learn.estimators.estimator) with y is deprecated and will be removed after 2016-12-01.\n",
      "Instructions for updating:\n",
      "Estimator is decoupled from Scikit Learn interface by moving into\n",
      "separate class SKCompat. Arguments x, y and batch_size are only\n",
      "available in the SKCompat class, Estimator will only accept input_fn.\n",
      "Example conversion:\n",
      "  est = Estimator(...) -> est = SKCompat(Estimator(...))\n",
      "WARNING:tensorflow:From /home/cavani/Workspace/tensorflow-jupyter/software/tensorflow-cpu/lib/python3.6/site-packages/tensorflow/contrib/learn/python/learn/estimators/head.py:615: scalar_summary (from tensorflow.python.ops.logging_ops) is deprecated and will be removed after 2016-11-30.\n",
      "Instructions for updating:\n",
      "Please switch to tf.summary.scalar. Note that tf.summary.scalar uses the node name instead of the tag. This means that TensorFlow will automatically de-duplicate summary names based on the scope they are created in. Also, passing a tensor or list of tags to a scalar summary op is no longer supported.\n",
      "INFO:tensorflow:Starting evaluation at 2017-06-08-16:59:12\n",
      "INFO:tensorflow:Restoring parameters from iris/model_log/model.ckpt-1\n",
      "INFO:tensorflow:Finished evaluation at 2017-06-08-16:59:13\n",
      "INFO:tensorflow:Saving dict for global step 1: accuracy = 0.266667, global_step = 1, loss = 1.11211, precision = 0.0, recall = 0.0\n",
      "WARNING:tensorflow:Skipping summary for global_step, must be a float or np.float32.\n",
      "INFO:tensorflow:Validation (step 50): loss = 1.11211, accuracy = 0.266667, precision = 0.0, recall = 0.0, global_step = 1\n",
      "INFO:tensorflow:global_step/sec: 181.392\n",
      "INFO:tensorflow:loss = 0.151249, step = 101 (0.552 sec)\n",
      "INFO:tensorflow:global_step/sec: 799.968\n",
      "INFO:tensorflow:loss = 0.0783845, step = 201 (0.125 sec)\n",
      "INFO:tensorflow:global_step/sec: 804.721\n",
      "INFO:tensorflow:loss = 0.0667695, step = 301 (0.124 sec)\n",
      "INFO:tensorflow:global_step/sec: 811.668\n",
      "INFO:tensorflow:loss = 0.0613436, step = 401 (0.123 sec)\n",
      "INFO:tensorflow:Saving checkpoints for 425 into iris/model_log/model.ckpt.\n",
      "WARNING:tensorflow:From /home/cavani/Workspace/tensorflow-jupyter/software/tensorflow-cpu/lib/python3.6/site-packages/tensorflow/contrib/learn/python/learn/monitors.py:662: calling BaseEstimator.evaluate (from tensorflow.contrib.learn.python.learn.estimators.estimator) with x is deprecated and will be removed after 2016-12-01.\n",
      "Instructions for updating:\n",
      "Estimator is decoupled from Scikit Learn interface by moving into\n",
      "separate class SKCompat. Arguments x, y and batch_size are only\n",
      "available in the SKCompat class, Estimator will only accept input_fn.\n",
      "Example conversion:\n",
      "  est = Estimator(...) -> est = SKCompat(Estimator(...))\n",
      "WARNING:tensorflow:From /home/cavani/Workspace/tensorflow-jupyter/software/tensorflow-cpu/lib/python3.6/site-packages/tensorflow/contrib/learn/python/learn/monitors.py:662: calling BaseEstimator.evaluate (from tensorflow.contrib.learn.python.learn.estimators.estimator) with y is deprecated and will be removed after 2016-12-01.\n",
      "Instructions for updating:\n",
      "Estimator is decoupled from Scikit Learn interface by moving into\n",
      "separate class SKCompat. Arguments x, y and batch_size are only\n",
      "available in the SKCompat class, Estimator will only accept input_fn.\n",
      "Example conversion:\n",
      "  est = Estimator(...) -> est = SKCompat(Estimator(...))\n",
      "WARNING:tensorflow:From /home/cavani/Workspace/tensorflow-jupyter/software/tensorflow-cpu/lib/python3.6/site-packages/tensorflow/contrib/learn/python/learn/estimators/head.py:615: scalar_summary (from tensorflow.python.ops.logging_ops) is deprecated and will be removed after 2016-11-30.\n",
      "Instructions for updating:\n",
      "Please switch to tf.summary.scalar. Note that tf.summary.scalar uses the node name instead of the tag. This means that TensorFlow will automatically de-duplicate summary names based on the scope they are created in. Also, passing a tensor or list of tags to a scalar summary op is no longer supported.\n",
      "INFO:tensorflow:Starting evaluation at 2017-06-08-16:59:13\n",
      "INFO:tensorflow:Restoring parameters from iris/model_log/model.ckpt-425\n",
      "INFO:tensorflow:Finished evaluation at 2017-06-08-16:59:14\n",
      "INFO:tensorflow:Saving dict for global step 425: accuracy = 0.966667, global_step = 425, loss = 0.0652413, precision = 1.0, recall = 1.0\n",
      "WARNING:tensorflow:Skipping summary for global_step, must be a float or np.float32.\n",
      "INFO:tensorflow:Validation (step 450): loss = 0.0652413, accuracy = 0.966667, precision = 1.0, recall = 1.0, global_step = 425\n",
      "INFO:tensorflow:global_step/sec: 206.187\n",
      "INFO:tensorflow:loss = 0.0580207, step = 501 (0.485 sec)\n",
      "INFO:tensorflow:global_step/sec: 763.382\n",
      "INFO:tensorflow:loss = 0.0554558, step = 601 (0.132 sec)\n",
      "INFO:tensorflow:global_step/sec: 774.654\n",
      "INFO:tensorflow:loss = 0.0534999, step = 701 (0.128 sec)\n",
      "INFO:tensorflow:global_step/sec: 806.039\n",
      "INFO:tensorflow:loss = 0.0518794, step = 801 (0.124 sec)\n",
      "INFO:tensorflow:global_step/sec: 797.561\n",
      "INFO:tensorflow:loss = 0.0504766, step = 901 (0.125 sec)\n",
      "INFO:tensorflow:Saving checkpoints for 931 into iris/model_log/model.ckpt.\n",
      "WARNING:tensorflow:From /home/cavani/Workspace/tensorflow-jupyter/software/tensorflow-cpu/lib/python3.6/site-packages/tensorflow/contrib/learn/python/learn/monitors.py:662: calling BaseEstimator.evaluate (from tensorflow.contrib.learn.python.learn.estimators.estimator) with x is deprecated and will be removed after 2016-12-01.\n",
      "Instructions for updating:\n",
      "Estimator is decoupled from Scikit Learn interface by moving into\n",
      "separate class SKCompat. Arguments x, y and batch_size are only\n",
      "available in the SKCompat class, Estimator will only accept input_fn.\n",
      "Example conversion:\n",
      "  est = Estimator(...) -> est = SKCompat(Estimator(...))\n",
      "WARNING:tensorflow:From /home/cavani/Workspace/tensorflow-jupyter/software/tensorflow-cpu/lib/python3.6/site-packages/tensorflow/contrib/learn/python/learn/monitors.py:662: calling BaseEstimator.evaluate (from tensorflow.contrib.learn.python.learn.estimators.estimator) with y is deprecated and will be removed after 2016-12-01.\n",
      "Instructions for updating:\n",
      "Estimator is decoupled from Scikit Learn interface by moving into\n",
      "separate class SKCompat. Arguments x, y and batch_size are only\n",
      "available in the SKCompat class, Estimator will only accept input_fn.\n",
      "Example conversion:\n",
      "  est = Estimator(...) -> est = SKCompat(Estimator(...))\n",
      "WARNING:tensorflow:From /home/cavani/Workspace/tensorflow-jupyter/software/tensorflow-cpu/lib/python3.6/site-packages/tensorflow/contrib/learn/python/learn/estimators/head.py:615: scalar_summary (from tensorflow.python.ops.logging_ops) is deprecated and will be removed after 2016-11-30.\n",
      "Instructions for updating:\n",
      "Please switch to tf.summary.scalar. Note that tf.summary.scalar uses the node name instead of the tag. This means that TensorFlow will automatically de-duplicate summary names based on the scope they are created in. Also, passing a tensor or list of tags to a scalar summary op is no longer supported.\n",
      "INFO:tensorflow:Starting evaluation at 2017-06-08-16:59:14\n",
      "INFO:tensorflow:Restoring parameters from iris/model_log/model.ckpt-931\n",
      "INFO:tensorflow:Finished evaluation at 2017-06-08-16:59:14\n",
      "INFO:tensorflow:Saving dict for global step 931: accuracy = 0.933333, global_step = 931, loss = 0.0569263, precision = 1.0, recall = 1.0\n",
      "WARNING:tensorflow:Skipping summary for global_step, must be a float or np.float32.\n",
      "INFO:tensorflow:Validation (step 950): loss = 0.0569263, accuracy = 0.933333, precision = 1.0, recall = 1.0, global_step = 931\n",
      "INFO:tensorflow:global_step/sec: 206.913\n",
      "INFO:tensorflow:loss = 0.0493544, step = 1001 (0.483 sec)\n",
      "INFO:tensorflow:global_step/sec: 793.145\n",
      "INFO:tensorflow:loss = 0.0482976, step = 1101 (0.126 sec)\n",
      "INFO:tensorflow:global_step/sec: 762.818\n",
      "INFO:tensorflow:loss = 0.0474533, step = 1201 (0.131 sec)\n",
      "INFO:tensorflow:global_step/sec: 756.026\n",
      "INFO:tensorflow:loss = 0.0464955, step = 1301 (0.132 sec)\n",
      "INFO:tensorflow:global_step/sec: 798.111\n",
      "INFO:tensorflow:loss = 0.0457197, step = 1401 (0.125 sec)\n",
      "INFO:tensorflow:Saving checkpoints for 1433 into iris/model_log/model.ckpt.\n",
      "WARNING:tensorflow:From /home/cavani/Workspace/tensorflow-jupyter/software/tensorflow-cpu/lib/python3.6/site-packages/tensorflow/contrib/learn/python/learn/monitors.py:662: calling BaseEstimator.evaluate (from tensorflow.contrib.learn.python.learn.estimators.estimator) with x is deprecated and will be removed after 2016-12-01.\n",
      "Instructions for updating:\n",
      "Estimator is decoupled from Scikit Learn interface by moving into\n",
      "separate class SKCompat. Arguments x, y and batch_size are only\n",
      "available in the SKCompat class, Estimator will only accept input_fn.\n",
      "Example conversion:\n",
      "  est = Estimator(...) -> est = SKCompat(Estimator(...))\n",
      "WARNING:tensorflow:From /home/cavani/Workspace/tensorflow-jupyter/software/tensorflow-cpu/lib/python3.6/site-packages/tensorflow/contrib/learn/python/learn/monitors.py:662: calling BaseEstimator.evaluate (from tensorflow.contrib.learn.python.learn.estimators.estimator) with y is deprecated and will be removed after 2016-12-01.\n",
      "Instructions for updating:\n",
      "Estimator is decoupled from Scikit Learn interface by moving into\n",
      "separate class SKCompat. Arguments x, y and batch_size are only\n",
      "available in the SKCompat class, Estimator will only accept input_fn.\n",
      "Example conversion:\n",
      "  est = Estimator(...) -> est = SKCompat(Estimator(...))\n",
      "WARNING:tensorflow:From /home/cavani/Workspace/tensorflow-jupyter/software/tensorflow-cpu/lib/python3.6/site-packages/tensorflow/contrib/learn/python/learn/estimators/head.py:615: scalar_summary (from tensorflow.python.ops.logging_ops) is deprecated and will be removed after 2016-11-30.\n",
      "Instructions for updating:\n",
      "Please switch to tf.summary.scalar. Note that tf.summary.scalar uses the node name instead of the tag. This means that TensorFlow will automatically de-duplicate summary names based on the scope they are created in. Also, passing a tensor or list of tags to a scalar summary op is no longer supported.\n",
      "INFO:tensorflow:Starting evaluation at 2017-06-08-16:59:15\n",
      "INFO:tensorflow:Restoring parameters from iris/model_log/model.ckpt-1433\n",
      "INFO:tensorflow:Finished evaluation at 2017-06-08-16:59:16\n",
      "INFO:tensorflow:Saving dict for global step 1433: accuracy = 0.966667, global_step = 1433, loss = 0.0585483, precision = 1.0, recall = 1.0\n",
      "WARNING:tensorflow:Skipping summary for global_step, must be a float or np.float32.\n",
      "INFO:tensorflow:Validation (step 1450): loss = 0.0585483, accuracy = 0.966667, precision = 1.0, recall = 1.0, global_step = 1433\n",
      "INFO:tensorflow:Stopping. Best step: 950 with loss = 0.05692627653479576.\n",
      "INFO:tensorflow:Saving checkpoints for 1450 into iris/model_log/model.ckpt.\n",
      "INFO:tensorflow:Loss for final step: 0.0454367.\n"
     ]
    },
    {
     "data": {
      "text/plain": [
       "DNNClassifier(params={'head': <tensorflow.contrib.learn.python.learn.estimators.head._MultiClassHead object at 0x7fc4b7008cc0>, 'hidden_units': [10, 20, 10], 'feature_columns': (_RealValuedColumn(column_name='', dimension=4, default_value=None, dtype=tf.float32, normalizer=None),), 'optimizer': None, 'activation_fn': <function relu at 0x7fc4bb34a048>, 'dropout': None, 'gradient_clip_norm': None, 'embedding_lr_multipliers': None, 'input_layer_min_slice_size': None})"
      ]
     },
     "execution_count": 5,
     "metadata": {},
     "output_type": "execute_result"
    }
   ],
   "source": [
    "#Customizing the Evaluation Metrics\n",
    "from tensorflow.contrib.learn.python.learn.metric_spec import MetricSpec\n",
    "\n",
    "validation_metrics = {\n",
    "    'accuracy':\n",
    "        MetricSpec(\n",
    "            metric_fn=tf.contrib.metrics.streaming_accuracy,\n",
    "            prediction_key='classes'),\n",
    "    'precision':\n",
    "        MetricSpec(\n",
    "            metric_fn=tf.contrib.metrics.streaming_precision,\n",
    "            prediction_key='classes'),\n",
    "    'recall':\n",
    "        MetricSpec(\n",
    "            metric_fn=tf.contrib.metrics.streaming_recall,\n",
    "            prediction_key='classes')\n",
    "}\n",
    "\n",
    "validation_monitor = tf.contrib.learn.monitors.ValidationMonitor(\n",
    "    test_set.data,\n",
    "    test_set.target,\n",
    "    every_n_steps=50,\n",
    "    metrics=validation_metrics,\n",
    "    early_stopping_metric=\"loss\",\n",
    "    early_stopping_metric_minimize=True,\n",
    "    early_stopping_rounds=200)\n",
    "\n",
    "classifier.fit(\n",
    "    x=training_set.data,\n",
    "    y=training_set.target,\n",
    "    steps=2000,\n",
    "    monitors=[validation_monitor])"
   ]
  },
  {
   "cell_type": "markdown",
   "metadata": {},
   "source": [
    "**Evaluate Model Accuracy**"
   ]
  },
  {
   "cell_type": "code",
   "execution_count": 6,
   "metadata": {},
   "outputs": [
    {
     "name": "stdout",
     "output_type": "stream",
     "text": [
      "WARNING:tensorflow:From <ipython-input-6-7f47cd26b86b>:1: calling BaseEstimator.evaluate (from tensorflow.contrib.learn.python.learn.estimators.estimator) with x is deprecated and will be removed after 2016-12-01.\n",
      "Instructions for updating:\n",
      "Estimator is decoupled from Scikit Learn interface by moving into\n",
      "separate class SKCompat. Arguments x, y and batch_size are only\n",
      "available in the SKCompat class, Estimator will only accept input_fn.\n",
      "Example conversion:\n",
      "  est = Estimator(...) -> est = SKCompat(Estimator(...))\n",
      "WARNING:tensorflow:From <ipython-input-6-7f47cd26b86b>:1: calling BaseEstimator.evaluate (from tensorflow.contrib.learn.python.learn.estimators.estimator) with y is deprecated and will be removed after 2016-12-01.\n",
      "Instructions for updating:\n",
      "Estimator is decoupled from Scikit Learn interface by moving into\n",
      "separate class SKCompat. Arguments x, y and batch_size are only\n",
      "available in the SKCompat class, Estimator will only accept input_fn.\n",
      "Example conversion:\n",
      "  est = Estimator(...) -> est = SKCompat(Estimator(...))\n",
      "WARNING:tensorflow:From /home/cavani/Workspace/tensorflow-jupyter/software/tensorflow-cpu/lib/python3.6/site-packages/tensorflow/contrib/learn/python/learn/estimators/head.py:615: scalar_summary (from tensorflow.python.ops.logging_ops) is deprecated and will be removed after 2016-11-30.\n",
      "Instructions for updating:\n",
      "Please switch to tf.summary.scalar. Note that tf.summary.scalar uses the node name instead of the tag. This means that TensorFlow will automatically de-duplicate summary names based on the scope they are created in. Also, passing a tensor or list of tags to a scalar summary op is no longer supported.\n",
      "INFO:tensorflow:Starting evaluation at 2017-06-08-16:59:16\n",
      "INFO:tensorflow:Restoring parameters from iris/model_log/model.ckpt-1450\n",
      "INFO:tensorflow:Finished evaluation at 2017-06-08-16:59:16\n",
      "INFO:tensorflow:Saving dict for global step 1450: accuracy = 0.966667, global_step = 1450, loss = 0.0657909\n",
      "WARNING:tensorflow:Skipping summary for global_step, must be a float or np.float32.\n",
      "Accuracy: 0.966667\n"
     ]
    }
   ],
   "source": [
    "accuracy_score = classifier.evaluate(x=test_set.data,y=test_set.target)['accuracy']\n",
    "print('Accuracy: {0:f}'.format(accuracy_score))"
   ]
  },
  {
   "cell_type": "code",
   "execution_count": 7,
   "metadata": {},
   "outputs": [
    {
     "name": "stdout",
     "output_type": "stream",
     "text": [
      "WARNING:tensorflow:From /home/cavani/Workspace/tensorflow-jupyter/software/tensorflow-cpu/lib/python3.6/site-packages/tensorflow/python/util/deprecation.py:335: calling DNNClassifier.predict (from tensorflow.contrib.learn.python.learn.estimators.dnn) with outputs=None is deprecated and will be removed after 2017-03-01.\n",
      "Instructions for updating:\n",
      "Please switch to predict_classes, or set `outputs` argument.\n",
      "WARNING:tensorflow:From /home/cavani/Workspace/tensorflow-jupyter/software/tensorflow-cpu/lib/python3.6/site-packages/tensorflow/contrib/learn/python/learn/estimators/dnn.py:422: calling BaseEstimator.predict (from tensorflow.contrib.learn.python.learn.estimators.estimator) with x is deprecated and will be removed after 2016-12-01.\n",
      "Instructions for updating:\n",
      "Estimator is decoupled from Scikit Learn interface by moving into\n",
      "separate class SKCompat. Arguments x, y and batch_size are only\n",
      "available in the SKCompat class, Estimator will only accept input_fn.\n",
      "Example conversion:\n",
      "  est = Estimator(...) -> est = SKCompat(Estimator(...))\n",
      "WARNING:tensorflow:float64 is not supported by many models, consider casting to float32.\n",
      "INFO:tensorflow:Restoring parameters from iris/model_log/model.ckpt-1450\n",
      "Predictions: 1\n",
      "Predictions: 2\n"
     ]
    }
   ],
   "source": [
    "new_samples = np.array([[6.4, 3.2, 4.5, 1.5], [5.8, 3.1, 5.0, 1.7]], dtype=float)\n",
    "resp = classifier.predict(new_samples)\n",
    "for y in resp:\n",
    "    print('Predictions: {}'.format(y))"
   ]
  }
 ],
 "metadata": {
  "kernelspec": {
   "display_name": "Python 3 (tensorflow-cpu)",
   "language": "python",
   "name": "tensorflow-cpu"
  },
  "language_info": {
   "codemirror_mode": {
    "name": "ipython",
    "version": 3
   },
   "file_extension": ".py",
   "mimetype": "text/x-python",
   "name": "python",
   "nbconvert_exporter": "python",
   "pygments_lexer": "ipython3",
   "version": "3.6.1"
  }
 },
 "nbformat": 4,
 "nbformat_minor": 1
}
