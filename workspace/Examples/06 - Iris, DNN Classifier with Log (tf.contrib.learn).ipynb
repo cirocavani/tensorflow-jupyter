{
 "cells": [
  {
   "cell_type": "markdown",
   "metadata": {},
   "source": [
    "# Logging and Monitoring Basics with tf.contrib.learn\n",
    "\n",
    "https://www.tensorflow.org/versions/r0.11/tutorials/monitors/index.html\n",
    "\n",
    "https://www.tensorflow.org/versions/r0.11/api_docs/python/contrib.learn.monitors.html\n",
    "\n",
    "https://www.tensorflow.org/versions/r0.11/api_docs/python/contrib.learn.html#DNNClassifier"
   ]
  },
  {
   "cell_type": "code",
   "execution_count": 1,
   "metadata": {
    "collapsed": true
   },
   "outputs": [],
   "source": [
    "from __future__ import absolute_import\n",
    "from __future__ import division\n",
    "from __future__ import print_function\n",
    "\n",
    "import tensorflow as tf\n",
    "import numpy as np\n",
    "\n",
    "tf.logging.set_verbosity(tf.logging.INFO)"
   ]
  },
  {
   "cell_type": "markdown",
   "metadata": {},
   "source": [
    "**Load the Iris CSV data to TensorFlow**"
   ]
  },
  {
   "cell_type": "code",
   "execution_count": 2,
   "metadata": {
    "collapsed": true
   },
   "outputs": [],
   "source": [
    "import os\n",
    "import shutil\n",
    "\n",
    "HOME_DIR = 'iris'\n",
    "DATA_DIR = os.path.join(HOME_DIR, 'data')\n",
    "\n",
    "IRIS_TRAINING = \"iris_training.csv\"\n",
    "IRIS_TEST = \"iris_test.csv\"\n",
    "\n",
    "TRAINING_FILE = os.path.join(DATA_DIR, IRIS_TRAINING)\n",
    "TEST_FILE = os.path.join(DATA_DIR, IRIS_TEST)\n",
    "\n",
    "from tensorflow.contrib.learn.python.learn.datasets.base import maybe_download\n",
    "maybe_download(IRIS_TRAINING, DATA_DIR, 'http://download.tensorflow.org/data/iris_training.csv')\n",
    "maybe_download(IRIS_TEST, DATA_DIR, 'http://download.tensorflow.org/data/iris_test.csv')\n",
    "\n",
    "MODEL_DIR = os.path.join(HOME_DIR, 'model_log')\n",
    "\n",
    "if os.path.isdir(MODEL_DIR):\n",
    "    shutil.rmtree(MODEL_DIR)"
   ]
  },
  {
   "cell_type": "code",
   "execution_count": 3,
   "metadata": {
    "collapsed": true
   },
   "outputs": [],
   "source": [
    "training_set = tf.contrib.learn.datasets.base.load_csv_with_header(\n",
    "    filename=TRAINING_FILE,\n",
    "    target_dtype=np.int,\n",
    "    features_dtype=np.float32)\n",
    "\n",
    "test_set = tf.contrib.learn.datasets.base.load_csv_with_header(\n",
    "    filename=TEST_FILE,\n",
    "    target_dtype=np.int,\n",
    "    features_dtype=np.float32)"
   ]
  },
  {
   "cell_type": "markdown",
   "metadata": {},
   "source": [
    "**Construct a Deep Neural Network Classifier**"
   ]
  },
  {
   "cell_type": "code",
   "execution_count": 4,
   "metadata": {
    "collapsed": false
   },
   "outputs": [
    {
     "name": "stderr",
     "output_type": "stream",
     "text": [
      "WARNING:tensorflow:Change warning: default value of `enable_centered_bias` will change after 2016-10-09. It will be disabled by default.Instructions for keeping existing behaviour:\n",
      "Explicitly set `enable_centered_bias` to 'True' if you want to keep existing behaviour.\n",
      "INFO:tensorflow:Using config: {'task': 0, 'save_summary_steps': 100, 'keep_checkpoint_max': 5, '_is_chief': True, 'save_checkpoints_secs': 1, 'evaluation_master': '', 'tf_config': gpu_options {\n",
      "  per_process_gpu_memory_fraction: 1\n",
      "}\n",
      ", 'master': '', 'keep_checkpoint_every_n_hours': 10000, '_job_name': None, 'cluster_spec': None, 'tf_random_seed': None, 'num_ps_replicas': 0}\n"
     ]
    }
   ],
   "source": [
    "feature_columns = [tf.contrib.layers.real_valued_column(\"\", dimension=4)]\n",
    "\n",
    "classifier = tf.contrib.learn.DNNClassifier(\n",
    "    feature_columns=feature_columns,\n",
    "    hidden_units=[10, 20, 10],\n",
    "    n_classes=3,\n",
    "    model_dir=MODEL_DIR,\n",
    "    config=tf.contrib.learn.RunConfig(save_checkpoints_secs=1)) #to ensure a sufficient number of checkpoints"
   ]
  },
  {
   "cell_type": "markdown",
   "metadata": {},
   "source": [
    "**Fit the DNNClassifier to the Iris Training Data**"
   ]
  },
  {
   "cell_type": "code",
   "execution_count": 5,
   "metadata": {
    "collapsed": false
   },
   "outputs": [
    {
     "name": "stderr",
     "output_type": "stream",
     "text": [
      "INFO:tensorflow:Setting feature info to TensorSignature(dtype=tf.float32, shape=TensorShape([Dimension(None), Dimension(4)]), is_sparse=False)\n",
      "INFO:tensorflow:Setting targets info to TensorSignature(dtype=tf.int64, shape=TensorShape([Dimension(None)]), is_sparse=False)\n",
      "INFO:tensorflow:Transforming feature_column _RealValuedColumn(column_name='', dimension=4, default_value=None, dtype=tf.float32, normalizer=None)\n",
      "INFO:tensorflow:Create CheckpointSaverHook\n",
      "INFO:tensorflow:loss = 1.0897, step = 1\n",
      "INFO:tensorflow:Saving checkpoints for 1 into iris/model_log/model.ckpt.\n",
      "WARNING:tensorflow:Given features: Tensor(\"input:0\", shape=(?, 4), dtype=float32), required signatures: TensorSignature(dtype=tf.float32, shape=TensorShape([Dimension(None), Dimension(4)]), is_sparse=False).\n",
      "WARNING:tensorflow:Given targets: Tensor(\"output:0\", shape=(?,), dtype=int64), required signatures: TensorSignature(dtype=tf.int64, shape=TensorShape([Dimension(None)]), is_sparse=False).\n",
      "INFO:tensorflow:Transforming feature_column _RealValuedColumn(column_name='', dimension=4, default_value=None, dtype=tf.float32, normalizer=None)\n",
      "INFO:tensorflow:Restored model from iris/model_log\n",
      "INFO:tensorflow:Eval steps [0,inf) for training step 1.\n",
      "INFO:tensorflow:Input iterator is exhausted.\n",
      "INFO:tensorflow:Saving evaluation summary for 1 step: loss = 1.45386, accuracy = 0.266667\n",
      "INFO:tensorflow:Validation (step 50): loss = 1.45386, global_step = 1, accuracy = 0.266667\n",
      "INFO:tensorflow:Saving checkpoints for 51 into iris/model_log/model.ckpt.\n",
      "WARNING:tensorflow:Given features: Tensor(\"input:0\", shape=(?, 4), dtype=float32), required signatures: TensorSignature(dtype=tf.float32, shape=TensorShape([Dimension(None), Dimension(4)]), is_sparse=False).\n",
      "WARNING:tensorflow:Given targets: Tensor(\"output:0\", shape=(?,), dtype=int64), required signatures: TensorSignature(dtype=tf.int64, shape=TensorShape([Dimension(None)]), is_sparse=False).\n",
      "INFO:tensorflow:Transforming feature_column _RealValuedColumn(column_name='', dimension=4, default_value=None, dtype=tf.float32, normalizer=None)\n",
      "INFO:tensorflow:Restored model from iris/model_log\n",
      "INFO:tensorflow:Eval steps [0,inf) for training step 51.\n",
      "INFO:tensorflow:Input iterator is exhausted.\n",
      "INFO:tensorflow:Saving evaluation summary for 51 step: loss = 0.431915, accuracy = 0.733333\n",
      "INFO:tensorflow:Validation (step 100): loss = 0.431915, global_step = 51, accuracy = 0.733333\n",
      "INFO:tensorflow:loss = 0.168153, step = 101\n",
      "INFO:tensorflow:Saving checkpoints for 101 into iris/model_log/model.ckpt.\n",
      "WARNING:tensorflow:Given features: Tensor(\"input:0\", shape=(?, 4), dtype=float32), required signatures: TensorSignature(dtype=tf.float32, shape=TensorShape([Dimension(None), Dimension(4)]), is_sparse=False).\n",
      "WARNING:tensorflow:Given targets: Tensor(\"output:0\", shape=(?,), dtype=int64), required signatures: TensorSignature(dtype=tf.int64, shape=TensorShape([Dimension(None)]), is_sparse=False).\n",
      "INFO:tensorflow:Transforming feature_column _RealValuedColumn(column_name='', dimension=4, default_value=None, dtype=tf.float32, normalizer=None)\n",
      "INFO:tensorflow:Restored model from iris/model_log\n",
      "INFO:tensorflow:Eval steps [0,inf) for training step 101.\n",
      "INFO:tensorflow:Input iterator is exhausted.\n",
      "INFO:tensorflow:Saving evaluation summary for 101 step: loss = 0.219336, accuracy = 0.933333\n",
      "INFO:tensorflow:Validation (step 150): loss = 0.219336, global_step = 101, accuracy = 0.933333\n",
      "INFO:tensorflow:Saving checkpoints for 151 into iris/model_log/model.ckpt.\n",
      "WARNING:tensorflow:Given features: Tensor(\"input:0\", shape=(?, 4), dtype=float32), required signatures: TensorSignature(dtype=tf.float32, shape=TensorShape([Dimension(None), Dimension(4)]), is_sparse=False).\n",
      "WARNING:tensorflow:Given targets: Tensor(\"output:0\", shape=(?,), dtype=int64), required signatures: TensorSignature(dtype=tf.int64, shape=TensorShape([Dimension(None)]), is_sparse=False).\n",
      "INFO:tensorflow:Transforming feature_column _RealValuedColumn(column_name='', dimension=4, default_value=None, dtype=tf.float32, normalizer=None)\n",
      "INFO:tensorflow:Restored model from iris/model_log\n",
      "INFO:tensorflow:Eval steps [0,inf) for training step 151.\n",
      "INFO:tensorflow:Input iterator is exhausted.\n",
      "INFO:tensorflow:Saving evaluation summary for 151 step: loss = 0.149099, accuracy = 0.966667\n",
      "INFO:tensorflow:Validation (step 200): loss = 0.149099, global_step = 151, accuracy = 0.966667\n",
      "INFO:tensorflow:loss = 0.095549, step = 201\n",
      "INFO:tensorflow:Saving checkpoints for 201 into iris/model_log/model.ckpt.\n",
      "WARNING:tensorflow:Given features: Tensor(\"input:0\", shape=(?, 4), dtype=float32), required signatures: TensorSignature(dtype=tf.float32, shape=TensorShape([Dimension(None), Dimension(4)]), is_sparse=False).\n",
      "WARNING:tensorflow:Given targets: Tensor(\"output:0\", shape=(?,), dtype=int64), required signatures: TensorSignature(dtype=tf.int64, shape=TensorShape([Dimension(None)]), is_sparse=False).\n",
      "INFO:tensorflow:Transforming feature_column _RealValuedColumn(column_name='', dimension=4, default_value=None, dtype=tf.float32, normalizer=None)\n",
      "INFO:tensorflow:Restored model from iris/model_log\n",
      "INFO:tensorflow:Eval steps [0,inf) for training step 201.\n",
      "INFO:tensorflow:Input iterator is exhausted.\n",
      "INFO:tensorflow:Saving evaluation summary for 201 step: loss = 0.116169, accuracy = 0.933333\n",
      "INFO:tensorflow:Validation (step 250): loss = 0.116169, global_step = 201, accuracy = 0.933333\n",
      "INFO:tensorflow:Saving checkpoints for 251 into iris/model_log/model.ckpt.\n",
      "WARNING:tensorflow:Given features: Tensor(\"input:0\", shape=(?, 4), dtype=float32), required signatures: TensorSignature(dtype=tf.float32, shape=TensorShape([Dimension(None), Dimension(4)]), is_sparse=False).\n",
      "WARNING:tensorflow:Given targets: Tensor(\"output:0\", shape=(?,), dtype=int64), required signatures: TensorSignature(dtype=tf.int64, shape=TensorShape([Dimension(None)]), is_sparse=False).\n",
      "INFO:tensorflow:Transforming feature_column _RealValuedColumn(column_name='', dimension=4, default_value=None, dtype=tf.float32, normalizer=None)\n",
      "INFO:tensorflow:Restored model from iris/model_log\n",
      "INFO:tensorflow:Eval steps [0,inf) for training step 251.\n",
      "INFO:tensorflow:Input iterator is exhausted.\n",
      "INFO:tensorflow:Saving evaluation summary for 251 step: loss = 0.10701, accuracy = 0.933333\n",
      "INFO:tensorflow:Validation (step 300): loss = 0.10701, global_step = 251, accuracy = 0.933333\n",
      "INFO:tensorflow:loss = 0.0795249, step = 301\n",
      "INFO:tensorflow:Saving checkpoints for 301 into iris/model_log/model.ckpt.\n",
      "WARNING:tensorflow:Given features: Tensor(\"input:0\", shape=(?, 4), dtype=float32), required signatures: TensorSignature(dtype=tf.float32, shape=TensorShape([Dimension(None), Dimension(4)]), is_sparse=False).\n",
      "WARNING:tensorflow:Given targets: Tensor(\"output:0\", shape=(?,), dtype=int64), required signatures: TensorSignature(dtype=tf.int64, shape=TensorShape([Dimension(None)]), is_sparse=False).\n",
      "INFO:tensorflow:Transforming feature_column _RealValuedColumn(column_name='', dimension=4, default_value=None, dtype=tf.float32, normalizer=None)\n",
      "INFO:tensorflow:Restored model from iris/model_log\n",
      "INFO:tensorflow:Eval steps [0,inf) for training step 301.\n",
      "INFO:tensorflow:Input iterator is exhausted.\n",
      "INFO:tensorflow:Saving evaluation summary for 301 step: loss = 0.0974366, accuracy = 0.933333\n",
      "INFO:tensorflow:Validation (step 350): loss = 0.0974366, global_step = 301, accuracy = 0.933333\n",
      "INFO:tensorflow:Saving checkpoints for 351 into iris/model_log/model.ckpt.\n",
      "WARNING:tensorflow:Given features: Tensor(\"input:0\", shape=(?, 4), dtype=float32), required signatures: TensorSignature(dtype=tf.float32, shape=TensorShape([Dimension(None), Dimension(4)]), is_sparse=False).\n",
      "WARNING:tensorflow:Given targets: Tensor(\"output:0\", shape=(?,), dtype=int64), required signatures: TensorSignature(dtype=tf.int64, shape=TensorShape([Dimension(None)]), is_sparse=False).\n",
      "INFO:tensorflow:Transforming feature_column _RealValuedColumn(column_name='', dimension=4, default_value=None, dtype=tf.float32, normalizer=None)\n",
      "INFO:tensorflow:Restored model from iris/model_log\n",
      "INFO:tensorflow:Eval steps [0,inf) for training step 351.\n",
      "INFO:tensorflow:Input iterator is exhausted.\n",
      "INFO:tensorflow:Saving evaluation summary for 351 step: loss = 0.0931263, accuracy = 0.933333\n",
      "INFO:tensorflow:Validation (step 400): loss = 0.0931263, global_step = 351, accuracy = 0.933333\n",
      "INFO:tensorflow:loss = 0.0712821, step = 401\n",
      "INFO:tensorflow:Saving checkpoints for 401 into iris/model_log/model.ckpt.\n",
      "WARNING:tensorflow:Given features: Tensor(\"input:0\", shape=(?, 4), dtype=float32), required signatures: TensorSignature(dtype=tf.float32, shape=TensorShape([Dimension(None), Dimension(4)]), is_sparse=False).\n",
      "WARNING:tensorflow:Given targets: Tensor(\"output:0\", shape=(?,), dtype=int64), required signatures: TensorSignature(dtype=tf.int64, shape=TensorShape([Dimension(None)]), is_sparse=False).\n",
      "INFO:tensorflow:Transforming feature_column _RealValuedColumn(column_name='', dimension=4, default_value=None, dtype=tf.float32, normalizer=None)\n",
      "INFO:tensorflow:Restored model from iris/model_log\n",
      "INFO:tensorflow:Eval steps [0,inf) for training step 401.\n",
      "INFO:tensorflow:Input iterator is exhausted.\n",
      "INFO:tensorflow:Saving evaluation summary for 401 step: loss = 0.0889933, accuracy = 0.933333\n",
      "INFO:tensorflow:Validation (step 450): loss = 0.0889933, global_step = 401, accuracy = 0.933333\n",
      "INFO:tensorflow:Saving checkpoints for 451 into iris/model_log/model.ckpt.\n",
      "WARNING:tensorflow:Given features: Tensor(\"input:0\", shape=(?, 4), dtype=float32), required signatures: TensorSignature(dtype=tf.float32, shape=TensorShape([Dimension(None), Dimension(4)]), is_sparse=False).\n",
      "WARNING:tensorflow:Given targets: Tensor(\"output:0\", shape=(?,), dtype=int64), required signatures: TensorSignature(dtype=tf.int64, shape=TensorShape([Dimension(None)]), is_sparse=False).\n",
      "INFO:tensorflow:Transforming feature_column _RealValuedColumn(column_name='', dimension=4, default_value=None, dtype=tf.float32, normalizer=None)\n",
      "INFO:tensorflow:Restored model from iris/model_log\n",
      "INFO:tensorflow:Eval steps [0,inf) for training step 451.\n",
      "INFO:tensorflow:Input iterator is exhausted.\n",
      "INFO:tensorflow:Saving evaluation summary for 451 step: loss = 0.0856992, accuracy = 0.933333\n",
      "INFO:tensorflow:Validation (step 500): loss = 0.0856992, global_step = 451, accuracy = 0.933333\n",
      "INFO:tensorflow:loss = 0.0653127, step = 501\n",
      "INFO:tensorflow:Saving checkpoints for 501 into iris/model_log/model.ckpt.\n",
      "WARNING:tensorflow:Given features: Tensor(\"input:0\", shape=(?, 4), dtype=float32), required signatures: TensorSignature(dtype=tf.float32, shape=TensorShape([Dimension(None), Dimension(4)]), is_sparse=False).\n",
      "WARNING:tensorflow:Given targets: Tensor(\"output:0\", shape=(?,), dtype=int64), required signatures: TensorSignature(dtype=tf.int64, shape=TensorShape([Dimension(None)]), is_sparse=False).\n",
      "INFO:tensorflow:Transforming feature_column _RealValuedColumn(column_name='', dimension=4, default_value=None, dtype=tf.float32, normalizer=None)\n",
      "INFO:tensorflow:Restored model from iris/model_log\n",
      "INFO:tensorflow:Eval steps [0,inf) for training step 501.\n",
      "INFO:tensorflow:Input iterator is exhausted.\n",
      "INFO:tensorflow:Saving evaluation summary for 501 step: loss = 0.0834256, accuracy = 0.933333\n",
      "INFO:tensorflow:Validation (step 550): loss = 0.0834256, global_step = 501, accuracy = 0.933333\n",
      "INFO:tensorflow:Saving checkpoints for 551 into iris/model_log/model.ckpt.\n",
      "WARNING:tensorflow:Given features: Tensor(\"input:0\", shape=(?, 4), dtype=float32), required signatures: TensorSignature(dtype=tf.float32, shape=TensorShape([Dimension(None), Dimension(4)]), is_sparse=False).\n",
      "WARNING:tensorflow:Given targets: Tensor(\"output:0\", shape=(?,), dtype=int64), required signatures: TensorSignature(dtype=tf.int64, shape=TensorShape([Dimension(None)]), is_sparse=False).\n",
      "INFO:tensorflow:Transforming feature_column _RealValuedColumn(column_name='', dimension=4, default_value=None, dtype=tf.float32, normalizer=None)\n",
      "INFO:tensorflow:Restored model from iris/model_log\n",
      "INFO:tensorflow:Eval steps [0,inf) for training step 551.\n",
      "INFO:tensorflow:Input iterator is exhausted.\n",
      "INFO:tensorflow:Saving evaluation summary for 551 step: loss = 0.081453, accuracy = 0.933333\n",
      "INFO:tensorflow:Validation (step 600): loss = 0.081453, global_step = 551, accuracy = 0.933333\n",
      "INFO:tensorflow:loss = 0.0607053, step = 601\n",
      "INFO:tensorflow:Saving checkpoints for 601 into iris/model_log/model.ckpt.\n",
      "WARNING:tensorflow:Given features: Tensor(\"input:0\", shape=(?, 4), dtype=float32), required signatures: TensorSignature(dtype=tf.float32, shape=TensorShape([Dimension(None), Dimension(4)]), is_sparse=False).\n",
      "WARNING:tensorflow:Given targets: Tensor(\"output:0\", shape=(?,), dtype=int64), required signatures: TensorSignature(dtype=tf.int64, shape=TensorShape([Dimension(None)]), is_sparse=False).\n",
      "INFO:tensorflow:Transforming feature_column _RealValuedColumn(column_name='', dimension=4, default_value=None, dtype=tf.float32, normalizer=None)\n",
      "INFO:tensorflow:Restored model from iris/model_log\n",
      "INFO:tensorflow:Eval steps [0,inf) for training step 601.\n",
      "INFO:tensorflow:Input iterator is exhausted.\n",
      "INFO:tensorflow:Saving evaluation summary for 601 step: loss = 0.0796985, accuracy = 0.933333\n",
      "INFO:tensorflow:Validation (step 650): loss = 0.0796985, global_step = 601, accuracy = 0.933333\n",
      "INFO:tensorflow:Saving checkpoints for 651 into iris/model_log/model.ckpt.\n",
      "WARNING:tensorflow:Given features: Tensor(\"input:0\", shape=(?, 4), dtype=float32), required signatures: TensorSignature(dtype=tf.float32, shape=TensorShape([Dimension(None), Dimension(4)]), is_sparse=False).\n",
      "WARNING:tensorflow:Given targets: Tensor(\"output:0\", shape=(?,), dtype=int64), required signatures: TensorSignature(dtype=tf.int64, shape=TensorShape([Dimension(None)]), is_sparse=False).\n",
      "INFO:tensorflow:Transforming feature_column _RealValuedColumn(column_name='', dimension=4, default_value=None, dtype=tf.float32, normalizer=None)\n",
      "INFO:tensorflow:Restored model from iris/model_log\n",
      "INFO:tensorflow:Eval steps [0,inf) for training step 651.\n",
      "INFO:tensorflow:Input iterator is exhausted.\n",
      "INFO:tensorflow:Saving evaluation summary for 651 step: loss = 0.0782858, accuracy = 0.933333\n",
      "INFO:tensorflow:Validation (step 700): loss = 0.0782858, global_step = 651, accuracy = 0.933333\n",
      "INFO:tensorflow:loss = 0.0570264, step = 701\n",
      "INFO:tensorflow:Saving checkpoints for 701 into iris/model_log/model.ckpt.\n",
      "WARNING:tensorflow:Given features: Tensor(\"input:0\", shape=(?, 4), dtype=float32), required signatures: TensorSignature(dtype=tf.float32, shape=TensorShape([Dimension(None), Dimension(4)]), is_sparse=False).\n",
      "WARNING:tensorflow:Given targets: Tensor(\"output:0\", shape=(?,), dtype=int64), required signatures: TensorSignature(dtype=tf.int64, shape=TensorShape([Dimension(None)]), is_sparse=False).\n",
      "INFO:tensorflow:Transforming feature_column _RealValuedColumn(column_name='', dimension=4, default_value=None, dtype=tf.float32, normalizer=None)\n",
      "INFO:tensorflow:Restored model from iris/model_log\n",
      "INFO:tensorflow:Eval steps [0,inf) for training step 701.\n",
      "INFO:tensorflow:Input iterator is exhausted.\n",
      "INFO:tensorflow:Saving evaluation summary for 701 step: loss = 0.0771317, accuracy = 0.933333\n",
      "INFO:tensorflow:Validation (step 750): loss = 0.0771317, global_step = 701, accuracy = 0.933333\n",
      "INFO:tensorflow:Saving checkpoints for 751 into iris/model_log/model.ckpt.\n",
      "WARNING:tensorflow:Given features: Tensor(\"input:0\", shape=(?, 4), dtype=float32), required signatures: TensorSignature(dtype=tf.float32, shape=TensorShape([Dimension(None), Dimension(4)]), is_sparse=False).\n",
      "WARNING:tensorflow:Given targets: Tensor(\"output:0\", shape=(?,), dtype=int64), required signatures: TensorSignature(dtype=tf.int64, shape=TensorShape([Dimension(None)]), is_sparse=False).\n",
      "INFO:tensorflow:Transforming feature_column _RealValuedColumn(column_name='', dimension=4, default_value=None, dtype=tf.float32, normalizer=None)\n",
      "INFO:tensorflow:Restored model from iris/model_log\n",
      "INFO:tensorflow:Eval steps [0,inf) for training step 751.\n",
      "INFO:tensorflow:Input iterator is exhausted.\n",
      "INFO:tensorflow:Saving evaluation summary for 751 step: loss = 0.0761408, accuracy = 0.933333\n",
      "INFO:tensorflow:Validation (step 800): loss = 0.0761408, global_step = 751, accuracy = 0.933333\n",
      "INFO:tensorflow:loss = 0.0537365, step = 801\n",
      "INFO:tensorflow:Saving checkpoints for 801 into iris/model_log/model.ckpt.\n",
      "WARNING:tensorflow:Given features: Tensor(\"input:0\", shape=(?, 4), dtype=float32), required signatures: TensorSignature(dtype=tf.float32, shape=TensorShape([Dimension(None), Dimension(4)]), is_sparse=False).\n",
      "WARNING:tensorflow:Given targets: Tensor(\"output:0\", shape=(?,), dtype=int64), required signatures: TensorSignature(dtype=tf.int64, shape=TensorShape([Dimension(None)]), is_sparse=False).\n",
      "INFO:tensorflow:Transforming feature_column _RealValuedColumn(column_name='', dimension=4, default_value=None, dtype=tf.float32, normalizer=None)\n",
      "INFO:tensorflow:Restored model from iris/model_log\n",
      "INFO:tensorflow:Eval steps [0,inf) for training step 801.\n",
      "INFO:tensorflow:Input iterator is exhausted.\n",
      "INFO:tensorflow:Saving evaluation summary for 801 step: loss = 0.0753461, accuracy = 0.933333\n",
      "INFO:tensorflow:Validation (step 850): loss = 0.0753461, global_step = 801, accuracy = 0.933333\n",
      "INFO:tensorflow:Saving checkpoints for 851 into iris/model_log/model.ckpt.\n",
      "WARNING:tensorflow:Given features: Tensor(\"input:0\", shape=(?, 4), dtype=float32), required signatures: TensorSignature(dtype=tf.float32, shape=TensorShape([Dimension(None), Dimension(4)]), is_sparse=False).\n",
      "WARNING:tensorflow:Given targets: Tensor(\"output:0\", shape=(?,), dtype=int64), required signatures: TensorSignature(dtype=tf.int64, shape=TensorShape([Dimension(None)]), is_sparse=False).\n",
      "INFO:tensorflow:Transforming feature_column _RealValuedColumn(column_name='', dimension=4, default_value=None, dtype=tf.float32, normalizer=None)\n",
      "INFO:tensorflow:Restored model from iris/model_log\n",
      "INFO:tensorflow:Eval steps [0,inf) for training step 851.\n",
      "INFO:tensorflow:Input iterator is exhausted.\n",
      "INFO:tensorflow:Saving evaluation summary for 851 step: loss = 0.074709, accuracy = 0.933333\n",
      "INFO:tensorflow:Validation (step 900): loss = 0.074709, global_step = 851, accuracy = 0.933333\n",
      "INFO:tensorflow:loss = 0.050976, step = 901\n",
      "INFO:tensorflow:Saving checkpoints for 901 into iris/model_log/model.ckpt.\n",
      "WARNING:tensorflow:Given features: Tensor(\"input:0\", shape=(?, 4), dtype=float32), required signatures: TensorSignature(dtype=tf.float32, shape=TensorShape([Dimension(None), Dimension(4)]), is_sparse=False).\n",
      "WARNING:tensorflow:Given targets: Tensor(\"output:0\", shape=(?,), dtype=int64), required signatures: TensorSignature(dtype=tf.int64, shape=TensorShape([Dimension(None)]), is_sparse=False).\n",
      "INFO:tensorflow:Transforming feature_column _RealValuedColumn(column_name='', dimension=4, default_value=None, dtype=tf.float32, normalizer=None)\n",
      "INFO:tensorflow:Restored model from iris/model_log\n",
      "INFO:tensorflow:Eval steps [0,inf) for training step 901.\n",
      "INFO:tensorflow:Input iterator is exhausted.\n",
      "INFO:tensorflow:Saving evaluation summary for 901 step: loss = 0.0742373, accuracy = 0.933333\n",
      "INFO:tensorflow:Validation (step 950): loss = 0.0742373, global_step = 901, accuracy = 0.933333\n",
      "INFO:tensorflow:Saving checkpoints for 951 into iris/model_log/model.ckpt.\n",
      "WARNING:tensorflow:Given features: Tensor(\"input:0\", shape=(?, 4), dtype=float32), required signatures: TensorSignature(dtype=tf.float32, shape=TensorShape([Dimension(None), Dimension(4)]), is_sparse=False).\n",
      "WARNING:tensorflow:Given targets: Tensor(\"output:0\", shape=(?,), dtype=int64), required signatures: TensorSignature(dtype=tf.int64, shape=TensorShape([Dimension(None)]), is_sparse=False).\n",
      "INFO:tensorflow:Transforming feature_column _RealValuedColumn(column_name='', dimension=4, default_value=None, dtype=tf.float32, normalizer=None)\n",
      "INFO:tensorflow:Restored model from iris/model_log\n",
      "INFO:tensorflow:Eval steps [0,inf) for training step 951.\n",
      "INFO:tensorflow:Input iterator is exhausted.\n",
      "INFO:tensorflow:Saving evaluation summary for 951 step: loss = 0.0739055, accuracy = 0.933333\n",
      "INFO:tensorflow:Validation (step 1000): loss = 0.0739055, global_step = 951, accuracy = 0.933333\n",
      "INFO:tensorflow:loss = 0.0485879, step = 1001\n",
      "INFO:tensorflow:Saving checkpoints for 1001 into iris/model_log/model.ckpt.\n",
      "WARNING:tensorflow:Given features: Tensor(\"input:0\", shape=(?, 4), dtype=float32), required signatures: TensorSignature(dtype=tf.float32, shape=TensorShape([Dimension(None), Dimension(4)]), is_sparse=False).\n",
      "WARNING:tensorflow:Given targets: Tensor(\"output:0\", shape=(?,), dtype=int64), required signatures: TensorSignature(dtype=tf.int64, shape=TensorShape([Dimension(None)]), is_sparse=False).\n",
      "INFO:tensorflow:Transforming feature_column _RealValuedColumn(column_name='', dimension=4, default_value=None, dtype=tf.float32, normalizer=None)\n",
      "INFO:tensorflow:Restored model from iris/model_log\n",
      "INFO:tensorflow:Eval steps [0,inf) for training step 1001.\n",
      "INFO:tensorflow:Input iterator is exhausted.\n",
      "INFO:tensorflow:Saving evaluation summary for 1001 step: loss = 0.0736779, accuracy = 0.933333\n",
      "INFO:tensorflow:Validation (step 1050): loss = 0.0736779, global_step = 1001, accuracy = 0.933333\n",
      "INFO:tensorflow:Saving checkpoints for 1051 into iris/model_log/model.ckpt.\n",
      "WARNING:tensorflow:Given features: Tensor(\"input:0\", shape=(?, 4), dtype=float32), required signatures: TensorSignature(dtype=tf.float32, shape=TensorShape([Dimension(None), Dimension(4)]), is_sparse=False).\n",
      "WARNING:tensorflow:Given targets: Tensor(\"output:0\", shape=(?,), dtype=int64), required signatures: TensorSignature(dtype=tf.int64, shape=TensorShape([Dimension(None)]), is_sparse=False).\n",
      "INFO:tensorflow:Transforming feature_column _RealValuedColumn(column_name='', dimension=4, default_value=None, dtype=tf.float32, normalizer=None)\n",
      "INFO:tensorflow:Restored model from iris/model_log\n",
      "INFO:tensorflow:Eval steps [0,inf) for training step 1051.\n",
      "INFO:tensorflow:Input iterator is exhausted.\n",
      "INFO:tensorflow:Saving evaluation summary for 1051 step: loss = 0.073554, accuracy = 0.933333\n",
      "INFO:tensorflow:Validation (step 1100): loss = 0.073554, global_step = 1051, accuracy = 0.933333\n",
      "INFO:tensorflow:loss = 0.0465668, step = 1101\n",
      "INFO:tensorflow:Saving checkpoints for 1101 into iris/model_log/model.ckpt.\n",
      "WARNING:tensorflow:Given features: Tensor(\"input:0\", shape=(?, 4), dtype=float32), required signatures: TensorSignature(dtype=tf.float32, shape=TensorShape([Dimension(None), Dimension(4)]), is_sparse=False).\n",
      "WARNING:tensorflow:Given targets: Tensor(\"output:0\", shape=(?,), dtype=int64), required signatures: TensorSignature(dtype=tf.int64, shape=TensorShape([Dimension(None)]), is_sparse=False).\n",
      "INFO:tensorflow:Transforming feature_column _RealValuedColumn(column_name='', dimension=4, default_value=None, dtype=tf.float32, normalizer=None)\n",
      "INFO:tensorflow:Restored model from iris/model_log\n",
      "INFO:tensorflow:Eval steps [0,inf) for training step 1101.\n",
      "INFO:tensorflow:Input iterator is exhausted.\n",
      "INFO:tensorflow:Saving evaluation summary for 1101 step: loss = 0.0735025, accuracy = 0.933333\n",
      "INFO:tensorflow:Validation (step 1150): loss = 0.0735025, global_step = 1101, accuracy = 0.933333\n",
      "INFO:tensorflow:Saving checkpoints for 1151 into iris/model_log/model.ckpt.\n",
      "WARNING:tensorflow:Given features: Tensor(\"input:0\", shape=(?, 4), dtype=float32), required signatures: TensorSignature(dtype=tf.float32, shape=TensorShape([Dimension(None), Dimension(4)]), is_sparse=False).\n",
      "WARNING:tensorflow:Given targets: Tensor(\"output:0\", shape=(?,), dtype=int64), required signatures: TensorSignature(dtype=tf.int64, shape=TensorShape([Dimension(None)]), is_sparse=False).\n",
      "INFO:tensorflow:Transforming feature_column _RealValuedColumn(column_name='', dimension=4, default_value=None, dtype=tf.float32, normalizer=None)\n",
      "INFO:tensorflow:Restored model from iris/model_log\n",
      "INFO:tensorflow:Eval steps [0,inf) for training step 1151.\n",
      "INFO:tensorflow:Input iterator is exhausted.\n",
      "INFO:tensorflow:Saving evaluation summary for 1151 step: loss = 0.0735686, accuracy = 0.966667\n",
      "INFO:tensorflow:Validation (step 1200): loss = 0.0735686, global_step = 1151, accuracy = 0.966667\n",
      "INFO:tensorflow:loss = 0.0447894, step = 1201\n",
      "INFO:tensorflow:Saving checkpoints for 1201 into iris/model_log/model.ckpt.\n",
      "WARNING:tensorflow:Given features: Tensor(\"input:0\", shape=(?, 4), dtype=float32), required signatures: TensorSignature(dtype=tf.float32, shape=TensorShape([Dimension(None), Dimension(4)]), is_sparse=False).\n",
      "WARNING:tensorflow:Given targets: Tensor(\"output:0\", shape=(?,), dtype=int64), required signatures: TensorSignature(dtype=tf.int64, shape=TensorShape([Dimension(None)]), is_sparse=False).\n",
      "INFO:tensorflow:Transforming feature_column _RealValuedColumn(column_name='', dimension=4, default_value=None, dtype=tf.float32, normalizer=None)\n",
      "INFO:tensorflow:Restored model from iris/model_log\n",
      "INFO:tensorflow:Eval steps [0,inf) for training step 1201.\n",
      "INFO:tensorflow:Input iterator is exhausted.\n",
      "INFO:tensorflow:Saving evaluation summary for 1201 step: loss = 0.0736963, accuracy = 0.966667\n",
      "INFO:tensorflow:Validation (step 1250): loss = 0.0736963, global_step = 1201, accuracy = 0.966667\n",
      "INFO:tensorflow:Saving checkpoints for 1251 into iris/model_log/model.ckpt.\n",
      "WARNING:tensorflow:Given features: Tensor(\"input:0\", shape=(?, 4), dtype=float32), required signatures: TensorSignature(dtype=tf.float32, shape=TensorShape([Dimension(None), Dimension(4)]), is_sparse=False).\n",
      "WARNING:tensorflow:Given targets: Tensor(\"output:0\", shape=(?,), dtype=int64), required signatures: TensorSignature(dtype=tf.int64, shape=TensorShape([Dimension(None)]), is_sparse=False).\n",
      "INFO:tensorflow:Transforming feature_column _RealValuedColumn(column_name='', dimension=4, default_value=None, dtype=tf.float32, normalizer=None)\n",
      "INFO:tensorflow:Restored model from iris/model_log\n",
      "INFO:tensorflow:Eval steps [0,inf) for training step 1251.\n",
      "INFO:tensorflow:Input iterator is exhausted.\n",
      "INFO:tensorflow:Saving evaluation summary for 1251 step: loss = 0.0738624, accuracy = 0.966667\n",
      "INFO:tensorflow:Validation (step 1300): loss = 0.0738624, global_step = 1251, accuracy = 0.966667\n",
      "INFO:tensorflow:loss = 0.0432835, step = 1301\n",
      "INFO:tensorflow:Saving checkpoints for 1301 into iris/model_log/model.ckpt.\n",
      "WARNING:tensorflow:Given features: Tensor(\"input:0\", shape=(?, 4), dtype=float32), required signatures: TensorSignature(dtype=tf.float32, shape=TensorShape([Dimension(None), Dimension(4)]), is_sparse=False).\n",
      "WARNING:tensorflow:Given targets: Tensor(\"output:0\", shape=(?,), dtype=int64), required signatures: TensorSignature(dtype=tf.int64, shape=TensorShape([Dimension(None)]), is_sparse=False).\n",
      "INFO:tensorflow:Transforming feature_column _RealValuedColumn(column_name='', dimension=4, default_value=None, dtype=tf.float32, normalizer=None)\n",
      "INFO:tensorflow:Restored model from iris/model_log\n",
      "INFO:tensorflow:Eval steps [0,inf) for training step 1301.\n",
      "INFO:tensorflow:Input iterator is exhausted.\n",
      "INFO:tensorflow:Saving evaluation summary for 1301 step: loss = 0.0740815, accuracy = 0.966667\n",
      "INFO:tensorflow:Validation (step 1350): loss = 0.0740815, global_step = 1301, accuracy = 0.966667\n",
      "INFO:tensorflow:Stopping. Best step: 1150 with loss = 0.073502548039.\n",
      "INFO:tensorflow:Saving checkpoints for 1350 into iris/model_log/model.ckpt.\n",
      "INFO:tensorflow:Loss for final step: 0.0428788.\n"
     ]
    },
    {
     "data": {
      "text/plain": [
       "Estimator(params={'enable_centered_bias': True, 'activation_fn': <function relu at 0x7f51c07bbc80>, 'weight_column_name': None, 'hidden_units': [10, 20, 10], 'feature_columns': [_RealValuedColumn(column_name='', dimension=4, default_value=None, dtype=tf.float32, normalizer=None)], 'n_classes': 3, 'optimizer': 'Adagrad', 'dropout': None, 'gradient_clip_norm': None, 'num_ps_replicas': 0})"
      ]
     },
     "execution_count": 5,
     "metadata": {},
     "output_type": "execute_result"
    }
   ],
   "source": [
    "#Customizing the Evaluation Metrics\n",
    "# validation_metrics = {\n",
    "#     \"accuracy\": tf.contrib.metrics.streaming_accuracy,\n",
    "#     \"precision\": tf.contrib.metrics.streaming_precision,\n",
    "#     \"recall\": tf.contrib.metrics.streaming_recall\n",
    "# }\n",
    "\n",
    "validation_monitor = tf.contrib.learn.monitors.ValidationMonitor(\n",
    "    test_set.data,\n",
    "    test_set.target,\n",
    "    every_n_steps=50,\n",
    "    #metrics=validation_metrics,\n",
    "    early_stopping_metric=\"loss\",\n",
    "    early_stopping_metric_minimize=True,\n",
    "    early_stopping_rounds=200)\n",
    "\n",
    "classifier.fit(\n",
    "    x=training_set.data,\n",
    "    y=training_set.target,\n",
    "    steps=2000,\n",
    "    monitors=[validation_monitor])"
   ]
  },
  {
   "cell_type": "markdown",
   "metadata": {},
   "source": [
    "**Evaluate Model Accuracy**"
   ]
  },
  {
   "cell_type": "code",
   "execution_count": 6,
   "metadata": {
    "collapsed": false
   },
   "outputs": [
    {
     "name": "stderr",
     "output_type": "stream",
     "text": [
      "WARNING:tensorflow:Given features: Tensor(\"input:0\", shape=(?, 4), dtype=float32), required signatures: TensorSignature(dtype=tf.float32, shape=TensorShape([Dimension(None), Dimension(4)]), is_sparse=False).\n",
      "WARNING:tensorflow:Given targets: Tensor(\"output:0\", shape=(?,), dtype=int64), required signatures: TensorSignature(dtype=tf.int64, shape=TensorShape([Dimension(None)]), is_sparse=False).\n",
      "INFO:tensorflow:Transforming feature_column _RealValuedColumn(column_name='', dimension=4, default_value=None, dtype=tf.float32, normalizer=None)\n",
      "INFO:tensorflow:Restored model from iris/model_log\n",
      "INFO:tensorflow:Eval steps [0,inf) for training step 1350.\n",
      "INFO:tensorflow:Input iterator is exhausted.\n",
      "INFO:tensorflow:Saving evaluation summary for 1350 step: loss = 0.0886846, accuracy = 0.966667\n"
     ]
    },
    {
     "name": "stdout",
     "output_type": "stream",
     "text": [
      "Accuracy: 0.966667\n"
     ]
    }
   ],
   "source": [
    "accuracy_score = classifier.evaluate(x=test_set.data,y=test_set.target)['accuracy']\n",
    "print('Accuracy: {0:f}'.format(accuracy_score))"
   ]
  },
  {
   "cell_type": "code",
   "execution_count": 7,
   "metadata": {
    "collapsed": false
   },
   "outputs": [
    {
     "name": "stderr",
     "output_type": "stream",
     "text": [
      "WARNING:tensorflow:Calling predict (from tensorflow.contrib.learn.python.learn.estimators.dnn) with as_iterable=False is deprecated and will be removed after 2016-09-15.\n",
      "Instructions for updating:\n",
      "The default behavior of predict() is changing. The default value for\n",
      "as_iterable will change to True, and then the flag will be removed\n",
      "altogether. The behavior of this flag is described below.\n",
      "WARNING:tensorflow:Calling predict (from tensorflow.contrib.learn.python.learn.estimators.estimator) with as_iterable=False is deprecated and will be removed after 2016-09-15.\n",
      "Instructions for updating:\n",
      "The default behavior of predict() is changing. The default value for\n",
      "as_iterable will change to True, and then the flag will be removed\n",
      "altogether. The behavior of this flag is described below.\n",
      "WARNING:tensorflow:float64 is not supported by many models, consider casting to float32.\n",
      "INFO:tensorflow:Transforming feature_column _RealValuedColumn(column_name='', dimension=4, default_value=None, dtype=tf.float32, normalizer=None)\n",
      "INFO:tensorflow:Loading model from checkpoint: iris/model_log/model.ckpt-1350-?????-of-00001.\n"
     ]
    },
    {
     "name": "stdout",
     "output_type": "stream",
     "text": [
      "Predictions: [1 1]\n"
     ]
    }
   ],
   "source": [
    "new_samples = np.array([[6.4, 3.2, 4.5, 1.5], [5.8, 3.1, 5.0, 1.7]], dtype=float)\n",
    "y = classifier.predict(new_samples)\n",
    "print('Predictions: {}'.format(str(y)))"
   ]
  }
 ],
 "metadata": {
  "kernelspec": {
   "display_name": "TensorFlow 0.11 (CPU, Python 2)",
   "language": "python",
   "name": "tensorflow-0.11-py2"
  },
  "language_info": {
   "codemirror_mode": {
    "name": "ipython",
    "version": 2
   },
   "file_extension": ".py",
   "mimetype": "text/x-python",
   "name": "python",
   "nbconvert_exporter": "python",
   "pygments_lexer": "ipython2",
   "version": "2.7.12"
  }
 },
 "nbformat": 4,
 "nbformat_minor": 1
}
