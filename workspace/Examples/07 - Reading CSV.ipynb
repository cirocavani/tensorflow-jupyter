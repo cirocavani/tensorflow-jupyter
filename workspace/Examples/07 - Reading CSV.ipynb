{
 "cells": [
  {
   "cell_type": "markdown",
   "metadata": {},
   "source": [
    "# Reading data\n",
    "\n",
    "https://www.tensorflow.org/versions/r0.10/how_tos/reading_data/index.html\n",
    "\n",
    "https://archive.ics.uci.edu/ml/datasets/Census+Income"
   ]
  },
  {
   "cell_type": "code",
   "execution_count": 1,
   "metadata": {
    "collapsed": true
   },
   "outputs": [],
   "source": [
    "from __future__ import absolute_import\n",
    "from __future__ import division\n",
    "from __future__ import print_function\n",
    "\n",
    "import tensorflow as tf"
   ]
  },
  {
   "cell_type": "code",
   "execution_count": 2,
   "metadata": {
    "collapsed": false
   },
   "outputs": [
    {
     "data": {
      "text/plain": [
       "'census/data/adult.data'"
      ]
     },
     "execution_count": 2,
     "metadata": {},
     "output_type": "execute_result"
    }
   ],
   "source": [
    "import os\n",
    "\n",
    "HOME_DIR = 'census'\n",
    "DATA_DIR = os.path.join(HOME_DIR, 'data')\n",
    "\n",
    "CENSUS_TRAINING = \"adult.data\"\n",
    "\n",
    "TRAINING_FILE = os.path.join(DATA_DIR, CENSUS_TRAINING)\n",
    "\n",
    "from tensorflow.contrib.learn.python.learn.datasets.base import maybe_download\n",
    "maybe_download(CENSUS_TRAINING, DATA_DIR, 'https://archive.ics.uci.edu/ml/machine-learning-databases/adult/adult.data')"
   ]
  },
  {
   "cell_type": "code",
   "execution_count": 3,
   "metadata": {
    "collapsed": false
   },
   "outputs": [
    {
     "name": "stdout",
     "output_type": "stream",
     "text": [
      "Undefined column fnlwgt:2 (assuming CATEGORICAL type)\n",
      "Undefined column income_bracket:14 (assuming CATEGORICAL type)\n"
     ]
    },
    {
     "data": {
      "text/plain": [
       "[[0.0],\n",
       " [''],\n",
       " [''],\n",
       " [''],\n",
       " [0.0],\n",
       " [''],\n",
       " [''],\n",
       " [''],\n",
       " [''],\n",
       " [''],\n",
       " [0.0],\n",
       " [0.0],\n",
       " [0.0],\n",
       " [''],\n",
       " ['']]"
      ]
     },
     "execution_count": 3,
     "metadata": {},
     "output_type": "execute_result"
    }
   ],
   "source": [
    "COLUMNS = [\n",
    "    \"age\",\n",
    "    \"workclass\",\n",
    "    \"fnlwgt\",\n",
    "    \"education\",\n",
    "    \"education_num\",\n",
    "    \"marital_status\",\n",
    "    \"occupation\",\n",
    "    \"relationship\",\n",
    "    \"race\",\n",
    "    \"gender\",\n",
    "    \"capital_gain\",\n",
    "    \"capital_loss\",\n",
    "    \"hours_per_week\",\n",
    "    \"native_country\",\n",
    "    \"income_bracket\"\n",
    "]\n",
    "\n",
    "CATEGORICAL_COLUMNS = [\n",
    "    \"workclass\",\n",
    "    \"education\",\n",
    "    \"marital_status\",\n",
    "    \"occupation\",\n",
    "    \"relationship\",\n",
    "    \"race\",\n",
    "    \"gender\",\n",
    "    \"native_country\"\n",
    "]\n",
    "\n",
    "CONTINUOUS_COLUMNS = [\n",
    "    \"age\",\n",
    "    \"education_num\",\n",
    "    \"capital_gain\",\n",
    "    \"capital_loss\",\n",
    "    \"hours_per_week\"\n",
    "]\n",
    "\n",
    "record_defaults = []\n",
    "\n",
    "for i, colname in enumerate(COLUMNS):\n",
    "    if colname in CATEGORICAL_COLUMNS:\n",
    "        record_defaults.append([\"\"])\n",
    "    elif colname in CONTINUOUS_COLUMNS:\n",
    "        record_defaults.append([0.0])\n",
    "    else:\n",
    "        print(\"Undefined column {}:{} (assuming CATEGORICAL type)\".format(colname, i))\n",
    "        record_defaults.append([\"\"])\n",
    "\n",
    "record_defaults"
   ]
  },
  {
   "cell_type": "code",
   "execution_count": 4,
   "metadata": {
    "collapsed": false
   },
   "outputs": [
    {
     "name": "stdout",
     "output_type": "stream",
     "text": [
      "[39.0, ' State-gov', ' 77516', ' Bachelors', 13.0, ' Never-married', ' Adm-clerical', ' Not-in-family', ' White', ' Male', 2174.0, 0.0, 40.0, ' United-States'] 0\n",
      "[50.0, ' Self-emp-not-inc', ' 83311', ' Bachelors', 13.0, ' Married-civ-spouse', ' Exec-managerial', ' Husband', ' White', ' Male', 0.0, 0.0, 13.0, ' United-States'] 0\n",
      "[38.0, ' Private', ' 215646', ' HS-grad', 9.0, ' Divorced', ' Handlers-cleaners', ' Not-in-family', ' White', ' Male', 0.0, 0.0, 40.0, ' United-States'] 0\n",
      "[53.0, ' Private', ' 234721', ' 11th', 7.0, ' Married-civ-spouse', ' Handlers-cleaners', ' Husband', ' Black', ' Male', 0.0, 0.0, 40.0, ' United-States'] 0\n",
      "[28.0, ' Private', ' 338409', ' Bachelors', 13.0, ' Married-civ-spouse', ' Prof-specialty', ' Wife', ' Black', ' Female', 0.0, 0.0, 40.0, ' Cuba'] 0\n",
      "[37.0, ' Private', ' 284582', ' Masters', 14.0, ' Married-civ-spouse', ' Exec-managerial', ' Wife', ' White', ' Female', 0.0, 0.0, 40.0, ' United-States'] 0\n",
      "[49.0, ' Private', ' 160187', ' 9th', 5.0, ' Married-spouse-absent', ' Other-service', ' Not-in-family', ' Black', ' Female', 0.0, 0.0, 16.0, ' Jamaica'] 0\n",
      "[52.0, ' Self-emp-not-inc', ' 209642', ' HS-grad', 9.0, ' Married-civ-spouse', ' Exec-managerial', ' Husband', ' White', ' Male', 0.0, 0.0, 45.0, ' United-States'] 1\n",
      "[31.0, ' Private', ' 45781', ' Masters', 14.0, ' Never-married', ' Prof-specialty', ' Not-in-family', ' White', ' Female', 14084.0, 0.0, 50.0, ' United-States'] 1\n",
      "[42.0, ' Private', ' 159449', ' Bachelors', 13.0, ' Married-civ-spouse', ' Exec-managerial', ' Husband', ' White', ' Male', 5178.0, 0.0, 40.0, ' United-States'] 1\n"
     ]
    }
   ],
   "source": [
    "filename_queue = tf.train.string_input_producer([TRAINING_FILE])\n",
    "\n",
    "reader = tf.TextLineReader()\n",
    "_, value = reader.read(filename_queue)\n",
    "\n",
    "example = tf.decode_csv(value, record_defaults=record_defaults)\n",
    "\n",
    "label_raw = example.pop() # income_bracket\n",
    "label = tf.py_func(lambda x: int(\">50K\" in x), [label_raw], [tf.int64])[0]\n",
    "\n",
    "with tf.Session() as sess:\n",
    "    coord = tf.train.Coordinator()\n",
    "    threads = tf.train.start_queue_runners(coord=coord)\n",
    "\n",
    "    for i in range(10):\n",
    "        example_value, label_value = sess.run([example, label])\n",
    "        print(example_value, label_value)\n",
    "\n",
    "    coord.request_stop()\n",
    "    coord.join(threads)"
   ]
  },
  {
   "cell_type": "code",
   "execution_count": 5,
   "metadata": {
    "collapsed": false
   },
   "outputs": [
    {
     "name": "stdout",
     "output_type": "stream",
     "text": [
      "[array([ 39.,  50.,  38.,  53.,  28.,  37.,  49.,  52.,  31.,  42.], dtype=float32), array([' State-gov', ' Self-emp-not-inc', ' Private', ' Private',\n",
      "       ' Private', ' Private', ' Private', ' Self-emp-not-inc', ' Private',\n",
      "       ' Private'], dtype=object), array([' 77516', ' 83311', ' 215646', ' 234721', ' 338409', ' 284582',\n",
      "       ' 160187', ' 209642', ' 45781', ' 159449'], dtype=object), array([' Bachelors', ' Bachelors', ' HS-grad', ' 11th', ' Bachelors',\n",
      "       ' Masters', ' 9th', ' HS-grad', ' Masters', ' Bachelors'], dtype=object), array([ 13.,  13.,   9.,   7.,  13.,  14.,   5.,   9.,  14.,  13.], dtype=float32), array([' Never-married', ' Married-civ-spouse', ' Divorced',\n",
      "       ' Married-civ-spouse', ' Married-civ-spouse', ' Married-civ-spouse',\n",
      "       ' Married-spouse-absent', ' Married-civ-spouse', ' Never-married',\n",
      "       ' Married-civ-spouse'], dtype=object), array([' Adm-clerical', ' Exec-managerial', ' Handlers-cleaners',\n",
      "       ' Handlers-cleaners', ' Prof-specialty', ' Exec-managerial',\n",
      "       ' Other-service', ' Exec-managerial', ' Prof-specialty',\n",
      "       ' Exec-managerial'], dtype=object), array([' Not-in-family', ' Husband', ' Not-in-family', ' Husband', ' Wife',\n",
      "       ' Wife', ' Not-in-family', ' Husband', ' Not-in-family', ' Husband'], dtype=object), array([' White', ' White', ' White', ' Black', ' Black', ' White',\n",
      "       ' Black', ' White', ' White', ' White'], dtype=object), array([' Male', ' Male', ' Male', ' Male', ' Female', ' Female', ' Female',\n",
      "       ' Male', ' Female', ' Male'], dtype=object), array([  2174.,      0.,      0.,      0.,      0.,      0.,      0.,\n",
      "            0.,  14084.,   5178.], dtype=float32), array([ 0.,  0.,  0.,  0.,  0.,  0.,  0.,  0.,  0.,  0.], dtype=float32), array([ 40.,  13.,  40.,  40.,  40.,  40.,  16.,  45.,  50.,  40.], dtype=float32), array([' United-States', ' United-States', ' United-States',\n",
      "       ' United-States', ' Cuba', ' United-States', ' Jamaica',\n",
      "       ' United-States', ' United-States', ' United-States'], dtype=object)] [0 0 0 0 0 0 0 1 1 1]\n"
     ]
    }
   ],
   "source": [
    "def read_census_csv(filename_queue):\n",
    "    reader = tf.TextLineReader()\n",
    "    _, value = reader.read(filename_queue)\n",
    "\n",
    "    cols = tf.decode_csv(value, record_defaults=record_defaults)\n",
    "\n",
    "    label_raw = cols.pop() # income_bracket\n",
    "    label = tf.py_func(lambda x: int(\">50K\" in x), [label_raw], [tf.int64])[0]\n",
    "    label.set_shape([])\n",
    "\n",
    "    cols.append(label)\n",
    "    return cols\n",
    "\n",
    "def input_pipeline(filenames, batch_size):\n",
    "    filename_queue = tf.train.string_input_producer(filenames)\n",
    "    input_cols = read_census_csv(filename_queue)\n",
    "    \n",
    "    example_batch = tf.train.batch(input_cols, batch_size=batch_size)\n",
    "    label_batch = example_batch.pop()\n",
    "    \n",
    "    return example_batch, label_batch\n",
    "\n",
    "example, label = input_pipeline([TRAINING_FILE], 10)\n",
    "\n",
    "with tf.Session() as sess:\n",
    "    coord = tf.train.Coordinator()\n",
    "    threads = tf.train.start_queue_runners(coord=coord)\n",
    "\n",
    "    example_value, label_value = sess.run([example, label])\n",
    "    print(example_value, label_value)\n",
    "\n",
    "    coord.request_stop()\n",
    "    coord.join(threads)"
   ]
  }
 ],
 "metadata": {
  "kernelspec": {
   "display_name": "TensorFlow 0.10 (CPU, Python 2)",
   "language": "python",
   "name": "tensorflow-0.10-py2"
  },
  "language_info": {
   "codemirror_mode": {
    "name": "ipython",
    "version": 2
   },
   "file_extension": ".py",
   "mimetype": "text/x-python",
   "name": "python",
   "nbconvert_exporter": "python",
   "pygments_lexer": "ipython2",
   "version": "2.7.12"
  }
 },
 "nbformat": 4,
 "nbformat_minor": 1
}
