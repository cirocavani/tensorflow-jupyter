{
 "cells": [
  {
   "cell_type": "markdown",
   "metadata": {},
   "source": [
    "# Reading data\n",
    "\n",
    "https://www.tensorflow.org/programmers_guide/reading_data\n",
    "\n",
    "https://archive.ics.uci.edu/ml/datasets/Census+Income"
   ]
  },
  {
   "cell_type": "code",
   "execution_count": 1,
   "metadata": {},
   "outputs": [
    {
     "data": {
      "text/plain": [
       "'1.7.0'"
      ]
     },
     "execution_count": 1,
     "metadata": {},
     "output_type": "execute_result"
    }
   ],
   "source": [
    "import tensorflow as tf\n",
    "\n",
    "tf.VERSION"
   ]
  },
  {
   "cell_type": "code",
   "execution_count": 2,
   "metadata": {},
   "outputs": [
    {
     "name": "stdout",
     "output_type": "stream",
     "text": [
      "WARNING:tensorflow:From /home/cavani/Workspace/tensorflow-jupyter/software/tensorflow-cpu/lib/python3.6/site-packages/tensorflow/contrib/learn/python/learn/datasets/base.py:198: retry (from tensorflow.contrib.learn.python.learn.datasets.base) is deprecated and will be removed in a future version.\n",
      "Instructions for updating:\n",
      "Use the retry module or similar alternatives.\n",
      "WARNING:tensorflow:From <ipython-input-2-cc4484422902>:12: maybe_download (from tensorflow.contrib.learn.python.learn.datasets.base) is deprecated and will be removed in a future version.\n",
      "Instructions for updating:\n",
      "Please write your own downloading logic.\n"
     ]
    },
    {
     "data": {
      "text/plain": [
       "'census/data/adult.data'"
      ]
     },
     "execution_count": 2,
     "metadata": {},
     "output_type": "execute_result"
    }
   ],
   "source": [
    "import os\n",
    "\n",
    "HOME_DIR = 'census'\n",
    "DATA_DIR = os.path.join(HOME_DIR, 'data')\n",
    "\n",
    "CENSUS_TRAINING = 'adult.data'\n",
    "\n",
    "TRAINING_FILE = os.path.join(DATA_DIR, CENSUS_TRAINING)\n",
    "\n",
    "from tensorflow.contrib.learn.python.learn.datasets.base import maybe_download\n",
    "maybe_download(CENSUS_TRAINING, DATA_DIR,\n",
    "               'https://archive.ics.uci.edu/ml/machine-learning-databases/adult/adult.data')"
   ]
  },
  {
   "cell_type": "code",
   "execution_count": 3,
   "metadata": {},
   "outputs": [
    {
     "name": "stdout",
     "output_type": "stream",
     "text": [
      "Undefined column fnlwgt:2 (assuming CATEGORICAL type)\n",
      "Undefined column income_bracket:14 (assuming CATEGORICAL type)\n"
     ]
    },
    {
     "data": {
      "text/plain": [
       "[[0.0],\n",
       " [''],\n",
       " [''],\n",
       " [''],\n",
       " [0.0],\n",
       " [''],\n",
       " [''],\n",
       " [''],\n",
       " [''],\n",
       " [''],\n",
       " [0.0],\n",
       " [0.0],\n",
       " [0.0],\n",
       " [''],\n",
       " ['']]"
      ]
     },
     "execution_count": 3,
     "metadata": {},
     "output_type": "execute_result"
    }
   ],
   "source": [
    "COLUMNS = [\n",
    "    'age',\n",
    "    'workclass',\n",
    "    'fnlwgt',\n",
    "    'education',\n",
    "    'education_num',\n",
    "    'marital_status',\n",
    "    'occupation',\n",
    "    'relationship',\n",
    "    'race',\n",
    "    'gender',\n",
    "    'capital_gain',\n",
    "    'capital_loss',\n",
    "    'hours_per_week',\n",
    "    'native_country',\n",
    "    'income_bracket'\n",
    "]\n",
    "\n",
    "CATEGORICAL_COLUMNS = [\n",
    "    'workclass',\n",
    "    'education',\n",
    "    'marital_status',\n",
    "    'occupation',\n",
    "    'relationship',\n",
    "    'race',\n",
    "    'gender',\n",
    "    'native_country'\n",
    "]\n",
    "\n",
    "CONTINUOUS_COLUMNS = [\n",
    "    'age',\n",
    "    'education_num',\n",
    "    'capital_gain',\n",
    "    'capital_loss',\n",
    "    'hours_per_week'\n",
    "]\n",
    "\n",
    "record_defaults = []\n",
    "\n",
    "for i, colname in enumerate(COLUMNS):\n",
    "    if colname in CATEGORICAL_COLUMNS:\n",
    "        record_defaults.append([''])\n",
    "    elif colname in CONTINUOUS_COLUMNS:\n",
    "        record_defaults.append([0.0])\n",
    "    else:\n",
    "        print('Undefined column {}:{} (assuming CATEGORICAL type)'.format(colname, i))\n",
    "        record_defaults.append([''])\n",
    "\n",
    "record_defaults"
   ]
  },
  {
   "cell_type": "code",
   "execution_count": 4,
   "metadata": {},
   "outputs": [
    {
     "name": "stdout",
     "output_type": "stream",
     "text": [
      "[39.0, b' State-gov', b' 77516', b' Bachelors', 13.0, b' Never-married', b' Adm-clerical', b' Not-in-family', b' White', b' Male', 2174.0, 0.0, 40.0, b' United-States'] 0\n",
      "[50.0, b' Self-emp-not-inc', b' 83311', b' Bachelors', 13.0, b' Married-civ-spouse', b' Exec-managerial', b' Husband', b' White', b' Male', 0.0, 0.0, 13.0, b' United-States'] 0\n",
      "[38.0, b' Private', b' 215646', b' HS-grad', 9.0, b' Divorced', b' Handlers-cleaners', b' Not-in-family', b' White', b' Male', 0.0, 0.0, 40.0, b' United-States'] 0\n",
      "[53.0, b' Private', b' 234721', b' 11th', 7.0, b' Married-civ-spouse', b' Handlers-cleaners', b' Husband', b' Black', b' Male', 0.0, 0.0, 40.0, b' United-States'] 0\n",
      "[28.0, b' Private', b' 338409', b' Bachelors', 13.0, b' Married-civ-spouse', b' Prof-specialty', b' Wife', b' Black', b' Female', 0.0, 0.0, 40.0, b' Cuba'] 0\n",
      "[37.0, b' Private', b' 284582', b' Masters', 14.0, b' Married-civ-spouse', b' Exec-managerial', b' Wife', b' White', b' Female', 0.0, 0.0, 40.0, b' United-States'] 0\n",
      "[49.0, b' Private', b' 160187', b' 9th', 5.0, b' Married-spouse-absent', b' Other-service', b' Not-in-family', b' Black', b' Female', 0.0, 0.0, 16.0, b' Jamaica'] 0\n",
      "[52.0, b' Self-emp-not-inc', b' 209642', b' HS-grad', 9.0, b' Married-civ-spouse', b' Exec-managerial', b' Husband', b' White', b' Male', 0.0, 0.0, 45.0, b' United-States'] 1\n",
      "[31.0, b' Private', b' 45781', b' Masters', 14.0, b' Never-married', b' Prof-specialty', b' Not-in-family', b' White', b' Female', 14084.0, 0.0, 50.0, b' United-States'] 1\n",
      "[42.0, b' Private', b' 159449', b' Bachelors', 13.0, b' Married-civ-spouse', b' Exec-managerial', b' Husband', b' White', b' Male', 5178.0, 0.0, 40.0, b' United-States'] 1\n"
     ]
    }
   ],
   "source": [
    "filename_queue = tf.train.string_input_producer([TRAINING_FILE])\n",
    "\n",
    "reader = tf.TextLineReader()\n",
    "_, value = reader.read(filename_queue)\n",
    "\n",
    "example = tf.decode_csv(value, record_defaults=record_defaults)\n",
    "\n",
    "label_raw = example.pop() # income_bracket\n",
    "label = tf.py_func(lambda x: int('>50K' in x.decode('utf-8')), [label_raw], [tf.int64])[0]\n",
    "\n",
    "with tf.Session() as sess:\n",
    "    coord = tf.train.Coordinator()\n",
    "    threads = tf.train.start_queue_runners(coord=coord)\n",
    "\n",
    "    for i in range(10):\n",
    "        example_value, label_value = sess.run([example, label])\n",
    "        print(example_value, label_value)\n",
    "\n",
    "    coord.request_stop()\n",
    "    coord.join(threads)"
   ]
  },
  {
   "cell_type": "code",
   "execution_count": 5,
   "metadata": {},
   "outputs": [
    {
     "name": "stdout",
     "output_type": "stream",
     "text": [
      "[array([39., 50., 38., 53., 28., 37., 49., 52., 31., 42.], dtype=float32), array([b' State-gov', b' Self-emp-not-inc', b' Private', b' Private',\n",
      "       b' Private', b' Private', b' Private', b' Self-emp-not-inc',\n",
      "       b' Private', b' Private'], dtype=object), array([b' 77516', b' 83311', b' 215646', b' 234721', b' 338409',\n",
      "       b' 284582', b' 160187', b' 209642', b' 45781', b' 159449'],\n",
      "      dtype=object), array([b' Bachelors', b' Bachelors', b' HS-grad', b' 11th', b' Bachelors',\n",
      "       b' Masters', b' 9th', b' HS-grad', b' Masters', b' Bachelors'],\n",
      "      dtype=object), array([13., 13.,  9.,  7., 13., 14.,  5.,  9., 14., 13.], dtype=float32), array([b' Never-married', b' Married-civ-spouse', b' Divorced',\n",
      "       b' Married-civ-spouse', b' Married-civ-spouse',\n",
      "       b' Married-civ-spouse', b' Married-spouse-absent',\n",
      "       b' Married-civ-spouse', b' Never-married', b' Married-civ-spouse'],\n",
      "      dtype=object), array([b' Adm-clerical', b' Exec-managerial', b' Handlers-cleaners',\n",
      "       b' Handlers-cleaners', b' Prof-specialty', b' Exec-managerial',\n",
      "       b' Other-service', b' Exec-managerial', b' Prof-specialty',\n",
      "       b' Exec-managerial'], dtype=object), array([b' Not-in-family', b' Husband', b' Not-in-family', b' Husband',\n",
      "       b' Wife', b' Wife', b' Not-in-family', b' Husband',\n",
      "       b' Not-in-family', b' Husband'], dtype=object), array([b' White', b' White', b' White', b' Black', b' Black', b' White',\n",
      "       b' Black', b' White', b' White', b' White'], dtype=object), array([b' Male', b' Male', b' Male', b' Male', b' Female', b' Female',\n",
      "       b' Female', b' Male', b' Female', b' Male'], dtype=object), array([ 2174.,     0.,     0.,     0.,     0.,     0.,     0.,     0.,\n",
      "       14084.,  5178.], dtype=float32), array([0., 0., 0., 0., 0., 0., 0., 0., 0., 0.], dtype=float32), array([40., 13., 40., 40., 40., 40., 16., 45., 50., 40.], dtype=float32), array([b' United-States', b' United-States', b' United-States',\n",
      "       b' United-States', b' Cuba', b' United-States', b' Jamaica',\n",
      "       b' United-States', b' United-States', b' United-States'],\n",
      "      dtype=object)] [0 0 0 0 0 0 0 1 1 1]\n"
     ]
    }
   ],
   "source": [
    "def read_census_csv(filename_queue):\n",
    "    reader = tf.TextLineReader()\n",
    "    _, value = reader.read(filename_queue)\n",
    "\n",
    "    cols = tf.decode_csv(value, record_defaults=record_defaults)\n",
    "\n",
    "    label_raw = cols.pop() # income_bracket\n",
    "    label = tf.py_func(lambda x: int('>50K' in x.decode('utf-8')), [label_raw], [tf.int64])[0]\n",
    "    label.set_shape([])\n",
    "\n",
    "    cols.append(label)\n",
    "    return cols\n",
    "\n",
    "def input_pipeline(filenames, batch_size):\n",
    "    filename_queue = tf.train.string_input_producer(filenames)\n",
    "    input_cols = read_census_csv(filename_queue)\n",
    "    \n",
    "    example_batch = tf.train.batch(input_cols, batch_size=batch_size)\n",
    "    label_batch = example_batch.pop()\n",
    "    \n",
    "    return example_batch, label_batch\n",
    "\n",
    "example, label = input_pipeline([TRAINING_FILE], 10)\n",
    "\n",
    "with tf.Session() as sess:\n",
    "    coord = tf.train.Coordinator()\n",
    "    threads = tf.train.start_queue_runners(coord=coord)\n",
    "\n",
    "    example_value, label_value = sess.run([example, label])\n",
    "    print(example_value, label_value)\n",
    "\n",
    "    coord.request_stop()\n",
    "    coord.join(threads)"
   ]
  }
 ],
 "metadata": {
  "kernelspec": {
   "display_name": "tensorflow-cpu",
   "language": "python",
   "name": "tensorflow-cpu"
  },
  "language_info": {
   "codemirror_mode": {
    "name": "ipython",
    "version": 3
   },
   "file_extension": ".py",
   "mimetype": "text/x-python",
   "name": "python",
   "nbconvert_exporter": "python",
   "pygments_lexer": "ipython3",
   "version": "3.6.4"
  }
 },
 "nbformat": 4,
 "nbformat_minor": 2
}
