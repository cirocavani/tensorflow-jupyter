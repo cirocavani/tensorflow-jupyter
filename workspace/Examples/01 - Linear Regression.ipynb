{
 "cells": [
  {
   "cell_type": "markdown",
   "metadata": {},
   "source": [
    "# Introduction\n",
    "\n",
    "https://www.tensorflow.org/get_started/get_started"
   ]
  },
  {
   "cell_type": "code",
   "execution_count": 1,
   "metadata": {},
   "outputs": [
    {
     "data": {
      "text/plain": [
       "'1.7.0'"
      ]
     },
     "execution_count": 1,
     "metadata": {},
     "output_type": "execute_result"
    }
   ],
   "source": [
    "import tensorflow as tf\n",
    "import numpy as np\n",
    "\n",
    "tf.VERSION"
   ]
  },
  {
   "cell_type": "code",
   "execution_count": 2,
   "metadata": {},
   "outputs": [
    {
     "name": "stdout",
     "output_type": "stream",
     "text": [
      "[0.3325843  0.3471125  0.35216343 0.35018978 0.30517384 0.3425556\n",
      " 0.31722146 0.39164796 0.37538445 0.32062373 0.34876087 0.36779073\n",
      " 0.30270085 0.38096222 0.37512705 0.3225324  0.30524844 0.31264687\n",
      " 0.3567171  0.3298054  0.31125697 0.33701396 0.31123254 0.35454687\n",
      " 0.32372162 0.34909287 0.36537132 0.36579898 0.39307344 0.30835006\n",
      " 0.37281078 0.31400076 0.3305605  0.31651297 0.34885308 0.3756394\n",
      " 0.3891651  0.30161297 0.33109424 0.36099762 0.31354338 0.3153549\n",
      " 0.379639   0.30823398 0.3251229  0.31311888 0.31058788 0.3714148\n",
      " 0.3770419  0.35543227 0.30222824 0.3735172  0.39274693 0.36694866\n",
      " 0.39626876 0.39567333 0.3246628  0.36054158 0.31868145 0.32883734\n",
      " 0.3888406  0.3327091  0.38584808 0.37176588 0.32298702 0.37962535\n",
      " 0.30405504 0.3432186  0.3567578  0.34993845 0.3537774  0.3081018\n",
      " 0.37973604 0.3296353  0.30692554 0.31307662 0.3979992  0.36885193\n",
      " 0.3798853  0.30940166 0.37170064 0.3331758  0.36972362 0.30398583\n",
      " 0.3385675  0.3574766  0.33936667 0.34403533 0.37913248 0.33589867\n",
      " 0.39719197 0.39123687 0.30848107 0.33008695 0.32472196 0.32450524\n",
      " 0.3727777  0.39070016 0.35757884 0.32813454]\n"
     ]
    }
   ],
   "source": [
    "# Create 100 phony x, y data points in NumPy, y = x * 0.1 + 0.3\n",
    "x_data = np.random.rand(100).astype(np.float32)\n",
    "y_data = x_data * 0.1 + 0.3\n",
    "\n",
    "print(y_data)"
   ]
  },
  {
   "cell_type": "code",
   "execution_count": 3,
   "metadata": {},
   "outputs": [
    {
     "name": "stdout",
     "output_type": "stream",
     "text": [
      "W\n",
      "\n",
      "<tf.Variable 'Variable:0' shape=(1,) dtype=float32_ref>\n",
      "\n",
      "b\n",
      "\n",
      "<tf.Variable 'Variable_1:0' shape=(1,) dtype=float32_ref>\n",
      "\n",
      "y = W * x + b\n",
      "\n",
      "Tensor(\"add:0\", shape=(100,), dtype=float32)\n"
     ]
    }
   ],
   "source": [
    "# Try to find values for W and b that compute y_data = W * x_data + b\n",
    "# (We know that W should be 0.1 and b 0.3, but TensorFlow will\n",
    "# figure that out for us.)\n",
    "W = tf.Variable(tf.random_uniform([1], -1.0, 1.0))\n",
    "b = tf.Variable(tf.zeros([1]))\n",
    "y = W * x_data + b\n",
    "\n",
    "print('W\\n\\n{}\\n'.format(W))\n",
    "print('b\\n\\n{}\\n'.format(b))\n",
    "print('y = W * x + b\\n\\n{}'.format(y))"
   ]
  },
  {
   "cell_type": "code",
   "execution_count": 4,
   "metadata": {},
   "outputs": [
    {
     "name": "stdout",
     "output_type": "stream",
     "text": [
      "Loss\n",
      "\n",
      "Tensor(\"Mean:0\", shape=(), dtype=float32)\n",
      "\n",
      "Optimizer\n",
      "\n",
      "<tensorflow.python.training.gradient_descent.GradientDescentOptimizer object at 0x7f5e2fd3d5f8>\n",
      "\n",
      "Train op\n",
      "\n",
      "name: \"GradientDescent\"\n",
      "op: \"NoOp\"\n",
      "input: \"^GradientDescent/update_Variable/ApplyGradientDescent\"\n",
      "input: \"^GradientDescent/update_Variable_1/ApplyGradientDescent\"\n",
      "\n"
     ]
    }
   ],
   "source": [
    "# Minimize the mean squared errors.\n",
    "loss = tf.reduce_mean(tf.square(y - y_data))\n",
    "optimizer = tf.train.GradientDescentOptimizer(0.5)\n",
    "train_op = optimizer.minimize(loss)\n",
    "\n",
    "print('Loss\\n\\n{}\\n'.format(loss))\n",
    "print('Optimizer\\n\\n{}\\n'.format(optimizer))\n",
    "print('Train op\\n\\n{}'.format(train_op))"
   ]
  },
  {
   "cell_type": "code",
   "execution_count": 5,
   "metadata": {},
   "outputs": [
    {
     "name": "stdout",
     "output_type": "stream",
     "text": [
      "name: \"init\"\n",
      "op: \"NoOp\"\n",
      "input: \"^Variable/Assign\"\n",
      "input: \"^Variable_1/Assign\"\n",
      "\n"
     ]
    }
   ],
   "source": [
    "# Before starting, initialize the variables.  We will 'run' this first.\n",
    "init = tf.global_variables_initializer()\n",
    "\n",
    "print(init)"
   ]
  },
  {
   "cell_type": "code",
   "execution_count": 6,
   "metadata": {
    "collapsed": true
   },
   "outputs": [],
   "source": [
    "# Launch the graph.\n",
    "session = tf.Session()\n",
    "session.run(init)"
   ]
  },
  {
   "cell_type": "code",
   "execution_count": 7,
   "metadata": {},
   "outputs": [
    {
     "name": "stdout",
     "output_type": "stream",
     "text": [
      "0 W: [-0.34705588], b: [0.6839774] (average loss 0.04865389)\n",
      "20 W: [-0.02187584], b: [0.36034864] (average loss 0.00128038)\n",
      "40 W: [0.07097296], b: [0.31437317] (average loss 0.00007263)\n",
      "60 W: [0.09308667], b: [0.30342326] (average loss 0.00000412)\n",
      "80 W: [0.09835346], b: [0.3008153] (average loss 0.00000023)\n",
      "100 W: [0.09960785], b: [0.3001942] (average loss 0.00000001)\n",
      "120 W: [0.09990661], b: [0.30004627] (average loss 0.00000000)\n",
      "140 W: [0.09997777], b: [0.300011] (average loss 0.00000000)\n",
      "160 W: [0.09999472], b: [0.30000263] (average loss 0.00000000)\n",
      "180 W: [0.09999875], b: [0.30000064] (average loss 0.00000000)\n",
      "200 W: [0.0999997], b: [0.30000016] (average loss 0.00000000)\n"
     ]
    }
   ],
   "source": [
    "# Fit the line.\n",
    "for step in range(201):\n",
    "    session.run(train_op)\n",
    "    if step % 20 == 0:\n",
    "        loss_, W_, b_ = session.run([loss, W, b])\n",
    "        print('{:d} W: {}, b: {} (average loss {:,.8f})'.format(step, W_, b_, loss_))\n",
    "\n",
    "# Learns best fit is W: [0.1], b: [0.3]"
   ]
  },
  {
   "cell_type": "code",
   "execution_count": 8,
   "metadata": {
    "collapsed": true
   },
   "outputs": [],
   "source": [
    "session.close()"
   ]
  }
 ],
 "metadata": {
  "kernelspec": {
   "display_name": "tensorflow-cpu",
   "language": "python",
   "name": "tensorflow-cpu"
  },
  "language_info": {
   "codemirror_mode": {
    "name": "ipython",
    "version": 3
   },
   "file_extension": ".py",
   "mimetype": "text/x-python",
   "name": "python",
   "nbconvert_exporter": "python",
   "pygments_lexer": "ipython3",
   "version": "3.6.4"
  }
 },
 "nbformat": 4,
 "nbformat_minor": 2
}
