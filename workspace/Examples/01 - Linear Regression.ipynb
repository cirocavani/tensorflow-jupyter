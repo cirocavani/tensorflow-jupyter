{
 "cells": [
  {
   "cell_type": "markdown",
   "metadata": {},
   "source": [
    "# Introduction\n",
    "\n",
    "https://www.tensorflow.org/get_started/get_started"
   ]
  },
  {
   "cell_type": "code",
   "execution_count": 1,
   "metadata": {},
   "outputs": [
    {
     "data": {
      "text/plain": [
       "'1.4.0'"
      ]
     },
     "execution_count": 1,
     "metadata": {},
     "output_type": "execute_result"
    }
   ],
   "source": [
    "import tensorflow as tf\n",
    "import numpy as np\n",
    "\n",
    "tf.VERSION"
   ]
  },
  {
   "cell_type": "code",
   "execution_count": 2,
   "metadata": {},
   "outputs": [
    {
     "name": "stdout",
     "output_type": "stream",
     "text": [
      "[ 0.38390577  0.39703003  0.3096104   0.38190377  0.31395769  0.31286079\n",
      "  0.37539697  0.38144878  0.31478685  0.35498425  0.31300959  0.34685469\n",
      "  0.35520899  0.3169331   0.33180654  0.3389464   0.32487631  0.35364732\n",
      "  0.3394694   0.37925008  0.35603026  0.32019293  0.30135143  0.31758252\n",
      "  0.38816708  0.31599298  0.36190194  0.38237417  0.37343502  0.39847738\n",
      "  0.38513643  0.37262934  0.30057588  0.33515856  0.35884812  0.30541223\n",
      "  0.37580371  0.3227616   0.33437103  0.38993242  0.31266391  0.3173489\n",
      "  0.3523834   0.3962568   0.34949282  0.3844043   0.38126606  0.32401261\n",
      "  0.3818357   0.30430946  0.32740504  0.38558015  0.38856292  0.39075139\n",
      "  0.39236891  0.37457052  0.39221454  0.38022962  0.38548028  0.39219218\n",
      "  0.32636774  0.39473656  0.3436133   0.3276369   0.37856472  0.30625403\n",
      "  0.38865644  0.34596303  0.36663491  0.36966389  0.37264141  0.370197\n",
      "  0.3995707   0.3615222   0.38252676  0.3461982   0.30563205  0.34553158\n",
      "  0.33337694  0.39525753  0.32530543  0.30901647  0.34276357  0.30698442\n",
      "  0.32694697  0.30074224  0.32546991  0.36172357  0.35131508  0.32556984\n",
      "  0.37437314  0.38087678  0.35691327  0.34082267  0.37228429  0.31180832\n",
      "  0.39174071  0.36199617  0.37188363  0.35928243]\n"
     ]
    }
   ],
   "source": [
    "# Create 100 phony x, y data points in NumPy, y = x * 0.1 + 0.3\n",
    "x_data = np.random.rand(100).astype(np.float32)\n",
    "y_data = x_data * 0.1 + 0.3\n",
    "\n",
    "print(y_data)"
   ]
  },
  {
   "cell_type": "code",
   "execution_count": 3,
   "metadata": {},
   "outputs": [
    {
     "name": "stdout",
     "output_type": "stream",
     "text": [
      "W\n",
      "\n",
      "<tf.Variable 'Variable:0' shape=(1,) dtype=float32_ref>\n",
      "\n",
      "b\n",
      "\n",
      "<tf.Variable 'Variable_1:0' shape=(1,) dtype=float32_ref>\n",
      "\n",
      "y = W * x + b\n",
      "\n",
      "Tensor(\"add:0\", shape=(100,), dtype=float32)\n"
     ]
    }
   ],
   "source": [
    "# Try to find values for W and b that compute y_data = W * x_data + b\n",
    "# (We know that W should be 0.1 and b 0.3, but TensorFlow will\n",
    "# figure that out for us.)\n",
    "W = tf.Variable(tf.random_uniform([1], -1.0, 1.0))\n",
    "b = tf.Variable(tf.zeros([1]))\n",
    "y = W * x_data + b\n",
    "\n",
    "print('W\\n\\n{}\\n'.format(W))\n",
    "print('b\\n\\n{}\\n'.format(b))\n",
    "print('y = W * x + b\\n\\n{}'.format(y))"
   ]
  },
  {
   "cell_type": "code",
   "execution_count": 4,
   "metadata": {},
   "outputs": [
    {
     "name": "stdout",
     "output_type": "stream",
     "text": [
      "Loss\n",
      "\n",
      "Tensor(\"Mean:0\", shape=(), dtype=float32)\n",
      "\n",
      "Optimizer\n",
      "\n",
      "<tensorflow.python.training.gradient_descent.GradientDescentOptimizer object at 0x7ff14c28b780>\n",
      "\n",
      "Train op\n",
      "\n",
      "name: \"GradientDescent\"\n",
      "op: \"NoOp\"\n",
      "input: \"^GradientDescent/update_Variable/ApplyGradientDescent\"\n",
      "input: \"^GradientDescent/update_Variable_1/ApplyGradientDescent\"\n",
      "\n"
     ]
    }
   ],
   "source": [
    "# Minimize the mean squared errors.\n",
    "loss = tf.reduce_mean(tf.square(y - y_data))\n",
    "optimizer = tf.train.GradientDescentOptimizer(0.5)\n",
    "train_op = optimizer.minimize(loss)\n",
    "\n",
    "print('Loss\\n\\n{}\\n'.format(loss))\n",
    "print('Optimizer\\n\\n{}\\n'.format(optimizer))\n",
    "print('Train op\\n\\n{}'.format(train_op))"
   ]
  },
  {
   "cell_type": "code",
   "execution_count": 5,
   "metadata": {},
   "outputs": [
    {
     "name": "stdout",
     "output_type": "stream",
     "text": [
      "name: \"init\"\n",
      "op: \"NoOp\"\n",
      "input: \"^Variable/Assign\"\n",
      "input: \"^Variable_1/Assign\"\n",
      "\n"
     ]
    }
   ],
   "source": [
    "# Before starting, initialize the variables.  We will 'run' this first.\n",
    "init = tf.global_variables_initializer()\n",
    "\n",
    "print(init)"
   ]
  },
  {
   "cell_type": "code",
   "execution_count": 6,
   "metadata": {
    "collapsed": true
   },
   "outputs": [],
   "source": [
    "# Launch the graph.\n",
    "session = tf.Session()\n",
    "session.run(init)"
   ]
  },
  {
   "cell_type": "code",
   "execution_count": 7,
   "metadata": {},
   "outputs": [
    {
     "name": "stdout",
     "output_type": "stream",
     "text": [
      "0 W: [ 0.42631224], b: [ 0.15894815] (average loss 0.01070773)\n",
      "20 W: [ 0.17188972], b: [ 0.25907794] (average loss 0.00047919)\n",
      "40 W: [ 0.11682903], b: [ 0.29042035] (average loss 0.00002626)\n",
      "60 W: [ 0.1039396], b: [ 0.29775745] (average loss 0.00000144)\n",
      "80 W: [ 0.10092226], b: [ 0.29947504] (average loss 0.00000008)\n",
      "100 W: [ 0.1002159], b: [ 0.29987711] (average loss 0.00000000)\n",
      "120 W: [ 0.10005053], b: [ 0.29997125] (average loss 0.00000000)\n",
      "140 W: [ 0.10001183], b: [ 0.29999328] (average loss 0.00000000)\n",
      "160 W: [ 0.10000274], b: [ 0.29999846] (average loss 0.00000000)\n",
      "180 W: [ 0.10000063], b: [ 0.29999965] (average loss 0.00000000)\n",
      "200 W: [ 0.10000014], b: [ 0.29999992] (average loss 0.00000000)\n"
     ]
    }
   ],
   "source": [
    "# Fit the line.\n",
    "for step in range(201):\n",
    "    session.run(train_op)\n",
    "    if step % 20 == 0:\n",
    "        loss_, W_, b_ = session.run([loss, W, b])\n",
    "        print('{:d} W: {}, b: {} (average loss {:,.8f})'.format(step, W_, b_, loss_))\n",
    "\n",
    "# Learns best fit is W: [0.1], b: [0.3]"
   ]
  },
  {
   "cell_type": "code",
   "execution_count": 8,
   "metadata": {
    "collapsed": true
   },
   "outputs": [],
   "source": [
    "session.close()"
   ]
  }
 ],
 "metadata": {
  "kernelspec": {
   "display_name": "Python 3 (tensorflow-cpu)",
   "language": "python",
   "name": "tensorflow-cpu"
  },
  "language_info": {
   "codemirror_mode": {
    "name": "ipython",
    "version": 3
   },
   "file_extension": ".py",
   "mimetype": "text/x-python",
   "name": "python",
   "nbconvert_exporter": "python",
   "pygments_lexer": "ipython3",
   "version": "3.6.3"
  }
 },
 "nbformat": 4,
 "nbformat_minor": 2
}
