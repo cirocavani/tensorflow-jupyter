{
 "cells": [
  {
   "cell_type": "markdown",
   "metadata": {},
   "source": [
    "# Introduction\n",
    "\n",
    "https://www.tensorflow.org/get_started/get_started"
   ]
  },
  {
   "cell_type": "code",
   "execution_count": 1,
   "metadata": {},
   "outputs": [
    {
     "data": {
      "text/plain": [
       "'1.5.0'"
      ]
     },
     "execution_count": 1,
     "metadata": {},
     "output_type": "execute_result"
    }
   ],
   "source": [
    "import tensorflow as tf\n",
    "import numpy as np\n",
    "\n",
    "tf.VERSION"
   ]
  },
  {
   "cell_type": "code",
   "execution_count": 2,
   "metadata": {},
   "outputs": [
    {
     "name": "stdout",
     "output_type": "stream",
     "text": [
      "[0.3950485  0.39703542 0.32073897 0.38825482 0.33002865 0.36648136\n",
      " 0.36877474 0.3546279  0.3654017  0.38456908 0.30869132 0.32237342\n",
      " 0.3731521  0.32234102 0.31538898 0.37624672 0.33047566 0.3372509\n",
      " 0.36223707 0.35268447 0.31491947 0.30463174 0.36968297 0.34696734\n",
      " 0.32473233 0.38147905 0.36336914 0.3616325  0.30034512 0.37915048\n",
      " 0.35225233 0.324844   0.35524437 0.3490501  0.3064018  0.3168577\n",
      " 0.37091407 0.36177516 0.32026598 0.36466837 0.39527956 0.34547406\n",
      " 0.30052236 0.32547665 0.30118164 0.34554237 0.37670386 0.31758204\n",
      " 0.3255704  0.30181384 0.36929625 0.3943959  0.37949437 0.38120487\n",
      " 0.30953562 0.3187318  0.37991455 0.37078506 0.36547813 0.37251344\n",
      " 0.30209136 0.30684146 0.31766066 0.3061617  0.33787018 0.33110535\n",
      " 0.31447095 0.39748675 0.30462828 0.32975316 0.32017478 0.35213697\n",
      " 0.3221681  0.33082527 0.31314307 0.38333428 0.3105016  0.3837263\n",
      " 0.3070478  0.38246384 0.300886   0.3273203  0.30830553 0.34621647\n",
      " 0.38261226 0.30322927 0.30970633 0.3752193  0.3483954  0.30456224\n",
      " 0.35250422 0.3998653  0.30687776 0.31160688 0.32503596 0.3105321\n",
      " 0.36486495 0.3899076  0.36343044 0.36672956]\n"
     ]
    }
   ],
   "source": [
    "# Create 100 phony x, y data points in NumPy, y = x * 0.1 + 0.3\n",
    "x_data = np.random.rand(100).astype(np.float32)\n",
    "y_data = x_data * 0.1 + 0.3\n",
    "\n",
    "print(y_data)"
   ]
  },
  {
   "cell_type": "code",
   "execution_count": 3,
   "metadata": {},
   "outputs": [
    {
     "name": "stdout",
     "output_type": "stream",
     "text": [
      "W\n",
      "\n",
      "<tf.Variable 'Variable:0' shape=(1,) dtype=float32_ref>\n",
      "\n",
      "b\n",
      "\n",
      "<tf.Variable 'Variable_1:0' shape=(1,) dtype=float32_ref>\n",
      "\n",
      "y = W * x + b\n",
      "\n",
      "Tensor(\"add:0\", shape=(100,), dtype=float32)\n"
     ]
    }
   ],
   "source": [
    "# Try to find values for W and b that compute y_data = W * x_data + b\n",
    "# (We know that W should be 0.1 and b 0.3, but TensorFlow will\n",
    "# figure that out for us.)\n",
    "W = tf.Variable(tf.random_uniform([1], -1.0, 1.0))\n",
    "b = tf.Variable(tf.zeros([1]))\n",
    "y = W * x_data + b\n",
    "\n",
    "print('W\\n\\n{}\\n'.format(W))\n",
    "print('b\\n\\n{}\\n'.format(b))\n",
    "print('y = W * x + b\\n\\n{}'.format(y))"
   ]
  },
  {
   "cell_type": "code",
   "execution_count": 4,
   "metadata": {},
   "outputs": [
    {
     "name": "stdout",
     "output_type": "stream",
     "text": [
      "Loss\n",
      "\n",
      "Tensor(\"Mean:0\", shape=(), dtype=float32)\n",
      "\n",
      "Optimizer\n",
      "\n",
      "<tensorflow.python.training.gradient_descent.GradientDescentOptimizer object at 0x7f2c3d97cba8>\n",
      "\n",
      "Train op\n",
      "\n",
      "name: \"GradientDescent\"\n",
      "op: \"NoOp\"\n",
      "input: \"^GradientDescent/update_Variable/ApplyGradientDescent\"\n",
      "input: \"^GradientDescent/update_Variable_1/ApplyGradientDescent\"\n",
      "\n"
     ]
    }
   ],
   "source": [
    "# Minimize the mean squared errors.\n",
    "loss = tf.reduce_mean(tf.square(y - y_data))\n",
    "optimizer = tf.train.GradientDescentOptimizer(0.5)\n",
    "train_op = optimizer.minimize(loss)\n",
    "\n",
    "print('Loss\\n\\n{}\\n'.format(loss))\n",
    "print('Optimizer\\n\\n{}\\n'.format(optimizer))\n",
    "print('Train op\\n\\n{}'.format(train_op))"
   ]
  },
  {
   "cell_type": "code",
   "execution_count": 5,
   "metadata": {},
   "outputs": [
    {
     "name": "stdout",
     "output_type": "stream",
     "text": [
      "name: \"init\"\n",
      "op: \"NoOp\"\n",
      "input: \"^Variable/Assign\"\n",
      "input: \"^Variable_1/Assign\"\n",
      "\n"
     ]
    }
   ],
   "source": [
    "# Before starting, initialize the variables.  We will 'run' this first.\n",
    "init = tf.global_variables_initializer()\n",
    "\n",
    "print(init)"
   ]
  },
  {
   "cell_type": "code",
   "execution_count": 6,
   "metadata": {
    "collapsed": true
   },
   "outputs": [],
   "source": [
    "# Launch the graph.\n",
    "session = tf.Session()\n",
    "session.run(init)"
   ]
  },
  {
   "cell_type": "code",
   "execution_count": 7,
   "metadata": {},
   "outputs": [
    {
     "name": "stdout",
     "output_type": "stream",
     "text": [
      "0 W: [-0.27563816], b: [0.60914046] (average loss 0.03416101)\n",
      "20 W: [0.0142945], b: [0.34057146] (average loss 0.00069317)\n",
      "40 W: [0.08277427], b: [0.30815437] (average loss 0.00002800)\n",
      "60 W: [0.09653785], b: [0.30163893] (average loss 0.00000113)\n",
      "80 W: [0.09930416], b: [0.30032942] (average loss 0.00000005)\n",
      "100 W: [0.09986015], b: [0.3000662] (average loss 0.00000000)\n",
      "120 W: [0.0999719], b: [0.3000133] (average loss 0.00000000)\n",
      "140 W: [0.09999436], b: [0.3000027] (average loss 0.00000000)\n",
      "160 W: [0.09999888], b: [0.30000055] (average loss 0.00000000)\n",
      "180 W: [0.09999977], b: [0.30000013] (average loss 0.00000000)\n",
      "200 W: [0.09999995], b: [0.30000004] (average loss 0.00000000)\n"
     ]
    }
   ],
   "source": [
    "# Fit the line.\n",
    "for step in range(201):\n",
    "    session.run(train_op)\n",
    "    if step % 20 == 0:\n",
    "        loss_, W_, b_ = session.run([loss, W, b])\n",
    "        print('{:d} W: {}, b: {} (average loss {:,.8f})'.format(step, W_, b_, loss_))\n",
    "\n",
    "# Learns best fit is W: [0.1], b: [0.3]"
   ]
  },
  {
   "cell_type": "code",
   "execution_count": 8,
   "metadata": {
    "collapsed": true
   },
   "outputs": [],
   "source": [
    "session.close()"
   ]
  }
 ],
 "metadata": {
  "kernelspec": {
   "display_name": "tensorflow-cpu",
   "language": "python",
   "name": "tensorflow-cpu"
  },
  "language_info": {
   "codemirror_mode": {
    "name": "ipython",
    "version": 3
   },
   "file_extension": ".py",
   "mimetype": "text/x-python",
   "name": "python",
   "nbconvert_exporter": "python",
   "pygments_lexer": "ipython3",
   "version": "3.6.4"
  }
 },
 "nbformat": 4,
 "nbformat_minor": 2
}
