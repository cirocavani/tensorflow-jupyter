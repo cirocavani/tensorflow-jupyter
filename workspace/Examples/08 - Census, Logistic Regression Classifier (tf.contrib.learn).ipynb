{
 "cells": [
  {
   "cell_type": "markdown",
   "metadata": {},
   "source": [
    "# TensorFlow Linear Model Tutorial\n",
    "\n",
    "https://www.tensorflow.org/tutorials/wide\n",
    "\n",
    "https://www.tensorflow.org/tutorials/linear"
   ]
  },
  {
   "cell_type": "code",
   "execution_count": 1,
   "metadata": {
    "collapsed": true
   },
   "outputs": [
    {
     "data": {
      "text/plain": [
       "'1.1.0'"
      ]
     },
     "execution_count": 1,
     "metadata": {},
     "output_type": "execute_result"
    }
   ],
   "source": [
    "import tensorflow as tf\n",
    "\n",
    "tf.logging.set_verbosity(tf.logging.ERROR)\n",
    "\n",
    "tf.__version__"
   ]
  },
  {
   "cell_type": "markdown",
   "metadata": {},
   "source": [
    "**Reading The Census Data**"
   ]
  },
  {
   "cell_type": "code",
   "execution_count": 2,
   "metadata": {
    "collapsed": true
   },
   "outputs": [],
   "source": [
    "import os\n",
    "import shutil\n",
    "\n",
    "HOME_DIR = 'census'\n",
    "DATA_DIR = os.path.join(HOME_DIR, 'data')\n",
    "\n",
    "CENSUS_TRAINING = \"adult.data\"\n",
    "CENSUS_TEST = \"adult.test\"\n",
    "\n",
    "TRAINING_FILE = os.path.join(DATA_DIR, CENSUS_TRAINING)\n",
    "TEST_FILE = os.path.join(DATA_DIR, CENSUS_TEST)\n",
    "\n",
    "from tensorflow.contrib.learn.python.learn.datasets.base import maybe_download\n",
    "maybe_download(CENSUS_TRAINING,\n",
    "               DATA_DIR,\n",
    "               'https://archive.ics.uci.edu/ml/machine-learning-databases/adult/adult.data')\n",
    "maybe_download(CENSUS_TEST,\n",
    "               DATA_DIR,\n",
    "               'https://archive.ics.uci.edu/ml/machine-learning-databases/adult/adult.test')\n",
    "\n",
    "MODEL_DIR = os.path.join(HOME_DIR, 'model', 'wide')\n",
    "\n",
    "if os.path.isdir(MODEL_DIR):\n",
    "    shutil.rmtree(MODEL_DIR)"
   ]
  },
  {
   "cell_type": "code",
   "execution_count": 3,
   "metadata": {},
   "outputs": [
    {
     "name": "stdout",
     "output_type": "stream",
     "text": [
      "Undefined column fnlwgt:2 (assuming CATEGORICAL type)\n",
      "Undefined column income_bracket:14 (assuming CATEGORICAL type)\n"
     ]
    },
    {
     "data": {
      "text/plain": [
       "[[0.0],\n",
       " [''],\n",
       " [''],\n",
       " [''],\n",
       " [0.0],\n",
       " [''],\n",
       " [''],\n",
       " [''],\n",
       " [''],\n",
       " [''],\n",
       " [0.0],\n",
       " [0.0],\n",
       " [0.0],\n",
       " [''],\n",
       " ['']]"
      ]
     },
     "execution_count": 3,
     "metadata": {},
     "output_type": "execute_result"
    }
   ],
   "source": [
    "COLUMNS = [\n",
    "    \"age\",\n",
    "    \"workclass\",\n",
    "    \"fnlwgt\",\n",
    "    \"education\",\n",
    "    \"education_num\",\n",
    "    \"marital_status\",\n",
    "    \"occupation\",\n",
    "    \"relationship\",\n",
    "    \"race\",\n",
    "    \"gender\",\n",
    "    \"capital_gain\",\n",
    "    \"capital_loss\",\n",
    "    \"hours_per_week\",\n",
    "    \"native_country\",\n",
    "    \"income_bracket\"\n",
    "]\n",
    "\n",
    "CATEGORICAL_COLUMNS = [\n",
    "    \"workclass\",\n",
    "    \"education\",\n",
    "    \"marital_status\",\n",
    "    \"occupation\",\n",
    "    \"relationship\",\n",
    "    \"race\",\n",
    "    \"gender\",\n",
    "    \"native_country\"\n",
    "]\n",
    "\n",
    "CONTINUOUS_COLUMNS = [\n",
    "    \"age\",\n",
    "    \"education_num\",\n",
    "    \"capital_gain\",\n",
    "    \"capital_loss\",\n",
    "    \"hours_per_week\"\n",
    "]\n",
    "\n",
    "record_defaults = []\n",
    "\n",
    "for i, colname in enumerate(COLUMNS):\n",
    "    if colname in CATEGORICAL_COLUMNS:\n",
    "        record_defaults.append([\"\"])\n",
    "    elif colname in CONTINUOUS_COLUMNS:\n",
    "        record_defaults.append([0.0])\n",
    "    else:\n",
    "        print(\"Undefined column {}:{} (assuming CATEGORICAL type)\".format(colname, i))\n",
    "        record_defaults.append([\"\"])\n",
    "\n",
    "record_defaults"
   ]
  },
  {
   "cell_type": "code",
   "execution_count": 4,
   "metadata": {
    "collapsed": true
   },
   "outputs": [],
   "source": [
    "def read_census_csv(filename_queue, skip_header=False):\n",
    "    reader = tf.TextLineReader(skip_header_lines=int(skip_header))\n",
    "    _, value = reader.read(filename_queue)\n",
    "\n",
    "    cols = tf.decode_csv(value, record_defaults=record_defaults)\n",
    "\n",
    "    label_raw = cols.pop() # income_bracket\n",
    "    label = tf.py_func(lambda x: int('>50K' in x.decode('utf-8')), [label_raw], [tf.int64])[0]\n",
    "    label.set_shape([])\n",
    "\n",
    "    cols.append(label)\n",
    "    return cols\n",
    "\n",
    "def input_pipeline(filenames, batch_size, skip_header=False):\n",
    "    filename_queue = tf.train.string_input_producer(filenames)\n",
    "    input_cols = read_census_csv(filename_queue, skip_header)\n",
    "    \n",
    "    example = tf.train.batch(input_cols, batch_size=batch_size)\n",
    "    label = example.pop()\n",
    "    \n",
    "    feature_cols = dict(zip(COLUMNS, example))\n",
    "    \n",
    "    indices = [[i, 0] for i in range(batch_size)]\n",
    "    for colname in CATEGORICAL_COLUMNS:\n",
    "        tensor = feature_cols[colname]\n",
    "        feature_cols[colname] = tf.SparseTensor(indices, tensor, [batch_size, 1])\n",
    "\n",
    "    return feature_cols, label\n",
    "\n",
    "def train_input_fn():\n",
    "    return input_pipeline([TRAINING_FILE], 128, False)\n",
    "\n",
    "def eval_input_fn():\n",
    "    return input_pipeline([TEST_FILE], 128, True)"
   ]
  },
  {
   "cell_type": "markdown",
   "metadata": {},
   "source": [
    "**Selecting and Engineering Features for the Model**"
   ]
  },
  {
   "cell_type": "markdown",
   "metadata": {},
   "source": [
    "*Base Categorical Feature Columns*"
   ]
  },
  {
   "cell_type": "code",
   "execution_count": 5,
   "metadata": {
    "collapsed": true
   },
   "outputs": [],
   "source": [
    "workclass = tf.contrib.layers.sparse_column_with_hash_bucket(\"workclass\", hash_bucket_size=100)\n",
    "education = tf.contrib.layers.sparse_column_with_hash_bucket(\"education\", hash_bucket_size=1000)\n",
    "marital_status = tf.contrib.layers.sparse_column_with_hash_bucket(\"marital_status\", hash_bucket_size=100)\n",
    "occupation = tf.contrib.layers.sparse_column_with_hash_bucket(\"occupation\", hash_bucket_size=1000)\n",
    "relationship = tf.contrib.layers.sparse_column_with_hash_bucket(\"relationship\", hash_bucket_size=100)\n",
    "native_country = tf.contrib.layers.sparse_column_with_hash_bucket(\"native_country\", hash_bucket_size=1000)\n",
    "\n",
    "gender = tf.contrib.layers.sparse_column_with_keys(\n",
    "    column_name=\"gender\",\n",
    "    keys=[\"female\", \"male\"])\n",
    "\n",
    "race = tf.contrib.layers.sparse_column_with_keys(\n",
    "    column_name=\"race\",\n",
    "    keys=[\"Amer-Indian-Eskimo\", \"Asian-Pac-Islander\", \"Black\", \"Other\", \"White\"])"
   ]
  },
  {
   "cell_type": "markdown",
   "metadata": {},
   "source": [
    "*Base Continuous Feature Columns*"
   ]
  },
  {
   "cell_type": "code",
   "execution_count": 6,
   "metadata": {
    "collapsed": true
   },
   "outputs": [],
   "source": [
    "age = tf.contrib.layers.real_valued_column(\"age\")"
   ]
  },
  {
   "cell_type": "markdown",
   "metadata": {},
   "source": [
    "*Making Continuous Features Categorical through Bucketization*"
   ]
  },
  {
   "cell_type": "code",
   "execution_count": 7,
   "metadata": {
    "collapsed": true
   },
   "outputs": [],
   "source": [
    "age_buckets = tf.contrib.layers.bucketized_column(age, boundaries=[18, 25, 30, 35, 40, 45, 50, 55, 60, 65])"
   ]
  },
  {
   "cell_type": "markdown",
   "metadata": {},
   "source": [
    "*Intersecting Multiple Columns with CrossedColumn*"
   ]
  },
  {
   "cell_type": "code",
   "execution_count": 8,
   "metadata": {
    "collapsed": true
   },
   "outputs": [],
   "source": [
    "education_x_occupation = tf.contrib.layers.crossed_column(\n",
    "    [education, occupation],\n",
    "    hash_bucket_size=int(1e4))\n",
    "\n",
    "age_buckets_x_race_x_occupation = tf.contrib.layers.crossed_column(\n",
    "    [age_buckets, race, occupation],\n",
    "    hash_bucket_size=int(1e6))"
   ]
  },
  {
   "cell_type": "markdown",
   "metadata": {},
   "source": [
    "**Defining The Logistic Regression Model**"
   ]
  },
  {
   "cell_type": "code",
   "execution_count": 9,
   "metadata": {
    "collapsed": true
   },
   "outputs": [],
   "source": [
    "m = tf.contrib.learn.LinearClassifier(\n",
    "    feature_columns=[\n",
    "        gender,\n",
    "        native_country,\n",
    "        education,\n",
    "        occupation,\n",
    "        workclass,\n",
    "        marital_status,\n",
    "        race,\n",
    "        age_buckets,\n",
    "        education_x_occupation,\n",
    "        age_buckets_x_race_x_occupation],\n",
    "    model_dir=MODEL_DIR)"
   ]
  },
  {
   "cell_type": "markdown",
   "metadata": {},
   "source": [
    "**Training and Evaluating Our Model**"
   ]
  },
  {
   "cell_type": "code",
   "execution_count": 10,
   "metadata": {},
   "outputs": [
    {
     "name": "stdout",
     "output_type": "stream",
     "text": [
      "accuracy: 0.8828125\n",
      "accuracy/baseline_label_mean: 0.2109375\n",
      "accuracy/threshold_0.500000_mean: 0.8828125\n",
      "auc: 0.9033737182617188\n",
      "global_step: 200\n",
      "labels/actual_label_mean: 0.2109375\n",
      "labels/prediction_mean: 0.20066951215267181\n",
      "loss: 0.31832727789878845\n",
      "precision/positive_threshold_0.500000_mean: 0.875\n",
      "recall/positive_threshold_0.500000_mean: 0.5185185074806213\n"
     ]
    }
   ],
   "source": [
    "m.fit(input_fn=train_input_fn, steps=200)\n",
    "\n",
    "results = m.evaluate(input_fn=eval_input_fn, steps=1)\n",
    "for key in sorted(results):\n",
    "    print('{}: {}'.format(key, results[key]))"
   ]
  }
 ],
 "metadata": {
  "kernelspec": {
   "display_name": "Python 3 (TensorFlow CPU)",
   "language": "python",
   "name": "tensorflow"
  },
  "language_info": {
   "codemirror_mode": {
    "name": "ipython",
    "version": 3
   },
   "file_extension": ".py",
   "mimetype": "text/x-python",
   "name": "python",
   "nbconvert_exporter": "python",
   "pygments_lexer": "ipython3",
   "version": "3.5.3"
  }
 },
 "nbformat": 4,
 "nbformat_minor": 1
}
