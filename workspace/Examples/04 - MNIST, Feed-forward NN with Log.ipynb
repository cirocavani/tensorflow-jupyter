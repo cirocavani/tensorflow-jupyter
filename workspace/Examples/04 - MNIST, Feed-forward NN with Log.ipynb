{
 "cells": [
  {
   "cell_type": "markdown",
   "metadata": {},
   "source": [
    "# TensorFlow Mechanics 101\n",
    "\n",
    "https://www.tensorflow.org/get_started/mnist/mechanics\n",
    "\n",
    "https://github.com/tensorflow/tensorflow/blob/v1.0.0/tensorflow/examples/tutorials/mnist/mnist.py\n",
    "\n",
    "https://github.com/tensorflow/tensorflow/blob/v1.0.0/tensorflow/examples/tutorials/mnist/fully_connected_feed.py"
   ]
  },
  {
   "cell_type": "code",
   "execution_count": 1,
   "metadata": {},
   "outputs": [
    {
     "data": {
      "text/plain": [
       "'1.3.0'"
      ]
     },
     "execution_count": 1,
     "metadata": {},
     "output_type": "execute_result"
    }
   ],
   "source": [
    "import os.path\n",
    "import time\n",
    "import math\n",
    "\n",
    "import tensorflow as tf\n",
    "\n",
    "tf.VERSION"
   ]
  },
  {
   "cell_type": "markdown",
   "metadata": {},
   "source": [
    "**Load MNIST Data**"
   ]
  },
  {
   "cell_type": "code",
   "execution_count": 2,
   "metadata": {},
   "outputs": [
    {
     "name": "stdout",
     "output_type": "stream",
     "text": [
      "Extracting MNIST/data/train-images-idx3-ubyte.gz\n",
      "Extracting MNIST/data/train-labels-idx1-ubyte.gz\n",
      "Extracting MNIST/data/t10k-images-idx3-ubyte.gz\n",
      "Extracting MNIST/data/t10k-labels-idx1-ubyte.gz\n"
     ]
    }
   ],
   "source": [
    "from tensorflow.examples.tutorials.mnist import input_data\n",
    "mnist = input_data.read_data_sets('MNIST/data')"
   ]
  },
  {
   "cell_type": "code",
   "execution_count": 3,
   "metadata": {},
   "outputs": [],
   "source": [
    "def layer(input_tensor, units):\n",
    "    input_size = input_tensor.get_shape().dims[-1].value\n",
    "    weights = tf.Variable(\n",
    "        tf.truncated_normal(\n",
    "            [input_size, units],\n",
    "            stddev=1.0 / math.sqrt(float(input_size))),\n",
    "        name='weights')\n",
    "    biases = tf.Variable(\n",
    "        tf.zeros([units]),\n",
    "        name='biases')\n",
    "    return tf.matmul(input_tensor, weights) + biases\n",
    "\n",
    "def inference(image_tensor, hidden1_units, hidden2_units, output_units):\n",
    "    with tf.name_scope('hidden1'):\n",
    "        hidden1 = tf.nn.relu(layer(image_tensor, hidden1_units))\n",
    "    with tf.name_scope('hidden2'):\n",
    "        hidden2 = tf.nn.relu(layer(hidden1, hidden2_units))\n",
    "    with tf.name_scope('softmax_linear'):\n",
    "        logits = layer(hidden2, output_units)\n",
    "    return logits\n",
    "\n",
    "def loss(logits, labels):\n",
    "    labels = tf.to_int64(labels)\n",
    "    cross_entropy = tf.nn.sparse_softmax_cross_entropy_with_logits(\n",
    "        labels=labels, logits=logits, name='xentropy')\n",
    "    loss = tf.reduce_mean(cross_entropy, name='xentropy_mean')\n",
    "    return loss\n",
    "\n",
    "def training(loss, learning_rate):\n",
    "    tf.summary.scalar(loss.op.name, loss)\n",
    "    optimizer = tf.train.GradientDescentOptimizer(learning_rate)\n",
    "    global_step = tf.Variable(0, name='global_step', trainable=False)\n",
    "    train_op = optimizer.minimize(loss, global_step=global_step)\n",
    "    return train_op\n",
    "\n",
    "def evaluation(logits, labels):\n",
    "    correct = tf.nn.in_top_k(logits, labels, 1)\n",
    "    return tf.reduce_sum(tf.cast(correct, tf.int32))"
   ]
  },
  {
   "cell_type": "code",
   "execution_count": 4,
   "metadata": {},
   "outputs": [],
   "source": [
    "def inputs(image_pixels, batch_size):\n",
    "    images = tf.placeholder(\n",
    "        tf.float32,\n",
    "        shape=(batch_size, image_pixels))\n",
    "    labels = tf.placeholder(\n",
    "        tf.int32,\n",
    "        shape=(batch_size))\n",
    "    return images, labels\n",
    "\n",
    "def train():\n",
    "    max_steps = 2000\n",
    "    batch_size = 100\n",
    "    learning_rate = 0.01\n",
    "    hidden1_units = 128\n",
    "    hidden2_units = 32\n",
    "\n",
    "    output_dir = 'MNIST/model'\n",
    "\n",
    "    image_pixels = 28 * 28\n",
    "    image_classes = 10\n",
    "\n",
    "    with tf.Graph().as_default():\n",
    "        X, y = inputs(image_pixels, batch_size)\n",
    "        logits = inference(X, hidden1_units, hidden2_units, image_classes)\n",
    "        \n",
    "        loss_tensor = loss(logits, y)\n",
    "        \n",
    "        train_op = training(loss_tensor, learning_rate)\n",
    "        \n",
    "        eval_correct = evaluation(logits, y)\n",
    "        \n",
    "        summary_op = tf.summary.merge_all()\n",
    "\n",
    "        init = tf.global_variables_initializer()\n",
    "        saver = tf.train.Saver()\n",
    "\n",
    "        with tf.Session() as sess:\n",
    "            summary_writer = tf.summary.FileWriter(output_dir, sess.graph)\n",
    "\n",
    "            sess.run(init)\n",
    "\n",
    "            for step in range(max_steps):\n",
    "                start_time = time.time()\n",
    "            \n",
    "                images, labels = mnist.train.next_batch(batch_size)\n",
    "                feed_dict = {X: images, y: labels}\n",
    "\n",
    "                _, loss_value = sess.run([train_op, loss_tensor], feed_dict=feed_dict)\n",
    "\n",
    "                duration = time.time() - start_time\n",
    "            \n",
    "                if step % 100 == 0:\n",
    "                    print('Step {:d}: loss = {:.2f} ({:.3f} sec)'.format(step, loss_value, duration))\n",
    "                    summary_str = sess.run(summary_op, feed_dict=feed_dict)\n",
    "                    summary_writer.add_summary(summary_str, step)\n",
    "                    summary_writer.flush()\n",
    "            \n",
    "                if (step + 1) % 1000 == 0 or (step + 1) == max_steps:\n",
    "                    checkpoint_file = os.path.join(output_dir, 'checkpoint')\n",
    "                    saver.save(sess, checkpoint_file, global_step=step)"
   ]
  },
  {
   "cell_type": "code",
   "execution_count": 5,
   "metadata": {},
   "outputs": [
    {
     "name": "stdout",
     "output_type": "stream",
     "text": [
      "Step 0: loss = 2.28 (0.072 sec)\n",
      "Step 100: loss = 2.19 (0.002 sec)\n",
      "Step 200: loss = 2.00 (0.003 sec)\n",
      "Step 300: loss = 1.59 (0.002 sec)\n",
      "Step 400: loss = 1.33 (0.002 sec)\n",
      "Step 500: loss = 1.07 (0.002 sec)\n",
      "Step 600: loss = 0.88 (0.002 sec)\n",
      "Step 700: loss = 0.73 (0.003 sec)\n",
      "Step 800: loss = 0.70 (0.002 sec)\n",
      "Step 900: loss = 0.71 (0.002 sec)\n",
      "Step 1000: loss = 0.51 (0.004 sec)\n",
      "Step 1100: loss = 0.48 (0.063 sec)\n",
      "Step 1200: loss = 0.45 (0.002 sec)\n",
      "Step 1300: loss = 0.32 (0.002 sec)\n",
      "Step 1400: loss = 0.35 (0.002 sec)\n",
      "Step 1500: loss = 0.43 (0.002 sec)\n",
      "Step 1600: loss = 0.43 (0.002 sec)\n",
      "Step 1700: loss = 0.32 (0.002 sec)\n",
      "Step 1800: loss = 0.31 (0.002 sec)\n",
      "Step 1900: loss = 0.48 (0.002 sec)\n",
      "CPU times: user 9.52 s, sys: 385 ms, total: 9.9 s\n",
      "Wall time: 4.76 s\n"
     ]
    }
   ],
   "source": [
    "%%time\n",
    "\n",
    "train()"
   ]
  }
 ],
 "metadata": {
  "kernelspec": {
   "display_name": "Python 3 (tensorflow-cpu)",
   "language": "python",
   "name": "tensorflow-cpu"
  },
  "language_info": {
   "codemirror_mode": {
    "name": "ipython",
    "version": 3
   },
   "file_extension": ".py",
   "mimetype": "text/x-python",
   "name": "python",
   "nbconvert_exporter": "python",
   "pygments_lexer": "ipython3",
   "version": "3.6.2"
  }
 },
 "nbformat": 4,
 "nbformat_minor": 2
}
