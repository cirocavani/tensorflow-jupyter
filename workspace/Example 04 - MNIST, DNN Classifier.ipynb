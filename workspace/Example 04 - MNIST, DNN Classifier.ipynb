{
 "cells": [
  {
   "cell_type": "markdown",
   "metadata": {},
   "source": [
    "# TensorFlow Mechanics 101\n",
    "\n",
    "https://www.tensorflow.org/versions/r0.10/tutorials/mnist/tf/index.html\n",
    "\n",
    "https://github.com/tensorflow/tensorflow/blob/r0.10/tensorflow/examples/tutorials/mnist/mnist.py\n",
    "\n",
    "https://github.com/tensorflow/tensorflow/blob/r0.10/tensorflow/examples/tutorials/mnist/fully_connected_feed.py"
   ]
  },
  {
   "cell_type": "code",
   "execution_count": 1,
   "metadata": {
    "collapsed": true
   },
   "outputs": [],
   "source": [
    "from __future__ import absolute_import\n",
    "from __future__ import division\n",
    "from __future__ import print_function\n",
    "\n",
    "import os.path\n",
    "import time\n",
    "import math\n",
    "\n",
    "from six.moves import xrange\n",
    "\n",
    "import tensorflow as tf"
   ]
  },
  {
   "cell_type": "markdown",
   "metadata": {},
   "source": [
    "**Load MNIST Data**"
   ]
  },
  {
   "cell_type": "code",
   "execution_count": 2,
   "metadata": {
    "collapsed": false
   },
   "outputs": [
    {
     "name": "stdout",
     "output_type": "stream",
     "text": [
      "Extracting MNIST/data/train-images-idx3-ubyte.gz\n",
      "Extracting MNIST/data/train-labels-idx1-ubyte.gz\n",
      "Extracting MNIST/data/t10k-images-idx3-ubyte.gz\n",
      "Extracting MNIST/data/t10k-labels-idx1-ubyte.gz\n"
     ]
    }
   ],
   "source": [
    "from tensorflow.examples.tutorials.mnist import input_data\n",
    "mnist = input_data.read_data_sets('MNIST/data')"
   ]
  },
  {
   "cell_type": "code",
   "execution_count": 3,
   "metadata": {
    "collapsed": true
   },
   "outputs": [],
   "source": [
    "def layer(input_tensor, units):\n",
    "    input_size = input_tensor.get_shape().dims[-1].value\n",
    "    weights = tf.Variable(\n",
    "        tf.truncated_normal(\n",
    "            [input_size, units],\n",
    "            stddev=1.0 / math.sqrt(float(input_size))),\n",
    "        name='weights')\n",
    "    biases = tf.Variable(\n",
    "        tf.zeros([units]),\n",
    "        name='biases')\n",
    "    return tf.matmul(input_tensor, weights) + biases\n",
    "\n",
    "def inference(image_tensor, hidden1_units, hidden2_units, output_units):\n",
    "    with tf.name_scope('hidden1'):\n",
    "        hidden1 = tf.nn.relu(layer(image_tensor, hidden1_units))\n",
    "    with tf.name_scope('hidden2'):\n",
    "        hidden2 = tf.nn.relu(layer(hidden1, hidden2_units))\n",
    "    with tf.name_scope('softmax_linear'):\n",
    "        logits = layer(hidden2, output_units)\n",
    "    return logits\n",
    "\n",
    "def loss(logits, labels):\n",
    "    labels = tf.to_int64(labels)\n",
    "    cross_entropy = tf.nn.sparse_softmax_cross_entropy_with_logits(\n",
    "        logits, labels, name='xentropy')\n",
    "    loss = tf.reduce_mean(cross_entropy, name='xentropy_mean')\n",
    "    return loss\n",
    "\n",
    "def training(loss, learning_rate):\n",
    "    tf.scalar_summary(loss.op.name, loss)\n",
    "    optimizer = tf.train.GradientDescentOptimizer(learning_rate)\n",
    "    global_step = tf.Variable(0, name='global_step', trainable=False)\n",
    "    train_op = optimizer.minimize(loss, global_step=global_step)\n",
    "    return train_op\n",
    "\n",
    "def evaluation(logits, labels):\n",
    "    correct = tf.nn.in_top_k(logits, labels, 1)\n",
    "    return tf.reduce_sum(tf.cast(correct, tf.int32))"
   ]
  },
  {
   "cell_type": "code",
   "execution_count": 4,
   "metadata": {
    "collapsed": true
   },
   "outputs": [],
   "source": [
    "def inputs(image_pixels, batch_size):\n",
    "    images = tf.placeholder(\n",
    "        tf.float32,\n",
    "        shape=(batch_size, image_pixels))\n",
    "    labels = tf.placeholder(\n",
    "        tf.int32,\n",
    "        shape=(batch_size))\n",
    "    return images, labels\n",
    "\n",
    "def train():\n",
    "    max_steps = 2000\n",
    "    batch_size = 100\n",
    "    learning_rate = 0.01\n",
    "    hidden1_units = 128\n",
    "    hidden2_units = 32\n",
    "\n",
    "    output_dir = 'MNIST/model'\n",
    "\n",
    "    image_pixels = 28 * 28\n",
    "    image_classes = 10\n",
    "\n",
    "    with tf.Graph().as_default():\n",
    "        X, y = inputs(image_pixels, batch_size)\n",
    "        logits = inference(X, hidden1_units, hidden2_units, image_classes)\n",
    "        \n",
    "        loss_tensor = loss(logits, y)\n",
    "        \n",
    "        train_op = training(loss_tensor, learning_rate)\n",
    "        \n",
    "        eval_correct = evaluation(logits, y)\n",
    "        \n",
    "        summary_op = tf.merge_all_summaries()\n",
    "\n",
    "        init = tf.initialize_all_variables()\n",
    "        saver = tf.train.Saver()\n",
    "\n",
    "        with tf.Session() as sess:\n",
    "            summary_writer = tf.train.SummaryWriter(output_dir, sess.graph)\n",
    "\n",
    "            sess.run(init)\n",
    "\n",
    "            for step in xrange(max_steps):\n",
    "                start_time = time.time()\n",
    "            \n",
    "                images, labels = mnist.train.next_batch(batch_size)\n",
    "                feed_dict = {X: images, y: labels}\n",
    "\n",
    "                _, loss_value = sess.run([train_op, loss_tensor], feed_dict=feed_dict)\n",
    "\n",
    "                duration = time.time() - start_time\n",
    "            \n",
    "                if step % 100 == 0:\n",
    "                    print('Step %d: loss = %.2f (%.3f sec)' % (step, loss_value, duration))\n",
    "                    summary_str = sess.run(summary_op, feed_dict=feed_dict)\n",
    "                    summary_writer.add_summary(summary_str, step)\n",
    "                    summary_writer.flush()\n",
    "            \n",
    "                if (step + 1) % 1000 == 0 or (step + 1) == max_steps:\n",
    "                    checkpoint_file = os.path.join(output_dir, 'checkpoint')\n",
    "                    saver.save(sess, checkpoint_file, global_step=step)"
   ]
  },
  {
   "cell_type": "code",
   "execution_count": 5,
   "metadata": {
    "collapsed": false
   },
   "outputs": [
    {
     "name": "stdout",
     "output_type": "stream",
     "text": [
      "Step 0: loss = 2.29 (0.039 sec)\n",
      "Step 100: loss = 2.16 (0.016 sec)\n",
      "Step 200: loss = 1.91 (0.007 sec)\n",
      "Step 300: loss = 1.59 (0.009 sec)\n",
      "Step 400: loss = 1.31 (0.025 sec)\n",
      "Step 500: loss = 0.83 (0.008 sec)\n",
      "Step 600: loss = 0.66 (0.007 sec)\n",
      "Step 700: loss = 0.62 (0.009 sec)\n",
      "Step 800: loss = 0.51 (0.009 sec)\n",
      "Step 900: loss = 0.40 (0.008 sec)\n",
      "Step 1000: loss = 0.53 (0.017 sec)\n",
      "Step 1100: loss = 0.48 (0.355 sec)\n",
      "Step 1200: loss = 0.55 (0.009 sec)\n",
      "Step 1300: loss = 0.36 (0.009 sec)\n",
      "Step 1400: loss = 0.43 (0.010 sec)\n",
      "Step 1500: loss = 0.40 (0.008 sec)\n",
      "Step 1600: loss = 0.51 (0.008 sec)\n",
      "Step 1700: loss = 0.52 (0.009 sec)\n",
      "Step 1800: loss = 0.35 (0.008 sec)\n",
      "Step 1900: loss = 0.41 (0.011 sec)\n"
     ]
    }
   ],
   "source": [
    "train()"
   ]
  }
 ],
 "metadata": {
  "kernelspec": {
   "display_name": "TensorFlow 0.10 (CPU, Python 2)",
   "language": "python",
   "name": "tensorflow-py2"
  },
  "language_info": {
   "codemirror_mode": {
    "name": "ipython",
    "version": 2
   },
   "file_extension": ".py",
   "mimetype": "text/x-python",
   "name": "python",
   "nbconvert_exporter": "python",
   "pygments_lexer": "ipython2",
   "version": "2.7.12"
  }
 },
 "nbformat": 4,
 "nbformat_minor": 1
}
