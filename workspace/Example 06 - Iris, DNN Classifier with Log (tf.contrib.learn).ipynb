{
 "cells": [
  {
   "cell_type": "markdown",
   "metadata": {},
   "source": [
    "# Logging and Monitoring Basics with tf.contrib.learn\n",
    "\n",
    "https://www.tensorflow.org/versions/r0.10/tutorials/monitors/index.html\n",
    "\n",
    "https://www.tensorflow.org/versions/r0.10/api_docs/python/contrib.learn.monitors.html\n",
    "\n",
    "https://www.tensorflow.org/versions/r0.10/api_docs/python/contrib.learn.html#DNNClassifier"
   ]
  },
  {
   "cell_type": "code",
   "execution_count": 1,
   "metadata": {
    "collapsed": true
   },
   "outputs": [],
   "source": [
    "from __future__ import absolute_import\n",
    "from __future__ import division\n",
    "from __future__ import print_function\n",
    "\n",
    "import tensorflow as tf\n",
    "import numpy as np\n",
    "\n",
    "tf.logging.set_verbosity(tf.logging.INFO)"
   ]
  },
  {
   "cell_type": "markdown",
   "metadata": {},
   "source": [
    "**Load the Iris CSV data to TensorFlow**"
   ]
  },
  {
   "cell_type": "code",
   "execution_count": 2,
   "metadata": {
    "collapsed": true
   },
   "outputs": [],
   "source": [
    "import os\n",
    "import shutil\n",
    "\n",
    "HOME_DIR = 'isis'\n",
    "DATA_DIR = os.path.join(HOME_DIR, 'data')\n",
    "\n",
    "IRIS_TRAINING = \"iris_training.csv\"\n",
    "IRIS_TEST = \"iris_test.csv\"\n",
    "\n",
    "TRAINING_FILE = os.path.join(DATA_DIR, IRIS_TRAINING)\n",
    "TEST_FILE = os.path.join(DATA_DIR, IRIS_TEST)\n",
    "\n",
    "from tensorflow.contrib.learn.python.learn.datasets.base import maybe_download\n",
    "maybe_download(IRIS_TRAINING, DATA_DIR, 'http://download.tensorflow.org/data/iris_training.csv')\n",
    "maybe_download(IRIS_TEST, DATA_DIR, 'http://download.tensorflow.org/data/iris_test.csv')\n",
    "\n",
    "MODEL_DIR = os.path.join(HOME_DIR, 'model_log')\n",
    "\n",
    "if os.path.isdir(MODEL_DIR):\n",
    "    shutil.rmtree(MODEL_DIR)"
   ]
  },
  {
   "cell_type": "code",
   "execution_count": 3,
   "metadata": {
    "collapsed": true
   },
   "outputs": [],
   "source": [
    "training_set = tf.contrib.learn.datasets.base.load_csv_with_header(\n",
    "    filename=TRAINING_FILE,\n",
    "    target_dtype=np.int,\n",
    "    features_dtype=np.float32)\n",
    "\n",
    "test_set = tf.contrib.learn.datasets.base.load_csv_with_header(\n",
    "    filename=TEST_FILE,\n",
    "    target_dtype=np.int,\n",
    "    features_dtype=np.float32)"
   ]
  },
  {
   "cell_type": "markdown",
   "metadata": {},
   "source": [
    "**Construct a Deep Neural Network Classifier**"
   ]
  },
  {
   "cell_type": "code",
   "execution_count": 4,
   "metadata": {
    "collapsed": false
   },
   "outputs": [
    {
     "name": "stderr",
     "output_type": "stream",
     "text": [
      "INFO:tensorflow:Using config: {'task': 0, 'save_summary_steps': 100, 'keep_checkpoint_max': 5, 'save_checkpoints_secs': 1, 'tf_config': intra_op_parallelism_threads: 4\n",
      "inter_op_parallelism_threads: 4\n",
      "gpu_options {\n",
      "  per_process_gpu_memory_fraction: 1\n",
      "}\n",
      ", 'master': '', 'keep_checkpoint_every_n_hours': 10000, 'tf_random_seed': 42, 'num_ps_replicas': 0}\n"
     ]
    }
   ],
   "source": [
    "feature_columns = [tf.contrib.layers.real_valued_column(\"\", dimension=4)]\n",
    "\n",
    "classifier = tf.contrib.learn.DNNClassifier(\n",
    "    feature_columns=feature_columns,\n",
    "    hidden_units=[10, 20, 10],\n",
    "    n_classes=3,\n",
    "    model_dir=MODEL_DIR,\n",
    "    config=tf.contrib.learn.RunConfig(save_checkpoints_secs=1)) #to ensure a sufficient number of checkpoints"
   ]
  },
  {
   "cell_type": "markdown",
   "metadata": {},
   "source": [
    "**Fit the DNNClassifier to the Iris Training Data**"
   ]
  },
  {
   "cell_type": "code",
   "execution_count": 5,
   "metadata": {
    "collapsed": false
   },
   "outputs": [
    {
     "name": "stderr",
     "output_type": "stream",
     "text": [
      "WARNING:tensorflow:float64 is not supported by many models, consider casting to float32.\n",
      "WARNING:tensorflow:Setting feature info to TensorSignature(dtype=tf.float64, shape=TensorShape([Dimension(None), Dimension(4)]), is_sparse=False)\n",
      "WARNING:tensorflow:Setting targets info to TensorSignature(dtype=tf.int64, shape=TensorShape([Dimension(None)]), is_sparse=False)\n",
      "INFO:tensorflow:Transforming feature_column _RealValuedColumn(column_name='', dimension=4, default_value=None, dtype=tf.float32)\n",
      "INFO:tensorflow:Create CheckpointSaver\n",
      "INFO:tensorflow:Step 1: loss = 1.88127\n",
      "INFO:tensorflow:Saving checkpoints for 1 into isis/model_log/model.ckpt.\n",
      "WARNING:tensorflow:float64 is not supported by many models, consider casting to float32.\n",
      "WARNING:tensorflow:Given features: Tensor(\"input:0\", shape=(?, 4), dtype=float64), required signatures: TensorSignature(dtype=tf.float64, shape=TensorShape([Dimension(None), Dimension(4)]), is_sparse=False).\n",
      "WARNING:tensorflow:Given targets: Tensor(\"output:0\", shape=(?,), dtype=int64), required signatures: TensorSignature(dtype=tf.int64, shape=TensorShape([Dimension(None)]), is_sparse=False).\n",
      "INFO:tensorflow:Transforming feature_column _RealValuedColumn(column_name='', dimension=4, default_value=None, dtype=tf.float32)\n",
      "INFO:tensorflow:Restored model from isis/model_log/model.ckpt-1-?????-of-00001\n",
      "INFO:tensorflow:Eval steps [0,inf) for training step 1.\n",
      "INFO:tensorflow:Input iterator is exhausted.\n",
      "INFO:tensorflow:Saving evaluation summary for 1 step: recall = 0.0, accuracy = 0.266667, precision = 0.0, loss = 1.32748\n",
      "INFO:tensorflow:Validation (step 50): recall = 0.0, accuracy = 0.266667, global_step = 1, precision = 0.0, loss = 1.32748\n",
      "INFO:tensorflow:Saving checkpoints for 50 into isis/model_log/model.ckpt.\n",
      "WARNING:tensorflow:float64 is not supported by many models, consider casting to float32.\n",
      "WARNING:tensorflow:Given features: Tensor(\"input:0\", shape=(?, 4), dtype=float64), required signatures: TensorSignature(dtype=tf.float64, shape=TensorShape([Dimension(None), Dimension(4)]), is_sparse=False).\n",
      "WARNING:tensorflow:Given targets: Tensor(\"output:0\", shape=(?,), dtype=int64), required signatures: TensorSignature(dtype=tf.int64, shape=TensorShape([Dimension(None)]), is_sparse=False).\n",
      "INFO:tensorflow:Transforming feature_column _RealValuedColumn(column_name='', dimension=4, default_value=None, dtype=tf.float32)\n",
      "INFO:tensorflow:Restored model from isis/model_log/model.ckpt-50-?????-of-00001\n",
      "INFO:tensorflow:Eval steps [0,inf) for training step 50.\n",
      "INFO:tensorflow:Input iterator is exhausted.\n",
      "INFO:tensorflow:Saving evaluation summary for 50 step: recall = 1.0, accuracy = 0.566667, precision = 1.0, loss = 0.53828\n",
      "INFO:tensorflow:Validation (step 100): recall = 1.0, accuracy = 0.566667, global_step = 50, precision = 1.0, loss = 0.53828\n",
      "INFO:tensorflow:Saving checkpoints for 100 into isis/model_log/model.ckpt.\n",
      "INFO:tensorflow:Step 101: loss = 0.223304\n",
      "WARNING:tensorflow:float64 is not supported by many models, consider casting to float32.\n",
      "WARNING:tensorflow:Given features: Tensor(\"input:0\", shape=(?, 4), dtype=float64), required signatures: TensorSignature(dtype=tf.float64, shape=TensorShape([Dimension(None), Dimension(4)]), is_sparse=False).\n",
      "WARNING:tensorflow:Given targets: Tensor(\"output:0\", shape=(?,), dtype=int64), required signatures: TensorSignature(dtype=tf.int64, shape=TensorShape([Dimension(None)]), is_sparse=False).\n",
      "INFO:tensorflow:Transforming feature_column _RealValuedColumn(column_name='', dimension=4, default_value=None, dtype=tf.float32)\n",
      "INFO:tensorflow:Restored model from isis/model_log/model.ckpt-100-?????-of-00001\n",
      "INFO:tensorflow:Eval steps [0,inf) for training step 100.\n",
      "INFO:tensorflow:Input iterator is exhausted.\n",
      "INFO:tensorflow:Saving evaluation summary for 100 step: recall = 1.0, accuracy = 0.866667, precision = 1.0, loss = 0.302126\n",
      "INFO:tensorflow:Validation (step 150): recall = 1.0, accuracy = 0.866667, global_step = 100, precision = 1.0, loss = 0.302126\n",
      "INFO:tensorflow:Saving checkpoints for 150 into isis/model_log/model.ckpt.\n",
      "WARNING:tensorflow:float64 is not supported by many models, consider casting to float32.\n",
      "WARNING:tensorflow:Given features: Tensor(\"input:0\", shape=(?, 4), dtype=float64), required signatures: TensorSignature(dtype=tf.float64, shape=TensorShape([Dimension(None), Dimension(4)]), is_sparse=False).\n",
      "WARNING:tensorflow:Given targets: Tensor(\"output:0\", shape=(?,), dtype=int64), required signatures: TensorSignature(dtype=tf.int64, shape=TensorShape([Dimension(None)]), is_sparse=False).\n",
      "INFO:tensorflow:Transforming feature_column _RealValuedColumn(column_name='', dimension=4, default_value=None, dtype=tf.float32)\n",
      "INFO:tensorflow:Restored model from isis/model_log/model.ckpt-150-?????-of-00001\n",
      "INFO:tensorflow:Eval steps [0,inf) for training step 150.\n",
      "INFO:tensorflow:Input iterator is exhausted.\n",
      "INFO:tensorflow:Saving evaluation summary for 150 step: recall = 1.0, accuracy = 0.933333, precision = 1.0, loss = 0.182018\n",
      "INFO:tensorflow:Validation (step 200): recall = 1.0, accuracy = 0.933333, global_step = 150, precision = 1.0, loss = 0.182018\n",
      "INFO:tensorflow:Saving checkpoints for 200 into isis/model_log/model.ckpt.\n",
      "INFO:tensorflow:Step 201: loss = 0.12188\n",
      "WARNING:tensorflow:float64 is not supported by many models, consider casting to float32.\n",
      "WARNING:tensorflow:Given features: Tensor(\"input:0\", shape=(?, 4), dtype=float64), required signatures: TensorSignature(dtype=tf.float64, shape=TensorShape([Dimension(None), Dimension(4)]), is_sparse=False).\n",
      "WARNING:tensorflow:Given targets: Tensor(\"output:0\", shape=(?,), dtype=int64), required signatures: TensorSignature(dtype=tf.int64, shape=TensorShape([Dimension(None)]), is_sparse=False).\n",
      "INFO:tensorflow:Transforming feature_column _RealValuedColumn(column_name='', dimension=4, default_value=None, dtype=tf.float32)\n",
      "INFO:tensorflow:Restored model from isis/model_log/model.ckpt-200-?????-of-00001\n",
      "INFO:tensorflow:Eval steps [0,inf) for training step 200.\n",
      "INFO:tensorflow:Input iterator is exhausted.\n",
      "INFO:tensorflow:Saving evaluation summary for 200 step: recall = 1.0, accuracy = 0.966667, precision = 1.0, loss = 0.133797\n",
      "INFO:tensorflow:Validation (step 250): recall = 1.0, accuracy = 0.966667, global_step = 200, precision = 1.0, loss = 0.133797\n",
      "INFO:tensorflow:Saving checkpoints for 250 into isis/model_log/model.ckpt.\n",
      "WARNING:tensorflow:float64 is not supported by many models, consider casting to float32.\n",
      "WARNING:tensorflow:Given features: Tensor(\"input:0\", shape=(?, 4), dtype=float64), required signatures: TensorSignature(dtype=tf.float64, shape=TensorShape([Dimension(None), Dimension(4)]), is_sparse=False).\n",
      "WARNING:tensorflow:Given targets: Tensor(\"output:0\", shape=(?,), dtype=int64), required signatures: TensorSignature(dtype=tf.int64, shape=TensorShape([Dimension(None)]), is_sparse=False).\n",
      "INFO:tensorflow:Transforming feature_column _RealValuedColumn(column_name='', dimension=4, default_value=None, dtype=tf.float32)\n",
      "INFO:tensorflow:Restored model from isis/model_log/model.ckpt-250-?????-of-00001\n",
      "INFO:tensorflow:Eval steps [0,inf) for training step 250.\n",
      "INFO:tensorflow:Input iterator is exhausted.\n",
      "INFO:tensorflow:Saving evaluation summary for 250 step: recall = 1.0, accuracy = 0.966667, precision = 1.0, loss = 0.0974848\n",
      "INFO:tensorflow:Validation (step 300): recall = 1.0, accuracy = 0.966667, global_step = 250, precision = 1.0, loss = 0.0974848\n",
      "INFO:tensorflow:Saving checkpoints for 300 into isis/model_log/model.ckpt.\n",
      "INFO:tensorflow:Step 301: loss = 0.0939378\n",
      "WARNING:tensorflow:float64 is not supported by many models, consider casting to float32.\n",
      "WARNING:tensorflow:Given features: Tensor(\"input:0\", shape=(?, 4), dtype=float64), required signatures: TensorSignature(dtype=tf.float64, shape=TensorShape([Dimension(None), Dimension(4)]), is_sparse=False).\n",
      "WARNING:tensorflow:Given targets: Tensor(\"output:0\", shape=(?,), dtype=int64), required signatures: TensorSignature(dtype=tf.int64, shape=TensorShape([Dimension(None)]), is_sparse=False).\n",
      "INFO:tensorflow:Transforming feature_column _RealValuedColumn(column_name='', dimension=4, default_value=None, dtype=tf.float32)\n",
      "INFO:tensorflow:Restored model from isis/model_log/model.ckpt-300-?????-of-00001\n",
      "INFO:tensorflow:Eval steps [0,inf) for training step 300.\n",
      "INFO:tensorflow:Input iterator is exhausted.\n",
      "INFO:tensorflow:Saving evaluation summary for 300 step: recall = 1.0, accuracy = 0.966667, precision = 1.0, loss = 0.082544\n",
      "INFO:tensorflow:Validation (step 350): recall = 1.0, accuracy = 0.966667, global_step = 300, precision = 1.0, loss = 0.082544\n",
      "INFO:tensorflow:Saving checkpoints for 350 into isis/model_log/model.ckpt.\n",
      "WARNING:tensorflow:float64 is not supported by many models, consider casting to float32.\n",
      "WARNING:tensorflow:Given features: Tensor(\"input:0\", shape=(?, 4), dtype=float64), required signatures: TensorSignature(dtype=tf.float64, shape=TensorShape([Dimension(None), Dimension(4)]), is_sparse=False).\n",
      "WARNING:tensorflow:Given targets: Tensor(\"output:0\", shape=(?,), dtype=int64), required signatures: TensorSignature(dtype=tf.int64, shape=TensorShape([Dimension(None)]), is_sparse=False).\n",
      "INFO:tensorflow:Transforming feature_column _RealValuedColumn(column_name='', dimension=4, default_value=None, dtype=tf.float32)\n",
      "INFO:tensorflow:Restored model from isis/model_log/model.ckpt-350-?????-of-00001\n",
      "INFO:tensorflow:Eval steps [0,inf) for training step 350.\n",
      "INFO:tensorflow:Input iterator is exhausted.\n",
      "INFO:tensorflow:Saving evaluation summary for 350 step: recall = 1.0, accuracy = 1.0, precision = 1.0, loss = 0.0728742\n",
      "INFO:tensorflow:Validation (step 400): recall = 1.0, accuracy = 1.0, global_step = 350, precision = 1.0, loss = 0.0728742\n",
      "INFO:tensorflow:Saving checkpoints for 400 into isis/model_log/model.ckpt.\n",
      "INFO:tensorflow:Step 401: loss = 0.082175\n",
      "WARNING:tensorflow:float64 is not supported by many models, consider casting to float32.\n",
      "WARNING:tensorflow:Given features: Tensor(\"input:0\", shape=(?, 4), dtype=float64), required signatures: TensorSignature(dtype=tf.float64, shape=TensorShape([Dimension(None), Dimension(4)]), is_sparse=False).\n",
      "WARNING:tensorflow:Given targets: Tensor(\"output:0\", shape=(?,), dtype=int64), required signatures: TensorSignature(dtype=tf.int64, shape=TensorShape([Dimension(None)]), is_sparse=False).\n",
      "INFO:tensorflow:Transforming feature_column _RealValuedColumn(column_name='', dimension=4, default_value=None, dtype=tf.float32)\n",
      "INFO:tensorflow:Restored model from isis/model_log/model.ckpt-400-?????-of-00001\n",
      "INFO:tensorflow:Eval steps [0,inf) for training step 400.\n",
      "INFO:tensorflow:Input iterator is exhausted.\n",
      "INFO:tensorflow:Saving evaluation summary for 400 step: recall = 1.0, accuracy = 1.0, precision = 1.0, loss = 0.0658377\n",
      "INFO:tensorflow:Validation (step 450): recall = 1.0, accuracy = 1.0, global_step = 400, precision = 1.0, loss = 0.0658377\n",
      "INFO:tensorflow:Saving checkpoints for 450 into isis/model_log/model.ckpt.\n",
      "WARNING:tensorflow:float64 is not supported by many models, consider casting to float32.\n",
      "WARNING:tensorflow:Given features: Tensor(\"input:0\", shape=(?, 4), dtype=float64), required signatures: TensorSignature(dtype=tf.float64, shape=TensorShape([Dimension(None), Dimension(4)]), is_sparse=False).\n",
      "WARNING:tensorflow:Given targets: Tensor(\"output:0\", shape=(?,), dtype=int64), required signatures: TensorSignature(dtype=tf.int64, shape=TensorShape([Dimension(None)]), is_sparse=False).\n",
      "INFO:tensorflow:Transforming feature_column _RealValuedColumn(column_name='', dimension=4, default_value=None, dtype=tf.float32)\n",
      "INFO:tensorflow:Restored model from isis/model_log/model.ckpt-450-?????-of-00001\n",
      "INFO:tensorflow:Eval steps [0,inf) for training step 450.\n",
      "INFO:tensorflow:Input iterator is exhausted.\n",
      "INFO:tensorflow:Saving evaluation summary for 450 step: recall = 1.0, accuracy = 1.0, precision = 1.0, loss = 0.0610635\n",
      "INFO:tensorflow:Validation (step 500): recall = 1.0, accuracy = 1.0, global_step = 450, precision = 1.0, loss = 0.0610635\n",
      "INFO:tensorflow:Saving checkpoints for 500 into isis/model_log/model.ckpt.\n",
      "INFO:tensorflow:Step 501: loss = 0.0745196\n",
      "WARNING:tensorflow:float64 is not supported by many models, consider casting to float32.\n",
      "WARNING:tensorflow:Given features: Tensor(\"input:0\", shape=(?, 4), dtype=float64), required signatures: TensorSignature(dtype=tf.float64, shape=TensorShape([Dimension(None), Dimension(4)]), is_sparse=False).\n",
      "WARNING:tensorflow:Given targets: Tensor(\"output:0\", shape=(?,), dtype=int64), required signatures: TensorSignature(dtype=tf.int64, shape=TensorShape([Dimension(None)]), is_sparse=False).\n",
      "INFO:tensorflow:Transforming feature_column _RealValuedColumn(column_name='', dimension=4, default_value=None, dtype=tf.float32)\n",
      "INFO:tensorflow:Restored model from isis/model_log/model.ckpt-500-?????-of-00001\n",
      "INFO:tensorflow:Eval steps [0,inf) for training step 500.\n",
      "INFO:tensorflow:Input iterator is exhausted.\n",
      "INFO:tensorflow:Saving evaluation summary for 500 step: recall = 1.0, accuracy = 1.0, precision = 1.0, loss = 0.057237\n",
      "INFO:tensorflow:Validation (step 550): recall = 1.0, accuracy = 1.0, global_step = 500, precision = 1.0, loss = 0.057237\n",
      "INFO:tensorflow:Saving checkpoints for 550 into isis/model_log/model.ckpt.\n",
      "WARNING:tensorflow:float64 is not supported by many models, consider casting to float32.\n",
      "WARNING:tensorflow:Given features: Tensor(\"input:0\", shape=(?, 4), dtype=float64), required signatures: TensorSignature(dtype=tf.float64, shape=TensorShape([Dimension(None), Dimension(4)]), is_sparse=False).\n",
      "WARNING:tensorflow:Given targets: Tensor(\"output:0\", shape=(?,), dtype=int64), required signatures: TensorSignature(dtype=tf.int64, shape=TensorShape([Dimension(None)]), is_sparse=False).\n",
      "INFO:tensorflow:Transforming feature_column _RealValuedColumn(column_name='', dimension=4, default_value=None, dtype=tf.float32)\n",
      "INFO:tensorflow:Restored model from isis/model_log/model.ckpt-550-?????-of-00001\n",
      "INFO:tensorflow:Eval steps [0,inf) for training step 550.\n",
      "INFO:tensorflow:Input iterator is exhausted.\n",
      "INFO:tensorflow:Saving evaluation summary for 550 step: recall = 1.0, accuracy = 0.966667, precision = 1.0, loss = 0.0542681\n",
      "INFO:tensorflow:Validation (step 600): recall = 1.0, accuracy = 0.966667, global_step = 550, precision = 1.0, loss = 0.0542681\n",
      "INFO:tensorflow:Saving checkpoints for 600 into isis/model_log/model.ckpt.\n",
      "INFO:tensorflow:Step 601: loss = 0.0686333\n",
      "WARNING:tensorflow:float64 is not supported by many models, consider casting to float32.\n",
      "WARNING:tensorflow:Given features: Tensor(\"input:0\", shape=(?, 4), dtype=float64), required signatures: TensorSignature(dtype=tf.float64, shape=TensorShape([Dimension(None), Dimension(4)]), is_sparse=False).\n",
      "WARNING:tensorflow:Given targets: Tensor(\"output:0\", shape=(?,), dtype=int64), required signatures: TensorSignature(dtype=tf.int64, shape=TensorShape([Dimension(None)]), is_sparse=False).\n",
      "INFO:tensorflow:Transforming feature_column _RealValuedColumn(column_name='', dimension=4, default_value=None, dtype=tf.float32)\n",
      "INFO:tensorflow:Restored model from isis/model_log/model.ckpt-600-?????-of-00001\n",
      "INFO:tensorflow:Eval steps [0,inf) for training step 600.\n",
      "INFO:tensorflow:Input iterator is exhausted.\n",
      "INFO:tensorflow:Saving evaluation summary for 600 step: recall = 1.0, accuracy = 0.966667, precision = 1.0, loss = 0.0521351\n",
      "INFO:tensorflow:Validation (step 650): recall = 1.0, accuracy = 0.966667, global_step = 600, precision = 1.0, loss = 0.0521351\n",
      "INFO:tensorflow:Saving checkpoints for 650 into isis/model_log/model.ckpt.\n",
      "WARNING:tensorflow:float64 is not supported by many models, consider casting to float32.\n",
      "WARNING:tensorflow:Given features: Tensor(\"input:0\", shape=(?, 4), dtype=float64), required signatures: TensorSignature(dtype=tf.float64, shape=TensorShape([Dimension(None), Dimension(4)]), is_sparse=False).\n",
      "WARNING:tensorflow:Given targets: Tensor(\"output:0\", shape=(?,), dtype=int64), required signatures: TensorSignature(dtype=tf.int64, shape=TensorShape([Dimension(None)]), is_sparse=False).\n",
      "INFO:tensorflow:Transforming feature_column _RealValuedColumn(column_name='', dimension=4, default_value=None, dtype=tf.float32)\n",
      "INFO:tensorflow:Restored model from isis/model_log/model.ckpt-650-?????-of-00001\n",
      "INFO:tensorflow:Eval steps [0,inf) for training step 650.\n",
      "INFO:tensorflow:Input iterator is exhausted.\n",
      "INFO:tensorflow:Saving evaluation summary for 650 step: recall = 1.0, accuracy = 0.966667, precision = 1.0, loss = 0.0504339\n",
      "INFO:tensorflow:Validation (step 700): recall = 1.0, accuracy = 0.966667, global_step = 650, precision = 1.0, loss = 0.0504339\n",
      "INFO:tensorflow:Saving checkpoints for 700 into isis/model_log/model.ckpt.\n",
      "INFO:tensorflow:Step 701: loss = 0.0649534\n",
      "WARNING:tensorflow:float64 is not supported by many models, consider casting to float32.\n",
      "WARNING:tensorflow:Given features: Tensor(\"input:0\", shape=(?, 4), dtype=float64), required signatures: TensorSignature(dtype=tf.float64, shape=TensorShape([Dimension(None), Dimension(4)]), is_sparse=False).\n",
      "WARNING:tensorflow:Given targets: Tensor(\"output:0\", shape=(?,), dtype=int64), required signatures: TensorSignature(dtype=tf.int64, shape=TensorShape([Dimension(None)]), is_sparse=False).\n",
      "INFO:tensorflow:Transforming feature_column _RealValuedColumn(column_name='', dimension=4, default_value=None, dtype=tf.float32)\n",
      "INFO:tensorflow:Restored model from isis/model_log/model.ckpt-700-?????-of-00001\n",
      "INFO:tensorflow:Eval steps [0,inf) for training step 700.\n",
      "INFO:tensorflow:Input iterator is exhausted.\n",
      "INFO:tensorflow:Saving evaluation summary for 700 step: recall = 1.0, accuracy = 1.0, precision = 1.0, loss = 0.0491322\n",
      "INFO:tensorflow:Validation (step 750): recall = 1.0, accuracy = 1.0, global_step = 700, precision = 1.0, loss = 0.0491322\n",
      "INFO:tensorflow:Saving checkpoints for 750 into isis/model_log/model.ckpt.\n",
      "WARNING:tensorflow:float64 is not supported by many models, consider casting to float32.\n",
      "WARNING:tensorflow:Given features: Tensor(\"input:0\", shape=(?, 4), dtype=float64), required signatures: TensorSignature(dtype=tf.float64, shape=TensorShape([Dimension(None), Dimension(4)]), is_sparse=False).\n",
      "WARNING:tensorflow:Given targets: Tensor(\"output:0\", shape=(?,), dtype=int64), required signatures: TensorSignature(dtype=tf.int64, shape=TensorShape([Dimension(None)]), is_sparse=False).\n",
      "INFO:tensorflow:Transforming feature_column _RealValuedColumn(column_name='', dimension=4, default_value=None, dtype=tf.float32)\n",
      "INFO:tensorflow:Restored model from isis/model_log/model.ckpt-750-?????-of-00001\n",
      "INFO:tensorflow:Eval steps [0,inf) for training step 750.\n",
      "INFO:tensorflow:Input iterator is exhausted.\n",
      "INFO:tensorflow:Saving evaluation summary for 750 step: recall = 1.0, accuracy = 0.966667, precision = 1.0, loss = 0.0480988\n",
      "INFO:tensorflow:Validation (step 800): recall = 1.0, accuracy = 0.966667, global_step = 750, precision = 1.0, loss = 0.0480988\n",
      "INFO:tensorflow:Saving checkpoints for 800 into isis/model_log/model.ckpt.\n",
      "INFO:tensorflow:Step 801: loss = 0.060733\n",
      "WARNING:tensorflow:float64 is not supported by many models, consider casting to float32.\n",
      "WARNING:tensorflow:Given features: Tensor(\"input:0\", shape=(?, 4), dtype=float64), required signatures: TensorSignature(dtype=tf.float64, shape=TensorShape([Dimension(None), Dimension(4)]), is_sparse=False).\n",
      "WARNING:tensorflow:Given targets: Tensor(\"output:0\", shape=(?,), dtype=int64), required signatures: TensorSignature(dtype=tf.int64, shape=TensorShape([Dimension(None)]), is_sparse=False).\n",
      "INFO:tensorflow:Transforming feature_column _RealValuedColumn(column_name='', dimension=4, default_value=None, dtype=tf.float32)\n",
      "INFO:tensorflow:Restored model from isis/model_log/model.ckpt-800-?????-of-00001\n",
      "INFO:tensorflow:Eval steps [0,inf) for training step 800.\n",
      "INFO:tensorflow:Input iterator is exhausted.\n",
      "INFO:tensorflow:Saving evaluation summary for 800 step: recall = 1.0, accuracy = 0.966667, precision = 1.0, loss = 0.0476099\n",
      "INFO:tensorflow:Validation (step 850): recall = 1.0, accuracy = 0.966667, global_step = 800, precision = 1.0, loss = 0.0476099\n",
      "INFO:tensorflow:Saving checkpoints for 850 into isis/model_log/model.ckpt.\n",
      "WARNING:tensorflow:float64 is not supported by many models, consider casting to float32.\n",
      "WARNING:tensorflow:Given features: Tensor(\"input:0\", shape=(?, 4), dtype=float64), required signatures: TensorSignature(dtype=tf.float64, shape=TensorShape([Dimension(None), Dimension(4)]), is_sparse=False).\n",
      "WARNING:tensorflow:Given targets: Tensor(\"output:0\", shape=(?,), dtype=int64), required signatures: TensorSignature(dtype=tf.int64, shape=TensorShape([Dimension(None)]), is_sparse=False).\n",
      "INFO:tensorflow:Transforming feature_column _RealValuedColumn(column_name='', dimension=4, default_value=None, dtype=tf.float32)\n",
      "INFO:tensorflow:Restored model from isis/model_log/model.ckpt-850-?????-of-00001\n",
      "INFO:tensorflow:Eval steps [0,inf) for training step 850.\n",
      "INFO:tensorflow:Input iterator is exhausted.\n",
      "INFO:tensorflow:Saving evaluation summary for 850 step: recall = 1.0, accuracy = 0.966667, precision = 1.0, loss = 0.0471589\n",
      "INFO:tensorflow:Validation (step 900): recall = 1.0, accuracy = 0.966667, global_step = 850, precision = 1.0, loss = 0.0471589\n",
      "INFO:tensorflow:Saving checkpoints for 900 into isis/model_log/model.ckpt.\n",
      "INFO:tensorflow:Step 901: loss = 0.0580459\n",
      "WARNING:tensorflow:float64 is not supported by many models, consider casting to float32.\n",
      "WARNING:tensorflow:Given features: Tensor(\"input:0\", shape=(?, 4), dtype=float64), required signatures: TensorSignature(dtype=tf.float64, shape=TensorShape([Dimension(None), Dimension(4)]), is_sparse=False).\n",
      "WARNING:tensorflow:Given targets: Tensor(\"output:0\", shape=(?,), dtype=int64), required signatures: TensorSignature(dtype=tf.int64, shape=TensorShape([Dimension(None)]), is_sparse=False).\n",
      "INFO:tensorflow:Transforming feature_column _RealValuedColumn(column_name='', dimension=4, default_value=None, dtype=tf.float32)\n",
      "INFO:tensorflow:Restored model from isis/model_log/model.ckpt-900-?????-of-00001\n",
      "INFO:tensorflow:Eval steps [0,inf) for training step 900.\n",
      "INFO:tensorflow:Input iterator is exhausted.\n",
      "INFO:tensorflow:Saving evaluation summary for 900 step: recall = 1.0, accuracy = 0.966667, precision = 1.0, loss = 0.0465236\n",
      "INFO:tensorflow:Validation (step 950): recall = 1.0, accuracy = 0.966667, global_step = 900, precision = 1.0, loss = 0.0465236\n",
      "INFO:tensorflow:Saving checkpoints for 950 into isis/model_log/model.ckpt.\n",
      "WARNING:tensorflow:float64 is not supported by many models, consider casting to float32.\n",
      "WARNING:tensorflow:Given features: Tensor(\"input:0\", shape=(?, 4), dtype=float64), required signatures: TensorSignature(dtype=tf.float64, shape=TensorShape([Dimension(None), Dimension(4)]), is_sparse=False).\n",
      "WARNING:tensorflow:Given targets: Tensor(\"output:0\", shape=(?,), dtype=int64), required signatures: TensorSignature(dtype=tf.int64, shape=TensorShape([Dimension(None)]), is_sparse=False).\n",
      "INFO:tensorflow:Transforming feature_column _RealValuedColumn(column_name='', dimension=4, default_value=None, dtype=tf.float32)\n",
      "INFO:tensorflow:Restored model from isis/model_log/model.ckpt-950-?????-of-00001\n",
      "INFO:tensorflow:Eval steps [0,inf) for training step 950.\n",
      "INFO:tensorflow:Input iterator is exhausted.\n",
      "INFO:tensorflow:Saving evaluation summary for 950 step: recall = 1.0, accuracy = 0.966667, precision = 1.0, loss = 0.0459095\n",
      "INFO:tensorflow:Validation (step 1000): recall = 1.0, accuracy = 0.966667, global_step = 950, precision = 1.0, loss = 0.0459095\n",
      "INFO:tensorflow:Saving checkpoints for 1000 into isis/model_log/model.ckpt.\n",
      "INFO:tensorflow:Step 1001: loss = 0.0560701\n",
      "WARNING:tensorflow:float64 is not supported by many models, consider casting to float32.\n",
      "WARNING:tensorflow:Given features: Tensor(\"input:0\", shape=(?, 4), dtype=float64), required signatures: TensorSignature(dtype=tf.float64, shape=TensorShape([Dimension(None), Dimension(4)]), is_sparse=False).\n",
      "WARNING:tensorflow:Given targets: Tensor(\"output:0\", shape=(?,), dtype=int64), required signatures: TensorSignature(dtype=tf.int64, shape=TensorShape([Dimension(None)]), is_sparse=False).\n",
      "INFO:tensorflow:Transforming feature_column _RealValuedColumn(column_name='', dimension=4, default_value=None, dtype=tf.float32)\n",
      "INFO:tensorflow:Restored model from isis/model_log/model.ckpt-1000-?????-of-00001\n",
      "INFO:tensorflow:Eval steps [0,inf) for training step 1000.\n",
      "INFO:tensorflow:Input iterator is exhausted.\n",
      "INFO:tensorflow:Saving evaluation summary for 1000 step: recall = 1.0, accuracy = 0.966667, precision = 1.0, loss = 0.0457872\n",
      "INFO:tensorflow:Validation (step 1050): recall = 1.0, accuracy = 0.966667, global_step = 1000, precision = 1.0, loss = 0.0457872\n",
      "INFO:tensorflow:Saving checkpoints for 1050 into isis/model_log/model.ckpt.\n",
      "WARNING:tensorflow:float64 is not supported by many models, consider casting to float32.\n",
      "WARNING:tensorflow:Given features: Tensor(\"input:0\", shape=(?, 4), dtype=float64), required signatures: TensorSignature(dtype=tf.float64, shape=TensorShape([Dimension(None), Dimension(4)]), is_sparse=False).\n",
      "WARNING:tensorflow:Given targets: Tensor(\"output:0\", shape=(?,), dtype=int64), required signatures: TensorSignature(dtype=tf.int64, shape=TensorShape([Dimension(None)]), is_sparse=False).\n",
      "INFO:tensorflow:Transforming feature_column _RealValuedColumn(column_name='', dimension=4, default_value=None, dtype=tf.float32)\n",
      "INFO:tensorflow:Restored model from isis/model_log/model.ckpt-1050-?????-of-00001\n",
      "INFO:tensorflow:Eval steps [0,inf) for training step 1050.\n",
      "INFO:tensorflow:Input iterator is exhausted.\n",
      "INFO:tensorflow:Saving evaluation summary for 1050 step: recall = 1.0, accuracy = 0.966667, precision = 1.0, loss = 0.0460199\n",
      "INFO:tensorflow:Validation (step 1100): recall = 1.0, accuracy = 0.966667, global_step = 1050, precision = 1.0, loss = 0.0460199\n",
      "INFO:tensorflow:Saving checkpoints for 1100 into isis/model_log/model.ckpt.\n",
      "INFO:tensorflow:Step 1101: loss = 0.0538388\n",
      "WARNING:tensorflow:float64 is not supported by many models, consider casting to float32.\n",
      "WARNING:tensorflow:Given features: Tensor(\"input:0\", shape=(?, 4), dtype=float64), required signatures: TensorSignature(dtype=tf.float64, shape=TensorShape([Dimension(None), Dimension(4)]), is_sparse=False).\n",
      "WARNING:tensorflow:Given targets: Tensor(\"output:0\", shape=(?,), dtype=int64), required signatures: TensorSignature(dtype=tf.int64, shape=TensorShape([Dimension(None)]), is_sparse=False).\n",
      "INFO:tensorflow:Transforming feature_column _RealValuedColumn(column_name='', dimension=4, default_value=None, dtype=tf.float32)\n",
      "INFO:tensorflow:Restored model from isis/model_log/model.ckpt-1100-?????-of-00001\n",
      "INFO:tensorflow:Eval steps [0,inf) for training step 1100.\n",
      "INFO:tensorflow:Input iterator is exhausted.\n",
      "INFO:tensorflow:Saving evaluation summary for 1100 step: recall = 1.0, accuracy = 0.966667, precision = 1.0, loss = 0.0461946\n",
      "INFO:tensorflow:Validation (step 1150): recall = 1.0, accuracy = 0.966667, global_step = 1100, precision = 1.0, loss = 0.0461946\n",
      "INFO:tensorflow:Saving checkpoints for 1150 into isis/model_log/model.ckpt.\n",
      "INFO:tensorflow:Saving checkpoints for 1179 into isis/model_log/model.ckpt.\n",
      "WARNING:tensorflow:float64 is not supported by many models, consider casting to float32.\n",
      "WARNING:tensorflow:Given features: Tensor(\"input:0\", shape=(?, 4), dtype=float64), required signatures: TensorSignature(dtype=tf.float64, shape=TensorShape([Dimension(None), Dimension(4)]), is_sparse=False).\n",
      "WARNING:tensorflow:Given targets: Tensor(\"output:0\", shape=(?,), dtype=int64), required signatures: TensorSignature(dtype=tf.int64, shape=TensorShape([Dimension(None)]), is_sparse=False).\n",
      "INFO:tensorflow:Transforming feature_column _RealValuedColumn(column_name='', dimension=4, default_value=None, dtype=tf.float32)\n",
      "INFO:tensorflow:Restored model from isis/model_log/model.ckpt-1179-?????-of-00001\n",
      "INFO:tensorflow:Eval steps [0,inf) for training step 1179.\n",
      "INFO:tensorflow:Input iterator is exhausted.\n",
      "INFO:tensorflow:Saving evaluation summary for 1179 step: recall = 1.0, accuracy = 0.966667, precision = 1.0, loss = 0.0496186\n",
      "INFO:tensorflow:Validation (step 1200): recall = 1.0, accuracy = 0.966667, global_step = 1179, precision = 1.0, loss = 0.0496186\n",
      "INFO:tensorflow:Saving checkpoints for 1200 into isis/model_log/model.ckpt.\n",
      "INFO:tensorflow:Step 1201: loss = 0.0523873\n",
      "WARNING:tensorflow:float64 is not supported by many models, consider casting to float32.\n",
      "WARNING:tensorflow:Given features: Tensor(\"input:0\", shape=(?, 4), dtype=float64), required signatures: TensorSignature(dtype=tf.float64, shape=TensorShape([Dimension(None), Dimension(4)]), is_sparse=False).\n",
      "WARNING:tensorflow:Given targets: Tensor(\"output:0\", shape=(?,), dtype=int64), required signatures: TensorSignature(dtype=tf.int64, shape=TensorShape([Dimension(None)]), is_sparse=False).\n",
      "INFO:tensorflow:Transforming feature_column _RealValuedColumn(column_name='', dimension=4, default_value=None, dtype=tf.float32)\n",
      "INFO:tensorflow:Restored model from isis/model_log/model.ckpt-1200-?????-of-00001\n",
      "INFO:tensorflow:Eval steps [0,inf) for training step 1200.\n",
      "INFO:tensorflow:Input iterator is exhausted.\n",
      "INFO:tensorflow:Saving evaluation summary for 1200 step: recall = 1.0, accuracy = 0.966667, precision = 1.0, loss = 0.0461359\n",
      "INFO:tensorflow:Validation (step 1250): recall = 1.0, accuracy = 0.966667, global_step = 1200, precision = 1.0, loss = 0.0461359\n",
      "INFO:tensorflow:Stopping. Best step: 1050 with loss = 0.0457872375846.\n",
      "INFO:tensorflow:Saving checkpoints for 1250 into isis/model_log/model.ckpt.\n",
      "INFO:tensorflow:Loss for final step: 0.0517253.\n"
     ]
    },
    {
     "data": {
      "text/plain": [
       "DNNClassifier(hidden_units=[10, 20, 10], dropout=None, optimizer=None, feature_columns=[_RealValuedColumn(column_name='', dimension=4, default_value=None, dtype=tf.float32)])"
      ]
     },
     "execution_count": 5,
     "metadata": {},
     "output_type": "execute_result"
    }
   ],
   "source": [
    "#Customizing the Evaluation Metrics\n",
    "validation_metrics = {\n",
    "    \"accuracy\": tf.contrib.metrics.streaming_accuracy,\n",
    "    \"precision\": tf.contrib.metrics.streaming_precision,\n",
    "    \"recall\": tf.contrib.metrics.streaming_recall\n",
    "}\n",
    "\n",
    "validation_monitor = tf.contrib.learn.monitors.ValidationMonitor(\n",
    "    test_set.data,\n",
    "    test_set.target,\n",
    "    every_n_steps=50,\n",
    "    metrics=validation_metrics,\n",
    "    # Early Stopping with ValidationMonitor\n",
    "    early_stopping_metric=\"loss\",\n",
    "    early_stopping_metric_minimize=True,\n",
    "    early_stopping_rounds=200)\n",
    "\n",
    "classifier.fit(\n",
    "    x=training_set.data,\n",
    "    y=training_set.target,\n",
    "    steps=2000,\n",
    "    monitors=[validation_monitor])"
   ]
  },
  {
   "cell_type": "markdown",
   "metadata": {},
   "source": [
    "**Evaluate Model Accuracy**"
   ]
  },
  {
   "cell_type": "code",
   "execution_count": 6,
   "metadata": {
    "collapsed": false
   },
   "outputs": [
    {
     "name": "stderr",
     "output_type": "stream",
     "text": [
      "WARNING:tensorflow:float64 is not supported by many models, consider casting to float32.\n",
      "WARNING:tensorflow:Given features: Tensor(\"input:0\", shape=(?, 4), dtype=float64), required signatures: TensorSignature(dtype=tf.float64, shape=TensorShape([Dimension(None), Dimension(4)]), is_sparse=False).\n",
      "WARNING:tensorflow:Given targets: Tensor(\"output:0\", shape=(?,), dtype=int64), required signatures: TensorSignature(dtype=tf.int64, shape=TensorShape([Dimension(None)]), is_sparse=False).\n",
      "INFO:tensorflow:Transforming feature_column _RealValuedColumn(column_name='', dimension=4, default_value=None, dtype=tf.float32)\n",
      "INFO:tensorflow:Restored model from isis/model_log/model.ckpt-1250-?????-of-00001\n",
      "INFO:tensorflow:Eval steps [0,inf) for training step 1250.\n",
      "INFO:tensorflow:Input iterator is exhausted.\n",
      "INFO:tensorflow:Saving evaluation summary for 1250 step: loss = 0.0461782, accuracy = 0.966667\n"
     ]
    },
    {
     "name": "stdout",
     "output_type": "stream",
     "text": [
      "Accuracy: 0.966667\n"
     ]
    }
   ],
   "source": [
    "accuracy_score = classifier.evaluate(x=test_set.data,y=test_set.target)['accuracy']\n",
    "print('Accuracy: {0:f}'.format(accuracy_score))"
   ]
  },
  {
   "cell_type": "code",
   "execution_count": 7,
   "metadata": {
    "collapsed": false
   },
   "outputs": [
    {
     "name": "stderr",
     "output_type": "stream",
     "text": [
      "WARNING:tensorflow:float64 is not supported by many models, consider casting to float32.\n",
      "INFO:tensorflow:Transforming feature_column _RealValuedColumn(column_name='', dimension=4, default_value=None, dtype=tf.float32)\n",
      "INFO:tensorflow:Loading model from checkpoint: isis/model_log/model.ckpt-1250-?????-of-00001.\n"
     ]
    },
    {
     "name": "stdout",
     "output_type": "stream",
     "text": [
      "Predictions: [1 2]\n"
     ]
    }
   ],
   "source": [
    "new_samples = np.array([[6.4, 3.2, 4.5, 1.5], [5.8, 3.1, 5.0, 1.7]], dtype=float)\n",
    "y = classifier.predict(new_samples)\n",
    "print('Predictions: {}'.format(str(y)))"
   ]
  }
 ],
 "metadata": {
  "kernelspec": {
   "display_name": "TensorFlow 0.10 (CPU, Python 2)",
   "language": "python",
   "name": "tensorflow-py2"
  },
  "language_info": {
   "codemirror_mode": {
    "name": "ipython",
    "version": 2
   },
   "file_extension": ".py",
   "mimetype": "text/x-python",
   "name": "python",
   "nbconvert_exporter": "python",
   "pygments_lexer": "ipython2",
   "version": "2.7.12"
  }
 },
 "nbformat": 4,
 "nbformat_minor": 1
}
